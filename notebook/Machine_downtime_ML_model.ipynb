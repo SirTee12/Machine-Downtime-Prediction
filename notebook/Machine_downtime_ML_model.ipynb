{
 "cells": [
  {
   "attachments": {},
   "cell_type": "markdown",
   "metadata": {},
   "source": [
    "## Machine Learning Model Development"
   ]
  },
  {
   "cell_type": "code",
   "execution_count": null,
   "metadata": {},
   "outputs": [],
   "source": [
    "# List of time-series features to analyze\n",
    "features = ['Torque(Nm)', 'Hydraulic_Pressure(Pa)', 'Cutting(N)', 'Spindle_Speed(RPS)',\n",
    "            'Coolant_Pressure(Pa)', 'Spindle_Vibration']\n",
    "\n",
    "for feature in features:\n",
    "    stl = STL(machine_monthly[feature], period=12, seasonal = 7).fit()  # Adjust 'period' as needed\n",
    "\n",
    "    fig, (ax1, ax2, ax3) = plt.subplots(nrows=3, ncols=1, figsize=(12, 9), sharex=True)\n",
    "\n",
    "    ax1.plot(stl.trend, label=f'Trend of {feature}', color='blue')\n",
    "    ax1.set_ylabel(f'Trend of {feature}', fontsize=12)\n",
    "\n",
    "    ax2.plot(stl.seasonal, label=f'Seasonality of {feature}', color='green')\n",
    "    ax2.set_ylabel(f'Seasonality of {feature}', fontsize=12)\n",
    "\n",
    "    ax3.plot(stl.resid, label=f'Residual of {feature}', color='red')\n",
    "    ax3.set_ylabel(f'Residual of {feature}', fontsize=12)\n",
    "\n",
    "    fig.suptitle(f'Time Series Decomposition of {feature}', fontsize=14)\n",
    "    plt.tight_layout()\n",
    "    plt.show()"
   ]
  }
 ],
 "metadata": {
  "language_info": {
   "name": "python"
  },
  "orig_nbformat": 4
 },
 "nbformat": 4,
 "nbformat_minor": 2
}
