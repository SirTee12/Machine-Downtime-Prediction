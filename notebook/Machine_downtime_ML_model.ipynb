{
 "cells": [
  {
   "attachments": {},
   "cell_type": "markdown",
   "metadata": {},
   "source": [
    "## Machine Learning Model Development"
   ]
  },
  {
   "attachments": {},
   "cell_type": "markdown",
   "metadata": {},
   "source": [
    "##### Import the necessary libraries "
   ]
  },
  {
   "cell_type": "code",
   "execution_count": 1,
   "metadata": {},
   "outputs": [
    {
     "name": "stderr",
     "output_type": "stream",
     "text": [
      "c:\\Users\\Administrator\\anaconda3\\envs\\machineind\\lib\\site-packages\\tqdm\\auto.py:21: TqdmWarning: IProgress not found. Please update jupyter and ipywidgets. See https://ipywidgets.readthedocs.io/en/stable/user_install.html\n",
      "  from .autonotebook import tqdm as notebook_tqdm\n"
     ]
    }
   ],
   "source": [
    "import pandas as pd\n",
    "import numpy as np\n",
    "from sklearn.model_selection import train_test_split, cross_val_score, StratifiedKFold, StratifiedShuffleSplit,\\\n",
    "                                    cross_val_predict\n",
    "from sklearn.preprocessing import RobustScaler, StandardScaler, LabelEncoder, OneHotEncoder\n",
    "from sklearn.compose import ColumnTransformer\n",
    "from sklearn.pipeline import Pipeline\n",
    "from sklearn.ensemble import RandomForestClassifier, GradientBoostingClassifier\n",
    "from sklearn.linear_model import LogisticRegression\n",
    "from sklearn.svm import SVC\n",
    "from sklearn.tree import DecisionTreeClassifier\n",
    "import xgboost as xgb\n",
    "from sklearn.metrics import accuracy_score, precision_score,\\\n",
    "                            recall_score, f1_score, roc_auc_score\n",
    "                            \n",
    "import matplotlib.pyplot as plt\n",
    "import seaborn as sns\n",
    "from optuna.visualization import plot_param_importances\n",
    "\n",
    "        \n",
    "\n",
    "import optuna"
   ]
  },
  {
   "attachments": {},
   "cell_type": "markdown",
   "metadata": {},
   "source": [
    "###  Some useful Functions"
   ]
  },
  {
   "cell_type": "code",
   "execution_count": 23,
   "metadata": {},
   "outputs": [],
   "source": [
    "def get_feature_importance(model, model_name):\n",
    "    \"\"\"\n",
    "    Extracts and plots feature importance for a trained model.\n",
    "\n",
    "    Parameters:\n",
    "    - model: Trained Pipeline containing the classifier.\n",
    "    - model_name: Name of the model ('Gradient Boosting' or 'XGBoost').\n",
    "    \"\"\"\n",
    "    # Extract classifier from pipeline\n",
    "    classifier = model.named_steps['classifier']\n",
    "    \n",
    "    # Get feature importance values\n",
    "    importance = classifier.feature_importances_\n",
    "    \n",
    "    # Get transformed feature names from the preprocessor\n",
    "    preprocessor = model.named_steps['preprocessor']\n",
    "    \n",
    "    try:\n",
    "        feature_names = preprocessor.get_feature_names_out()\n",
    "    except AttributeError:\n",
    "        feature_names = X_train.columns  # Fallback if `get_feature_names_out` is not available\n",
    "    \n",
    "    # Ensure feature_names and importance lengths match\n",
    "    if len(importance) != len(feature_names):\n",
    "        print(f\"Warning: Mismatch in feature importance length! ({len(importance)} vs {len(feature_names)})\")\n",
    "        feature_names = [f\"Feature {i}\" for i in range(len(importance))]  # Assign generic names\n",
    "    \n",
    "    # Sort feature importance values\n",
    "    sorted_idx = np.argsort(importance)[::-1]\n",
    "    \n",
    "    # Plot feature importance\n",
    "    plt.figure(figsize=(10, 6))\n",
    "    plt.barh(np.array(feature_names)[sorted_idx], importance[sorted_idx])\n",
    "    plt.xlabel(\"Feature Importance\")\n",
    "    plt.ylabel(\"Features\")\n",
    "    plt.title(f\"{model_name} Feature Importance\")\n",
    "    plt.gca().invert_yaxis()\n",
    "    plt.show()\n",
    "    \n",
    "    # Return feature importance as a dictionary\n",
    "    return dict(zip(feature_names, importance))\n",
    "\n",
    "    # Return feature importance as a dictionary\n",
    "    return dict(zip(feature_names, importance))"
   ]
  },
  {
   "cell_type": "code",
   "execution_count": 3,
   "metadata": {},
   "outputs": [],
   "source": [
    "def plot_param_importances_(study_model):\n",
    "    '''\n",
    "    plot the importance of the most important hyperparameter\n",
    "    \n",
    "    study_model: optuna optimized and tuned model\n",
    "    model: str. The model of interest\n",
    "    '''\n",
    "    plotly_config = {\"staticPlot\": True}\n",
    "    fig = plot_param_importances(study_model)\n",
    "    fig.show(config=plotly_config)"
   ]
  },
  {
   "cell_type": "code",
   "execution_count": 4,
   "metadata": {},
   "outputs": [
    {
     "data": {
      "text/html": [
       "<div>\n",
       "<style scoped>\n",
       "    .dataframe tbody tr th:only-of-type {\n",
       "        vertical-align: middle;\n",
       "    }\n",
       "\n",
       "    .dataframe tbody tr th {\n",
       "        vertical-align: top;\n",
       "    }\n",
       "\n",
       "    .dataframe thead th {\n",
       "        text-align: right;\n",
       "    }\n",
       "</style>\n",
       "<table border=\"1\" class=\"dataframe\">\n",
       "  <thead>\n",
       "    <tr style=\"text-align: right;\">\n",
       "      <th></th>\n",
       "      <th>Date</th>\n",
       "      <th>Machine_ID</th>\n",
       "      <th>Assembly_Line_No</th>\n",
       "      <th>Coolant_Temperature</th>\n",
       "      <th>Hydraulic_Oil_Temperature</th>\n",
       "      <th>Spindle_Bearing_Temperature</th>\n",
       "      <th>Spindle_Vibration</th>\n",
       "      <th>Tool_Vibration</th>\n",
       "      <th>Voltage(volts)</th>\n",
       "      <th>Torque(Nm)</th>\n",
       "      <th>Downtime</th>\n",
       "      <th>Hydraulic_Pressure(Pa)</th>\n",
       "      <th>Coolant_Pressure(Pa)</th>\n",
       "      <th>Air_System_Pressure(Pa)</th>\n",
       "      <th>Cutting(N)</th>\n",
       "      <th>Spindle_Speed(RPS)</th>\n",
       "    </tr>\n",
       "  </thead>\n",
       "  <tbody>\n",
       "    <tr>\n",
       "      <th>0</th>\n",
       "      <td>2021-12-08</td>\n",
       "      <td>Makino-L2-Unit1-2015</td>\n",
       "      <td>Shopfloor-L2</td>\n",
       "      <td>4.5</td>\n",
       "      <td>47.9</td>\n",
       "      <td>31.2</td>\n",
       "      <td>1.225</td>\n",
       "      <td>35.214</td>\n",
       "      <td>381.0</td>\n",
       "      <td>23.091903</td>\n",
       "      <td>No_Machine_Failure</td>\n",
       "      <td>14115919.3</td>\n",
       "      <td>513860.1</td>\n",
       "      <td>612765.0</td>\n",
       "      <td>2870.0</td>\n",
       "      <td>253.6</td>\n",
       "    </tr>\n",
       "    <tr>\n",
       "      <th>1</th>\n",
       "      <td>2021-12-17</td>\n",
       "      <td>Makino-L2-Unit1-2015</td>\n",
       "      <td>Shopfloor-L2</td>\n",
       "      <td>21.7</td>\n",
       "      <td>47.5</td>\n",
       "      <td>35.8</td>\n",
       "      <td>1.078</td>\n",
       "      <td>29.198</td>\n",
       "      <td>367.0</td>\n",
       "      <td>31.620335</td>\n",
       "      <td>No_Machine_Failure</td>\n",
       "      <td>7246602.0</td>\n",
       "      <td>514111.3</td>\n",
       "      <td>662932.2</td>\n",
       "      <td>2970.0</td>\n",
       "      <td>295.4</td>\n",
       "    </tr>\n",
       "    <tr>\n",
       "      <th>2</th>\n",
       "      <td>2021-12-17</td>\n",
       "      <td>Makino-L1-Unit1-2013</td>\n",
       "      <td>Shopfloor-L1</td>\n",
       "      <td>5.2</td>\n",
       "      <td>49.4</td>\n",
       "      <td>34.2</td>\n",
       "      <td>1.266</td>\n",
       "      <td>30.206</td>\n",
       "      <td>340.0</td>\n",
       "      <td>15.900716</td>\n",
       "      <td>Machine_Failure</td>\n",
       "      <td>8828000.0</td>\n",
       "      <td>683941.3</td>\n",
       "      <td>656038.1</td>\n",
       "      <td>2700.0</td>\n",
       "      <td>466.0</td>\n",
       "    </tr>\n",
       "    <tr>\n",
       "      <th>3</th>\n",
       "      <td>2021-12-17</td>\n",
       "      <td>Makino-L1-Unit1-2013</td>\n",
       "      <td>Shopfloor-L1</td>\n",
       "      <td>24.4</td>\n",
       "      <td>48.1</td>\n",
       "      <td>36.6</td>\n",
       "      <td>0.778</td>\n",
       "      <td>25.048</td>\n",
       "      <td>307.0</td>\n",
       "      <td>23.923929</td>\n",
       "      <td>Machine_Failure</td>\n",
       "      <td>7454000.0</td>\n",
       "      <td>658019.5</td>\n",
       "      <td>652883.7</td>\n",
       "      <td>3590.0</td>\n",
       "      <td>466.0</td>\n",
       "    </tr>\n",
       "    <tr>\n",
       "      <th>4</th>\n",
       "      <td>2021-12-21</td>\n",
       "      <td>Makino-L2-Unit1-2015</td>\n",
       "      <td>Shopfloor-L2</td>\n",
       "      <td>14.1</td>\n",
       "      <td>51.8</td>\n",
       "      <td>32.4</td>\n",
       "      <td>0.969</td>\n",
       "      <td>31.491</td>\n",
       "      <td>380.0</td>\n",
       "      <td>16.964105</td>\n",
       "      <td>Machine_Failure</td>\n",
       "      <td>5326000.0</td>\n",
       "      <td>683941.3</td>\n",
       "      <td>602069.0</td>\n",
       "      <td>2860.0</td>\n",
       "      <td>460.2</td>\n",
       "    </tr>\n",
       "  </tbody>\n",
       "</table>\n",
       "</div>"
      ],
      "text/plain": [
       "        Date            Machine_ID Assembly_Line_No  Coolant_Temperature  \\\n",
       "0 2021-12-08  Makino-L2-Unit1-2015     Shopfloor-L2                  4.5   \n",
       "1 2021-12-17  Makino-L2-Unit1-2015     Shopfloor-L2                 21.7   \n",
       "2 2021-12-17  Makino-L1-Unit1-2013     Shopfloor-L1                  5.2   \n",
       "3 2021-12-17  Makino-L1-Unit1-2013     Shopfloor-L1                 24.4   \n",
       "4 2021-12-21  Makino-L2-Unit1-2015     Shopfloor-L2                 14.1   \n",
       "\n",
       "   Hydraulic_Oil_Temperature  Spindle_Bearing_Temperature  Spindle_Vibration  \\\n",
       "0                       47.9                         31.2              1.225   \n",
       "1                       47.5                         35.8              1.078   \n",
       "2                       49.4                         34.2              1.266   \n",
       "3                       48.1                         36.6              0.778   \n",
       "4                       51.8                         32.4              0.969   \n",
       "\n",
       "   Tool_Vibration  Voltage(volts)  Torque(Nm)            Downtime  \\\n",
       "0          35.214           381.0   23.091903  No_Machine_Failure   \n",
       "1          29.198           367.0   31.620335  No_Machine_Failure   \n",
       "2          30.206           340.0   15.900716     Machine_Failure   \n",
       "3          25.048           307.0   23.923929     Machine_Failure   \n",
       "4          31.491           380.0   16.964105     Machine_Failure   \n",
       "\n",
       "   Hydraulic_Pressure(Pa)  Coolant_Pressure(Pa)  Air_System_Pressure(Pa)  \\\n",
       "0              14115919.3              513860.1                 612765.0   \n",
       "1               7246602.0              514111.3                 662932.2   \n",
       "2               8828000.0              683941.3                 656038.1   \n",
       "3               7454000.0              658019.5                 652883.7   \n",
       "4               5326000.0              683941.3                 602069.0   \n",
       "\n",
       "   Cutting(N)  Spindle_Speed(RPS)  \n",
       "0      2870.0               253.6  \n",
       "1      2970.0               295.4  \n",
       "2      2700.0               466.0  \n",
       "3      3590.0               466.0  \n",
       "4      2860.0               460.2  "
      ]
     },
     "execution_count": 4,
     "metadata": {},
     "output_type": "execute_result"
    }
   ],
   "source": [
    "# load the dataset\n",
    "machine = pd.read_csv(\"../data/machine_downtime_cleaned.csv\", parse_dates=['Date'])\n",
    "\n",
    "# make a copy of the data \n",
    "machine_ori = machine.copy()\n",
    "# print the first few rows\n",
    "machine.head()"
   ]
  },
  {
   "attachments": {},
   "cell_type": "markdown",
   "metadata": {},
   "source": [
    "### Preprocessing\n",
    "\n",
    "we have to divide the numeric columns into those that are skewed and those that are normal in order to be able to apply the necessary standardization or normalization to avoid bias"
   ]
  },
  {
   "cell_type": "code",
   "execution_count": 5,
   "metadata": {},
   "outputs": [
    {
     "name": "stdout",
     "output_type": "stream",
     "text": [
      "Coolant_Temperature: Skewness = -0.22, Kurtosis = -1.35 (Not Normally Distributed)\n",
      "Hydraulic_Oil_Temperature: Skewness = -0.00, Kurtosis = 0.05 (Approximately Normal)\n",
      "Spindle_Bearing_Temperature: Skewness = -0.03, Kurtosis = -0.05 (Approximately Normal)\n",
      "Spindle_Vibration: Skewness = 0.03, Kurtosis = -0.11 (Approximately Normal)\n",
      "Tool_Vibration: Skewness = -0.06, Kurtosis = 0.01 (Approximately Normal)\n",
      "Voltage(volts): Skewness = -0.03, Kurtosis = -0.09 (Approximately Normal)\n",
      "Torque(Nm): Skewness = 0.03, Kurtosis = -0.46 (Not Normally Distributed)\n",
      "Hydraulic_Pressure(Pa): Skewness = 0.21, Kurtosis = -0.98 (Not Normally Distributed)\n",
      "Coolant_Pressure(Pa): Skewness = -0.01, Kurtosis = -0.13 (Approximately Normal)\n",
      "Air_System_Pressure(Pa): Skewness = -0.05, Kurtosis = 0.01 (Approximately Normal)\n",
      "Cutting(N): Skewness = 0.12, Kurtosis = -1.09 (Not Normally Distributed)\n",
      "Spindle_Speed(RPS): Skewness = 0.22, Kurtosis = -0.45 (Not Normally Distributed)\n"
     ]
    }
   ],
   "source": [
    "# create an empty list to store columns that are normally or\n",
    "# skewly distributed\n",
    "normal_cols = []\n",
    "skewed_cols = []\n",
    "\n",
    "# loop through the numerical features\n",
    "for col in machine_ori.select_dtypes(include=np.number):\n",
    "    skewness = machine_ori[col].skew()\n",
    "    kurtosis = machine_ori[col].kurt()\n",
    "\n",
    "    # set a threshold for kurtosis and skewness and then append the necessary features\n",
    "    if -0.2 <= skewness <= 0.3 and -0.2 <= kurtosis <= 0.2:  # Adjust thresholds as needed\n",
    "        normal_cols.append(col)\n",
    "        print(f\"{col}: Skewness = {skewness:.2f}, Kurtosis = {kurtosis:.2f} (Approximately Normal)\")\n",
    "    else:\n",
    "        skewed_cols.append(col)\n",
    "        print(f\"{col}: Skewness = {skewness:.2f}, Kurtosis = {kurtosis:.2f} (Not Normally Distributed)\")\n"
   ]
  },
  {
   "attachments": {},
   "cell_type": "markdown",
   "metadata": {},
   "source": [
    "### Model Parameters Preparation"
   ]
  },
  {
   "cell_type": "code",
   "execution_count": 6,
   "metadata": {},
   "outputs": [],
   "source": [
    "# Define target and features\n",
    "X = machine_ori.drop(columns=[\"Downtime\", \"Date\", \"Assembly_Line_No\"])  # Features\n",
    "\n",
    "# define encoder\n",
    "label_encode = LabelEncoder()\n",
    "y = label_encode.fit_transform(machine_ori[\"Downtime\"])  # Target variable\n",
    "\n",
    "# Identify numerical and categorical columns\n",
    "numerical_cols = X.select_dtypes(include=['float64', 'int64']).columns\n",
    "category_col = X.select_dtypes(include=['object']).columns\n",
    "\n",
    "# Define transformers\n",
    "preprocessor = ColumnTransformer([\n",
    "    (\"robust\", RobustScaler(), skewed_cols),  # Skewed data\n",
    "    (\"standard\", StandardScaler(), normal_cols),  # Normal data \n",
    "    ('one-hot-encoder', OneHotEncoder(), category_col) # Machine_ID column\n",
    "])\n",
    "\n",
    "# Train-test split\n",
    "# Step 1: Split into Train (60%), Validation (20%), Test (20%)\n",
    "X_train_val, X_test, y_train_val, y_test = train_test_split(X, y, test_size=0.2, stratify=y, random_state=42)\n",
    "X_train, X_val, y_train, y_val = train_test_split(X_train_val, y_train_val, test_size=0.25, stratify=y_train_val, random_state=42)\n",
    "\n",
    "# Define models\n",
    "models = {\n",
    "    \"Bayesian Logistic Regression\": LogisticRegression(solver=\"lbfgs\"),\n",
    "    \"Random Forest\": RandomForestClassifier(n_estimators=100, random_state=42),\n",
    "    \"Gradient Boosting\": GradientBoostingClassifier(n_estimators=100, random_state=42),\n",
    "    \"Decision Tree\": DecisionTreeClassifier(random_state=42),\n",
    "    \"SVM\": SVC(kernel=\"rbf\", probability=True, random_state=42),\n",
    "    \"XGBoost\": xgb.XGBClassifier(eval_metric=\"auc\", random_state = 42)\n",
    "}\n"
   ]
  },
  {
   "attachments": {},
   "cell_type": "markdown",
   "metadata": {},
   "source": [
    "### Train the model \n",
    "#### Cross Validation\n",
    "\n",
    "Since our problem is a classification task, Stratified K-Fold (StratifiedKFold) will be use for the cross validation. \n",
    "\n",
    "Why Use Stratified K-Fold?\n",
    "\n",
    "+ Preserves Class Distribution: Stratified K-Fold ensures that each fold maintains the same proportion of classes as the overall dataset, which is crucial when dealing with classification problems, even if there is no visible class imbalance.\n",
    "+ More Reliable Performance Estimates: It provides a more stable and representative estimate of your model’s performance compared to ShuffleSplit, which may produce folds with different class distributions.\n",
    "+ Better Generalization: Ensures that all classes are well represented in training and validation splits, reducing the risk of biased results.\n",
    "\n",
    "**Key Performance Metrics and Their Meaning**\n",
    "\n",
    "+ Precision: Measures how many of the predicted failures were actually failures. A high precision means fewer false positives.\n",
    "+ Recall: Measures how many of the actual failures were correctly identified. A high recall means fewer false negatives.\n",
    "+ F1-Score: Harmonic mean of precision and recall, balancing both. Higher is better.\n",
    "+ ROC AUC: Measures the model’s ability to distinguish between classes. A value closer to 1 is better."
   ]
  },
  {
   "cell_type": "code",
   "execution_count": 7,
   "metadata": {},
   "outputs": [],
   "source": [
    "# craete an empty list to store model result\n",
    "model_results = []\n",
    "\n",
    "# Initialize Stratified K-Fold\n",
    "cv = StratifiedKFold(n_splits=5, shuffle=True, random_state=42)\n",
    "\n",
    "for name, model in models.items():\n",
    "    precision_scores, recall_scores, f1_scores, roc_auc_scores = [], [], [], []\n",
    "\n",
    "    for train_index, val_index in cv.split(X_train_val, y_train_val):\n",
    "        X_train_fold, X_val_fold = X_train_val.iloc[train_index], X_train_val.iloc[val_index]\n",
    "        y_train_fold, y_val_fold = y_train_val[train_index], y_train_val[val_index]\n",
    "\n",
    "        # Create a pipeline\n",
    "        pipeline = Pipeline([\n",
    "            ('preprocessor', preprocessor),\n",
    "            ('classifier', model)\n",
    "        ])\n",
    "\n",
    "        # Train the model\n",
    "        pipeline.fit(X_train_fold, y_train_fold)\n",
    "\n",
    "        # Make predictions\n",
    "        y_pred = pipeline.predict(X_val_fold)\n",
    "        y_prob = pipeline.predict_proba(X_val_fold)[:, 1] if hasattr(model, 'predict_proba') else None\n",
    "\n",
    "        # Evaluate Metrics\n",
    "        precision_scores.append(precision_score(y_val_fold, y_pred))\n",
    "        recall_scores.append(recall_score(y_val_fold, y_pred))\n",
    "        f1_scores.append(f1_score(y_val_fold, y_pred))\n",
    "        roc_auc_scores.append(roc_auc_score(y_val_fold, y_prob) if y_prob is not None else np.nan)\n",
    "\n",
    "    # Compute mean scores across folds\n",
    "    mean_precision = np.mean(precision_scores)\n",
    "    mean_recall = np.mean(recall_scores)\n",
    "    mean_f1 = np.mean(f1_scores)\n",
    "    mean_roc_auc = np.nanmean(roc_auc_scores)\n",
    "\n",
    "    # Append results\n",
    "    model_results.append({\n",
    "        \"Model\": name,\n",
    "        \"Precision\": round(mean_precision, 4),\n",
    "        \"Recall\": round(mean_recall, 4),\n",
    "        \"F1-Score\": round(mean_f1, 4),\n",
    "        \"ROC AUC\": round(mean_roc_auc, 4)\n",
    "    })\n",
    "\n",
    "\n",
    "# Convert results to DataFrame\n",
    "model_results_df = pd.DataFrame(model_results)"
   ]
  },
  {
   "attachments": {},
   "cell_type": "markdown",
   "metadata": {},
   "source": [
    "### Model Performance and Best Result\n",
    "\n",
    "**Model Performance Interpretation**\n",
    "\n",
    "1. XGBoost (0.9993 ROC AUC, 0.9919 F1-Score)\n",
    "> + Remains a top performer with exceptional discrimination ability (ROC AUC) and a near-perfect balance of precision and recall (F1-Score).\n",
    "> + It's likely to generalize well to the test set.\n",
    "\n",
    "2. Random Forest (0.9990 ROC AUC, 0.9858 F1-Score)\n",
    "> + Also demonstrates excellent performance, very close to XGBoost.\n",
    "> + If interpretability is crucial, it might be preferable.\n",
    "\n",
    "3. Gradient Boosting (0.9991 ROC AUC, 0.9919 F1-Score)\n",
    "> + Achieves top-tier performance, comparable to XGBoost, with a slight edge in recall.\n",
    "\n",
    "4. Decision Tree (0.9694 ROC AUC, 0.9692 F1-Score)\n",
    "> + Shows good performance but falls short compared to the ensemble methods (XGBoost, Random Forest, Gradient Boosting).\n",
    "\n",
    "5. SVM (0.9439 ROC AUC, 0.8779 F1-Score)\n",
    "> + Exhibits decent performance but is outperformed by the ensemble models.\n",
    "\n",
    "6. Bayesian Logistic Regression (0.9292 ROC AUC, 0.8625 F1-Score)\n",
    "> + Shows moderate performance, lagging behind the other models.\n",
    "\n",
    "**Observations**\n",
    "> + Ensemble methods (XGBoost, Random Forest, Gradient Boosting) consistently outperform the single models (Decision Tree, SVM, Bayesian Logistic Regression).\n",
    "> + XGBoost, Random Forest, and Gradient Boosting have shown remarkable performance, with very high ROC AUC and F1-Scores."
   ]
  },
  {
   "cell_type": "code",
   "execution_count": 8,
   "metadata": {},
   "outputs": [
    {
     "data": {
      "text/html": [
       "<div>\n",
       "<style scoped>\n",
       "    .dataframe tbody tr th:only-of-type {\n",
       "        vertical-align: middle;\n",
       "    }\n",
       "\n",
       "    .dataframe tbody tr th {\n",
       "        vertical-align: top;\n",
       "    }\n",
       "\n",
       "    .dataframe thead th {\n",
       "        text-align: right;\n",
       "    }\n",
       "</style>\n",
       "<table border=\"1\" class=\"dataframe\">\n",
       "  <thead>\n",
       "    <tr style=\"text-align: right;\">\n",
       "      <th></th>\n",
       "      <th>Model</th>\n",
       "      <th>Precision</th>\n",
       "      <th>Recall</th>\n",
       "      <th>F1-Score</th>\n",
       "      <th>ROC AUC</th>\n",
       "    </tr>\n",
       "  </thead>\n",
       "  <tbody>\n",
       "    <tr>\n",
       "      <th>0</th>\n",
       "      <td>Bayesian Logistic Regression</td>\n",
       "      <td>0.8650</td>\n",
       "      <td>0.8607</td>\n",
       "      <td>0.8625</td>\n",
       "      <td>0.9292</td>\n",
       "    </tr>\n",
       "    <tr>\n",
       "      <th>1</th>\n",
       "      <td>Random Forest</td>\n",
       "      <td>0.9809</td>\n",
       "      <td>0.9908</td>\n",
       "      <td>0.9858</td>\n",
       "      <td>0.9990</td>\n",
       "    </tr>\n",
       "    <tr>\n",
       "      <th>2</th>\n",
       "      <td>Gradient Boosting</td>\n",
       "      <td>0.9889</td>\n",
       "      <td>0.9949</td>\n",
       "      <td>0.9919</td>\n",
       "      <td>0.9991</td>\n",
       "    </tr>\n",
       "    <tr>\n",
       "      <th>3</th>\n",
       "      <td>Decision Tree</td>\n",
       "      <td>0.9630</td>\n",
       "      <td>0.9756</td>\n",
       "      <td>0.9692</td>\n",
       "      <td>0.9694</td>\n",
       "    </tr>\n",
       "    <tr>\n",
       "      <th>4</th>\n",
       "      <td>SVM</td>\n",
       "      <td>0.8799</td>\n",
       "      <td>0.8760</td>\n",
       "      <td>0.8779</td>\n",
       "      <td>0.9439</td>\n",
       "    </tr>\n",
       "    <tr>\n",
       "      <th>5</th>\n",
       "      <td>XGBoost</td>\n",
       "      <td>0.9909</td>\n",
       "      <td>0.9929</td>\n",
       "      <td>0.9919</td>\n",
       "      <td>0.9993</td>\n",
       "    </tr>\n",
       "  </tbody>\n",
       "</table>\n",
       "</div>"
      ],
      "text/plain": [
       "                          Model  Precision  Recall  F1-Score  ROC AUC\n",
       "0  Bayesian Logistic Regression     0.8650  0.8607    0.8625   0.9292\n",
       "1                 Random Forest     0.9809  0.9908    0.9858   0.9990\n",
       "2             Gradient Boosting     0.9889  0.9949    0.9919   0.9991\n",
       "3                 Decision Tree     0.9630  0.9756    0.9692   0.9694\n",
       "4                           SVM     0.8799  0.8760    0.8779   0.9439\n",
       "5                       XGBoost     0.9909  0.9929    0.9919   0.9993"
      ]
     },
     "execution_count": 8,
     "metadata": {},
     "output_type": "execute_result"
    }
   ],
   "source": [
    "model_results_df.head(10)"
   ]
  },
  {
   "attachments": {},
   "cell_type": "markdown",
   "metadata": {},
   "source": [
    "### Hyperparameter Tuning "
   ]
  },
  {
   "cell_type": "code",
   "execution_count": 15,
   "metadata": {},
   "outputs": [
    {
     "name": "stderr",
     "output_type": "stream",
     "text": [
      "[I 2025-03-02 18:31:07,898] A new study created in memory with name: no-name-17b7ad18-92a0-468a-b311-7264a8edad9d\n",
      "C:\\Users\\Administrator\\AppData\\Local\\Temp\\ipykernel_3276\\4092580619.py:31: FutureWarning: suggest_loguniform has been deprecated in v3.0.0. This feature will be removed in v6.0.0. See https://github.com/optuna/optuna/releases/tag/v3.0.0. Use suggest_float(..., log=True) instead.\n",
      "  'learning_rate': trial.suggest_loguniform('learning_rate', 0.01, 0.3),\n",
      "[I 2025-03-02 18:31:08,356] Trial 0 finished with value: 0.988278470766415 and parameters: {'n_estimators': 150, 'max_depth': 12, 'learning_rate': 0.06991102244913713, 'subsample': 0.8037053758657516, 'colsample_bytree': 0.832253805088449, 'gamma': 3.6368572757653874, 'reg_alpha': 8.190019376920393, 'reg_lambda': 3.4901024829099034}. Best is trial 0 with value: 0.988278470766415.\n",
      "C:\\Users\\Administrator\\AppData\\Local\\Temp\\ipykernel_3276\\4092580619.py:31: FutureWarning: suggest_loguniform has been deprecated in v3.0.0. This feature will be removed in v6.0.0. See https://github.com/optuna/optuna/releases/tag/v3.0.0. Use suggest_float(..., log=True) instead.\n",
      "  'learning_rate': trial.suggest_loguniform('learning_rate', 0.01, 0.3),\n",
      "[I 2025-03-02 18:31:08,891] Trial 1 finished with value: 0.9908686625700931 and parameters: {'n_estimators': 300, 'max_depth': 6, 'learning_rate': 0.25691090989865584, 'subsample': 0.7561559714659642, 'colsample_bytree': 0.7981815555238745, 'gamma': 0.9310229380162061, 'reg_alpha': 2.787618550575944, 'reg_lambda': 0.2518454807412296}. Best is trial 1 with value: 0.9908686625700931.\n",
      "C:\\Users\\Administrator\\AppData\\Local\\Temp\\ipykernel_3276\\4092580619.py:31: FutureWarning: suggest_loguniform has been deprecated in v3.0.0. This feature will be removed in v6.0.0. See https://github.com/optuna/optuna/releases/tag/v3.0.0. Use suggest_float(..., log=True) instead.\n",
      "  'learning_rate': trial.suggest_loguniform('learning_rate', 0.01, 0.3),\n",
      "[I 2025-03-02 18:31:09,567] Trial 2 finished with value: 0.9866019195700495 and parameters: {'n_estimators': 500, 'max_depth': 11, 'learning_rate': 0.16327981652041806, 'subsample': 0.7620066706691343, 'colsample_bytree': 0.6317019035968919, 'gamma': 7.459634303364771, 'reg_alpha': 9.3238350038999, 'reg_lambda': 9.455191169401097}. Best is trial 1 with value: 0.9908686625700931.\n",
      "C:\\Users\\Administrator\\AppData\\Local\\Temp\\ipykernel_3276\\4092580619.py:31: FutureWarning: suggest_loguniform has been deprecated in v3.0.0. This feature will be removed in v6.0.0. See https://github.com/optuna/optuna/releases/tag/v3.0.0. Use suggest_float(..., log=True) instead.\n",
      "  'learning_rate': trial.suggest_loguniform('learning_rate', 0.01, 0.3),\n",
      "[I 2025-03-02 18:31:10,535] Trial 3 finished with value: 0.9878361006948216 and parameters: {'n_estimators': 400, 'max_depth': 4, 'learning_rate': 0.010166219990796404, 'subsample': 0.8563009205895443, 'colsample_bytree': 0.7899090279008663, 'gamma': 5.554207700449963, 'reg_alpha': 4.1557373548475995, 'reg_lambda': 0.5602442509577832}. Best is trial 1 with value: 0.9908686625700931.\n",
      "C:\\Users\\Administrator\\AppData\\Local\\Temp\\ipykernel_3276\\4092580619.py:31: FutureWarning: suggest_loguniform has been deprecated in v3.0.0. This feature will be removed in v6.0.0. See https://github.com/optuna/optuna/releases/tag/v3.0.0. Use suggest_float(..., log=True) instead.\n",
      "  'learning_rate': trial.suggest_loguniform('learning_rate', 0.01, 0.3),\n",
      "[I 2025-03-02 18:31:11,009] Trial 4 finished with value: 0.9878535220281344 and parameters: {'n_estimators': 150, 'max_depth': 6, 'learning_rate': 0.17808556381391183, 'subsample': 0.8158865967306627, 'colsample_bytree': 0.8998328295175397, 'gamma': 3.427101458666689, 'reg_alpha': 1.6528664601713905, 'reg_lambda': 4.917720469673466}. Best is trial 1 with value: 0.9908686625700931.\n",
      "C:\\Users\\Administrator\\AppData\\Local\\Temp\\ipykernel_3276\\4092580619.py:31: FutureWarning: suggest_loguniform has been deprecated in v3.0.0. This feature will be removed in v6.0.0. See https://github.com/optuna/optuna/releases/tag/v3.0.0. Use suggest_float(..., log=True) instead.\n",
      "  'learning_rate': trial.suggest_loguniform('learning_rate', 0.01, 0.3),\n",
      "[I 2025-03-02 18:31:11,665] Trial 5 finished with value: 0.9878059563458466 and parameters: {'n_estimators': 450, 'max_depth': 5, 'learning_rate': 0.09860098040924375, 'subsample': 0.9564113396917032, 'colsample_bytree': 0.7096186459774014, 'gamma': 5.116563759230926, 'reg_alpha': 4.488864396753717, 'reg_lambda': 3.342345412232073}. Best is trial 1 with value: 0.9908686625700931.\n",
      "C:\\Users\\Administrator\\AppData\\Local\\Temp\\ipykernel_3276\\4092580619.py:31: FutureWarning: suggest_loguniform has been deprecated in v3.0.0. This feature will be removed in v6.0.0. See https://github.com/optuna/optuna/releases/tag/v3.0.0. Use suggest_float(..., log=True) instead.\n",
      "  'learning_rate': trial.suggest_loguniform('learning_rate', 0.01, 0.3),\n",
      "[I 2025-03-02 18:31:12,325] Trial 6 finished with value: 0.9884132931080809 and parameters: {'n_estimators': 350, 'max_depth': 5, 'learning_rate': 0.03667671673051232, 'subsample': 0.6793533505953135, 'colsample_bytree': 0.6301379383646682, 'gamma': 6.392546483448905, 'reg_alpha': 0.06842713954980262, 'reg_lambda': 4.474794896661013}. Best is trial 1 with value: 0.9908686625700931.\n",
      "C:\\Users\\Administrator\\AppData\\Local\\Temp\\ipykernel_3276\\4092580619.py:31: FutureWarning: suggest_loguniform has been deprecated in v3.0.0. This feature will be removed in v6.0.0. See https://github.com/optuna/optuna/releases/tag/v3.0.0. Use suggest_float(..., log=True) instead.\n",
      "  'learning_rate': trial.suggest_loguniform('learning_rate', 0.01, 0.3),\n",
      "[I 2025-03-02 18:31:13,099] Trial 7 finished with value: 0.9838452827764559 and parameters: {'n_estimators': 200, 'max_depth': 12, 'learning_rate': 0.014149937960290633, 'subsample': 0.9916567017589213, 'colsample_bytree': 0.9731885642533351, 'gamma': 3.999802104639042, 'reg_alpha': 1.7593497679163017, 'reg_lambda': 3.323406197623994}. Best is trial 1 with value: 0.9908686625700931.\n",
      "C:\\Users\\Administrator\\AppData\\Local\\Temp\\ipykernel_3276\\4092580619.py:31: FutureWarning: suggest_loguniform has been deprecated in v3.0.0. This feature will be removed in v6.0.0. See https://github.com/optuna/optuna/releases/tag/v3.0.0. Use suggest_float(..., log=True) instead.\n",
      "  'learning_rate': trial.suggest_loguniform('learning_rate', 0.01, 0.3),\n",
      "[I 2025-03-02 18:31:13,878] Trial 8 finished with value: 0.987320219615837 and parameters: {'n_estimators': 500, 'max_depth': 10, 'learning_rate': 0.10377412185364612, 'subsample': 0.9071265667023676, 'colsample_bytree': 0.9985756099162975, 'gamma': 2.877456581900245, 'reg_alpha': 3.3627914918116875, 'reg_lambda': 6.6079085728788876}. Best is trial 1 with value: 0.9908686625700931.\n",
      "C:\\Users\\Administrator\\AppData\\Local\\Temp\\ipykernel_3276\\4092580619.py:31: FutureWarning: suggest_loguniform has been deprecated in v3.0.0. This feature will be removed in v6.0.0. See https://github.com/optuna/optuna/releases/tag/v3.0.0. Use suggest_float(..., log=True) instead.\n",
      "  'learning_rate': trial.suggest_loguniform('learning_rate', 0.01, 0.3),\n",
      "[I 2025-03-02 18:31:14,539] Trial 9 finished with value: 0.9903827522462619 and parameters: {'n_estimators': 300, 'max_depth': 7, 'learning_rate': 0.054505275235278795, 'subsample': 0.8568841355119137, 'colsample_bytree': 0.8622468045265106, 'gamma': 1.2452786252336034, 'reg_alpha': 1.0641368725187283, 'reg_lambda': 0.4472858394252499}. Best is trial 1 with value: 0.9908686625700931.\n",
      "C:\\Users\\Administrator\\AppData\\Local\\Temp\\ipykernel_3276\\4092580619.py:31: FutureWarning: suggest_loguniform has been deprecated in v3.0.0. This feature will be removed in v6.0.0. See https://github.com/optuna/optuna/releases/tag/v3.0.0. Use suggest_float(..., log=True) instead.\n",
      "  'learning_rate': trial.suggest_loguniform('learning_rate', 0.01, 0.3),\n",
      "[I 2025-03-02 18:31:15,044] Trial 10 finished with value: 0.9898317617965923 and parameters: {'n_estimators': 250, 'max_depth': 9, 'learning_rate': 0.22350965863631042, 'subsample': 0.6159525373989407, 'colsample_bytree': 0.7508575682046941, 'gamma': 0.34841413200298954, 'reg_alpha': 6.7267059841809, 'reg_lambda': 7.730584005579939}. Best is trial 1 with value: 0.9908686625700931.\n",
      "C:\\Users\\Administrator\\AppData\\Local\\Temp\\ipykernel_3276\\4092580619.py:31: FutureWarning: suggest_loguniform has been deprecated in v3.0.0. This feature will be removed in v6.0.0. See https://github.com/optuna/optuna/releases/tag/v3.0.0. Use suggest_float(..., log=True) instead.\n",
      "  'learning_rate': trial.suggest_loguniform('learning_rate', 0.01, 0.3),\n",
      "[I 2025-03-02 18:31:15,931] Trial 11 finished with value: 0.9903579470315323 and parameters: {'n_estimators': 300, 'max_depth': 7, 'learning_rate': 0.03618751983063408, 'subsample': 0.71259537328853, 'colsample_bytree': 0.8850371631703733, 'gamma': 0.16478949841144064, 'reg_alpha': 2.3494292725671255, 'reg_lambda': 0.030648853371529478}. Best is trial 1 with value: 0.9908686625700931.\n",
      "C:\\Users\\Administrator\\AppData\\Local\\Temp\\ipykernel_3276\\4092580619.py:31: FutureWarning: suggest_loguniform has been deprecated in v3.0.0. This feature will be removed in v6.0.0. See https://github.com/optuna/optuna/releases/tag/v3.0.0. Use suggest_float(..., log=True) instead.\n",
      "  'learning_rate': trial.suggest_loguniform('learning_rate', 0.01, 0.3),\n",
      "[I 2025-03-02 18:31:16,554] Trial 12 finished with value: 0.9878162605573901 and parameters: {'n_estimators': 300, 'max_depth': 8, 'learning_rate': 0.03433175361889217, 'subsample': 0.872393943112417, 'colsample_bytree': 0.8550063420398836, 'gamma': 9.712704367355936, 'reg_alpha': 0.34736375274577536, 'reg_lambda': 1.7299116473344218}. Best is trial 1 with value: 0.9908686625700931.\n",
      "C:\\Users\\Administrator\\AppData\\Local\\Temp\\ipykernel_3276\\4092580619.py:31: FutureWarning: suggest_loguniform has been deprecated in v3.0.0. This feature will be removed in v6.0.0. See https://github.com/optuna/optuna/releases/tag/v3.0.0. Use suggest_float(..., log=True) instead.\n",
      "  'learning_rate': trial.suggest_loguniform('learning_rate', 0.01, 0.3),\n",
      "[I 2025-03-02 18:31:17,121] Trial 13 finished with value: 0.9873509858521456 and parameters: {'n_estimators': 350, 'max_depth': 3, 'learning_rate': 0.29589595727801177, 'subsample': 0.7441938720143495, 'colsample_bytree': 0.921819907369817, 'gamma': 1.9286084617385446, 'reg_alpha': 6.273934529966221, 'reg_lambda': 1.689061303294473}. Best is trial 1 with value: 0.9908686625700931.\n",
      "C:\\Users\\Administrator\\AppData\\Local\\Temp\\ipykernel_3276\\4092580619.py:31: FutureWarning: suggest_loguniform has been deprecated in v3.0.0. This feature will be removed in v6.0.0. See https://github.com/optuna/optuna/releases/tag/v3.0.0. Use suggest_float(..., log=True) instead.\n",
      "  'learning_rate': trial.suggest_loguniform('learning_rate', 0.01, 0.3),\n",
      "[I 2025-03-02 18:31:17,902] Trial 14 finished with value: 0.9884103157878987 and parameters: {'n_estimators': 250, 'max_depth': 7, 'learning_rate': 0.020647651140492308, 'subsample': 0.6579645848514771, 'colsample_bytree': 0.7803089461609145, 'gamma': 1.4620814975900271, 'reg_alpha': 2.657610125192931, 'reg_lambda': 1.4431943982334152}. Best is trial 1 with value: 0.9908686625700931.\n",
      "C:\\Users\\Administrator\\AppData\\Local\\Temp\\ipykernel_3276\\4092580619.py:31: FutureWarning: suggest_loguniform has been deprecated in v3.0.0. This feature will be removed in v6.0.0. See https://github.com/optuna/optuna/releases/tag/v3.0.0. Use suggest_float(..., log=True) instead.\n",
      "  'learning_rate': trial.suggest_loguniform('learning_rate', 0.01, 0.3),\n",
      "[I 2025-03-02 18:31:18,371] Trial 15 finished with value: 0.990427699198005 and parameters: {'n_estimators': 100, 'max_depth': 8, 'learning_rate': 0.057898230972716014, 'subsample': 0.8393478527964268, 'colsample_bytree': 0.7197751821856373, 'gamma': 1.7401820373332488, 'reg_alpha': 1.0341008119834467, 'reg_lambda': 2.068148158085455}. Best is trial 1 with value: 0.9908686625700931.\n",
      "C:\\Users\\Administrator\\AppData\\Local\\Temp\\ipykernel_3276\\4092580619.py:31: FutureWarning: suggest_loguniform has been deprecated in v3.0.0. This feature will be removed in v6.0.0. See https://github.com/optuna/optuna/releases/tag/v3.0.0. Use suggest_float(..., log=True) instead.\n",
      "  'learning_rate': trial.suggest_loguniform('learning_rate', 0.01, 0.3),\n",
      "[I 2025-03-02 18:31:18,758] Trial 16 finished with value: 0.9888363861201674 and parameters: {'n_estimators': 100, 'max_depth': 9, 'learning_rate': 0.11584703733835587, 'subsample': 0.7636475741623652, 'colsample_bytree': 0.6979581398425139, 'gamma': 2.0624887131971716, 'reg_alpha': 3.529798603273033, 'reg_lambda': 2.3055049856930743}. Best is trial 1 with value: 0.9908686625700931.\n",
      "C:\\Users\\Administrator\\AppData\\Local\\Temp\\ipykernel_3276\\4092580619.py:31: FutureWarning: suggest_loguniform has been deprecated in v3.0.0. This feature will be removed in v6.0.0. See https://github.com/optuna/optuna/releases/tag/v3.0.0. Use suggest_float(..., log=True) instead.\n",
      "  'learning_rate': trial.suggest_loguniform('learning_rate', 0.01, 0.3),\n",
      "[I 2025-03-02 18:31:19,265] Trial 17 finished with value: 0.9889039710385092 and parameters: {'n_estimators': 100, 'max_depth': 8, 'learning_rate': 0.05653768486511147, 'subsample': 0.9177971315346962, 'colsample_bytree': 0.6862115767959425, 'gamma': 0.09209722451004243, 'reg_alpha': 5.922316178951785, 'reg_lambda': 5.8753047138553995}. Best is trial 1 with value: 0.9908686625700931.\n",
      "C:\\Users\\Administrator\\AppData\\Local\\Temp\\ipykernel_3276\\4092580619.py:31: FutureWarning: suggest_loguniform has been deprecated in v3.0.0. This feature will be removed in v6.0.0. See https://github.com/optuna/optuna/releases/tag/v3.0.0. Use suggest_float(..., log=True) instead.\n",
      "  'learning_rate': trial.suggest_loguniform('learning_rate', 0.01, 0.3),\n",
      "[I 2025-03-02 18:31:19,945] Trial 18 finished with value: 0.9888670199148961 and parameters: {'n_estimators': 200, 'max_depth': 6, 'learning_rate': 0.021625567034980968, 'subsample': 0.8154841343784074, 'colsample_bytree': 0.7576178574374517, 'gamma': 2.6191969473987253, 'reg_alpha': 2.843820347554357, 'reg_lambda': 2.3898723013008385}. Best is trial 1 with value: 0.9908686625700931.\n",
      "C:\\Users\\Administrator\\AppData\\Local\\Temp\\ipykernel_3276\\4092580619.py:31: FutureWarning: suggest_loguniform has been deprecated in v3.0.0. This feature will be removed in v6.0.0. See https://github.com/optuna/optuna/releases/tag/v3.0.0. Use suggest_float(..., log=True) instead.\n",
      "  'learning_rate': trial.suggest_loguniform('learning_rate', 0.01, 0.3),\n",
      "[I 2025-03-02 18:31:20,558] Trial 19 finished with value: 0.985193899340221 and parameters: {'n_estimators': 400, 'max_depth': 9, 'learning_rate': 0.1402973552900713, 'subsample': 0.726422488060451, 'colsample_bytree': 0.8173390420331241, 'gamma': 8.05145785486236, 'reg_alpha': 5.102720793642292, 'reg_lambda': 0.9952320619808495}. Best is trial 1 with value: 0.9908686625700931.\n",
      "C:\\Users\\Administrator\\AppData\\Local\\Temp\\ipykernel_3276\\4092580619.py:31: FutureWarning: suggest_loguniform has been deprecated in v3.0.0. This feature will be removed in v6.0.0. See https://github.com/optuna/optuna/releases/tag/v3.0.0. Use suggest_float(..., log=True) instead.\n",
      "  'learning_rate': trial.suggest_loguniform('learning_rate', 0.01, 0.3),\n",
      "[I 2025-03-02 18:31:20,945] Trial 20 finished with value: 0.98831028147604 and parameters: {'n_estimators': 150, 'max_depth': 3, 'learning_rate': 0.285772791048361, 'subsample': 0.687032436537562, 'colsample_bytree': 0.7349654871286385, 'gamma': 4.367638090838048, 'reg_alpha': 1.4047325615206154, 'reg_lambda': 2.7714088249893276}. Best is trial 1 with value: 0.9908686625700931.\n",
      "C:\\Users\\Administrator\\AppData\\Local\\Temp\\ipykernel_3276\\4092580619.py:31: FutureWarning: suggest_loguniform has been deprecated in v3.0.0. This feature will be removed in v6.0.0. See https://github.com/optuna/optuna/releases/tag/v3.0.0. Use suggest_float(..., log=True) instead.\n",
      "  'learning_rate': trial.suggest_loguniform('learning_rate', 0.01, 0.3),\n",
      "[I 2025-03-02 18:31:21,579] Trial 21 finished with value: 0.9908500141667183 and parameters: {'n_estimators': 300, 'max_depth': 6, 'learning_rate': 0.07307716540968637, 'subsample': 0.8488694290975047, 'colsample_bytree': 0.847918122580913, 'gamma': 1.0246694700021952, 'reg_alpha': 1.0402485259752008, 'reg_lambda': 0.28569421122916483}. Best is trial 1 with value: 0.9908686625700931.\n",
      "C:\\Users\\Administrator\\AppData\\Local\\Temp\\ipykernel_3276\\4092580619.py:31: FutureWarning: suggest_loguniform has been deprecated in v3.0.0. This feature will be removed in v6.0.0. See https://github.com/optuna/optuna/releases/tag/v3.0.0. Use suggest_float(..., log=True) instead.\n",
      "  'learning_rate': trial.suggest_loguniform('learning_rate', 0.01, 0.3),\n",
      "[I 2025-03-02 18:31:22,160] Trial 22 finished with value: 0.9903849895829363 and parameters: {'n_estimators': 250, 'max_depth': 6, 'learning_rate': 0.0782521669201611, 'subsample': 0.7745945550274634, 'colsample_bytree': 0.80930250294761, 'gamma': 1.0000698629478852, 'reg_alpha': 0.7242540678077141, 'reg_lambda': 0.9577060017207191}. Best is trial 1 with value: 0.9908686625700931.\n",
      "C:\\Users\\Administrator\\AppData\\Local\\Temp\\ipykernel_3276\\4092580619.py:31: FutureWarning: suggest_loguniform has been deprecated in v3.0.0. This feature will be removed in v6.0.0. See https://github.com/optuna/optuna/releases/tag/v3.0.0. Use suggest_float(..., log=True) instead.\n",
      "  'learning_rate': trial.suggest_loguniform('learning_rate', 0.01, 0.3),\n",
      "[I 2025-03-02 18:31:22,862] Trial 23 finished with value: 0.9898912663745791 and parameters: {'n_estimators': 350, 'max_depth': 5, 'learning_rate': 0.04305290985927519, 'subsample': 0.8899685902663714, 'colsample_bytree': 0.6720102181198024, 'gamma': 2.429606264354406, 'reg_alpha': 2.0054306358785996, 'reg_lambda': 1.5364760355872558}. Best is trial 1 with value: 0.9908686625700931.\n",
      "C:\\Users\\Administrator\\AppData\\Local\\Temp\\ipykernel_3276\\4092580619.py:31: FutureWarning: suggest_loguniform has been deprecated in v3.0.0. This feature will be removed in v6.0.0. See https://github.com/optuna/optuna/releases/tag/v3.0.0. Use suggest_float(..., log=True) instead.\n",
      "  'learning_rate': trial.suggest_loguniform('learning_rate', 0.01, 0.3),\n",
      "[I 2025-03-02 18:31:23,641] Trial 24 finished with value: 0.9908945294767043 and parameters: {'n_estimators': 200, 'max_depth': 8, 'learning_rate': 0.02320945317326677, 'subsample': 0.8458919236034944, 'colsample_bytree': 0.7710928076684829, 'gamma': 1.1563657712250888, 'reg_alpha': 0.9017424452770786, 'reg_lambda': 0.47575639791749036}. Best is trial 24 with value: 0.9908945294767043.\n",
      "C:\\Users\\Administrator\\AppData\\Local\\Temp\\ipykernel_3276\\4092580619.py:31: FutureWarning: suggest_loguniform has been deprecated in v3.0.0. This feature will be removed in v6.0.0. See https://github.com/optuna/optuna/releases/tag/v3.0.0. Use suggest_float(..., log=True) instead.\n",
      "  'learning_rate': trial.suggest_loguniform('learning_rate', 0.01, 0.3),\n",
      "[I 2025-03-02 18:31:24,321] Trial 25 finished with value: 0.9893512276960249 and parameters: {'n_estimators': 200, 'max_depth': 4, 'learning_rate': 0.022158792737614272, 'subsample': 0.9364083205448077, 'colsample_bytree': 0.7731382739380928, 'gamma': 0.8761675673962614, 'reg_alpha': 3.440847334319153, 'reg_lambda': 0.20956941178803468}. Best is trial 24 with value: 0.9908945294767043.\n",
      "C:\\Users\\Administrator\\AppData\\Local\\Temp\\ipykernel_3276\\4092580619.py:31: FutureWarning: suggest_loguniform has been deprecated in v3.0.0. This feature will be removed in v6.0.0. See https://github.com/optuna/optuna/releases/tag/v3.0.0. Use suggest_float(..., log=True) instead.\n",
      "  'learning_rate': trial.suggest_loguniform('learning_rate', 0.01, 0.3),\n",
      "[I 2025-03-02 18:31:25,036] Trial 26 finished with value: 0.9898732909724978 and parameters: {'n_estimators': 250, 'max_depth': 6, 'learning_rate': 0.024976064863531065, 'subsample': 0.794453327520587, 'colsample_bytree': 0.8391669676294338, 'gamma': 3.0480563781560197, 'reg_alpha': 0.37764926735016613, 'reg_lambda': 4.022825546206166}. Best is trial 24 with value: 0.9908945294767043.\n",
      "C:\\Users\\Administrator\\AppData\\Local\\Temp\\ipykernel_3276\\4092580619.py:31: FutureWarning: suggest_loguniform has been deprecated in v3.0.0. This feature will be removed in v6.0.0. See https://github.com/optuna/optuna/releases/tag/v3.0.0. Use suggest_float(..., log=True) instead.\n",
      "  'learning_rate': trial.suggest_loguniform('learning_rate', 0.01, 0.3),\n",
      "[I 2025-03-02 18:31:26,331] Trial 27 finished with value: 0.9898496378795003 and parameters: {'n_estimators': 400, 'max_depth': 10, 'learning_rate': 0.0139082976756151, 'subsample': 0.8236126834983026, 'colsample_bytree': 0.9106556710374737, 'gamma': 0.8900211464412173, 'reg_alpha': 2.2724198660401473, 'reg_lambda': 0.7192453792966499}. Best is trial 24 with value: 0.9908945294767043.\n",
      "C:\\Users\\Administrator\\AppData\\Local\\Temp\\ipykernel_3276\\4092580619.py:31: FutureWarning: suggest_loguniform has been deprecated in v3.0.0. This feature will be removed in v6.0.0. See https://github.com/optuna/optuna/releases/tag/v3.0.0. Use suggest_float(..., log=True) instead.\n",
      "  'learning_rate': trial.suggest_loguniform('learning_rate', 0.01, 0.3),\n",
      "[I 2025-03-02 18:31:27,322] Trial 28 finished with value: 0.9898834240984804 and parameters: {'n_estimators': 350, 'max_depth': 7, 'learning_rate': 0.027510158605394405, 'subsample': 0.7863593220289264, 'colsample_bytree': 0.9372746431822083, 'gamma': 0.6858423552442519, 'reg_alpha': 1.199082372938185, 'reg_lambda': 1.1758459019426675}. Best is trial 24 with value: 0.9908945294767043.\n",
      "C:\\Users\\Administrator\\AppData\\Local\\Temp\\ipykernel_3276\\4092580619.py:31: FutureWarning: suggest_loguniform has been deprecated in v3.0.0. This feature will be removed in v6.0.0. See https://github.com/optuna/optuna/releases/tag/v3.0.0. Use suggest_float(..., log=True) instead.\n",
      "  'learning_rate': trial.suggest_loguniform('learning_rate', 0.01, 0.3),\n",
      "[I 2025-03-02 18:31:27,784] Trial 29 finished with value: 0.9872229277986706 and parameters: {'n_estimators': 200, 'max_depth': 4, 'learning_rate': 0.08029528073461686, 'subsample': 0.8828310031007718, 'colsample_bytree': 0.8268892677093111, 'gamma': 4.394852866062688, 'reg_alpha': 7.928373669431775, 'reg_lambda': 2.9227502415746627}. Best is trial 24 with value: 0.9908945294767043.\n",
      "C:\\Users\\Administrator\\AppData\\Local\\Temp\\ipykernel_3276\\4092580619.py:31: FutureWarning: suggest_loguniform has been deprecated in v3.0.0. This feature will be removed in v6.0.0. See https://github.com/optuna/optuna/releases/tag/v3.0.0. Use suggest_float(..., log=True) instead.\n",
      "  'learning_rate': trial.suggest_loguniform('learning_rate', 0.01, 0.3),\n",
      "[I 2025-03-02 18:31:28,633] Trial 30 finished with value: 0.9888803624633611 and parameters: {'n_estimators': 300, 'max_depth': 5, 'learning_rate': 0.015782326657893954, 'subsample': 0.8439363915256278, 'colsample_bytree': 0.8628711548152913, 'gamma': 3.648814243868732, 'reg_alpha': 2.884519183679714, 'reg_lambda': 9.293026875613593}. Best is trial 24 with value: 0.9908945294767043.\n",
      "C:\\Users\\Administrator\\AppData\\Local\\Temp\\ipykernel_3276\\4092580619.py:31: FutureWarning: suggest_loguniform has been deprecated in v3.0.0. This feature will be removed in v6.0.0. See https://github.com/optuna/optuna/releases/tag/v3.0.0. Use suggest_float(..., log=True) instead.\n",
      "  'learning_rate': trial.suggest_loguniform('learning_rate', 0.01, 0.3),\n",
      "[I 2025-03-02 18:31:29,137] Trial 31 finished with value: 0.9909383376874792 and parameters: {'n_estimators': 150, 'max_depth': 8, 'learning_rate': 0.057338957319133015, 'subsample': 0.8365504047440122, 'colsample_bytree': 0.7150831436007091, 'gamma': 1.74044811627651, 'reg_alpha': 1.1312240179878545, 'reg_lambda': 2.0816712073810137}. Best is trial 31 with value: 0.9909383376874792.\n",
      "C:\\Users\\Administrator\\AppData\\Local\\Temp\\ipykernel_3276\\4092580619.py:31: FutureWarning: suggest_loguniform has been deprecated in v3.0.0. This feature will be removed in v6.0.0. See https://github.com/optuna/optuna/releases/tag/v3.0.0. Use suggest_float(..., log=True) instead.\n",
      "  'learning_rate': trial.suggest_loguniform('learning_rate', 0.01, 0.3),\n",
      "[I 2025-03-02 18:31:29,696] Trial 32 finished with value: 0.9934078486242388 and parameters: {'n_estimators': 150, 'max_depth': 8, 'learning_rate': 0.04664543050831571, 'subsample': 0.7942231875177621, 'colsample_bytree': 0.6581279765160521, 'gamma': 1.6864430842970046, 'reg_alpha': 0.016904277260539224, 'reg_lambda': 0.28709776773493223}. Best is trial 32 with value: 0.9934078486242388.\n",
      "C:\\Users\\Administrator\\AppData\\Local\\Temp\\ipykernel_3276\\4092580619.py:31: FutureWarning: suggest_loguniform has been deprecated in v3.0.0. This feature will be removed in v6.0.0. See https://github.com/optuna/optuna/releases/tag/v3.0.0. Use suggest_float(..., log=True) instead.\n",
      "  'learning_rate': trial.suggest_loguniform('learning_rate', 0.01, 0.3),\n",
      "[I 2025-03-02 18:31:30,322] Trial 33 finished with value: 0.9893917679321659 and parameters: {'n_estimators': 150, 'max_depth': 10, 'learning_rate': 0.01796936171742285, 'subsample': 0.7488717296505402, 'colsample_bytree': 0.6009903493221878, 'gamma': 2.187696338473236, 'reg_alpha': 0.06583098310186233, 'reg_lambda': 0.933107771485117}. Best is trial 32 with value: 0.9934078486242388.\n",
      "C:\\Users\\Administrator\\AppData\\Local\\Temp\\ipykernel_3276\\4092580619.py:31: FutureWarning: suggest_loguniform has been deprecated in v3.0.0. This feature will be removed in v6.0.0. See https://github.com/optuna/optuna/releases/tag/v3.0.0. Use suggest_float(..., log=True) instead.\n",
      "  'learning_rate': trial.suggest_loguniform('learning_rate', 0.01, 0.3),\n",
      "[I 2025-03-02 18:31:30,837] Trial 34 finished with value: 0.990920289533906 and parameters: {'n_estimators': 150, 'max_depth': 8, 'learning_rate': 0.04601681582532525, 'subsample': 0.808477733755687, 'colsample_bytree': 0.6603967067097151, 'gamma': 1.7743344271257235, 'reg_alpha': 1.8442501563135014, 'reg_lambda': 0.14177850313607826}. Best is trial 32 with value: 0.9934078486242388.\n",
      "C:\\Users\\Administrator\\AppData\\Local\\Temp\\ipykernel_3276\\4092580619.py:31: FutureWarning: suggest_loguniform has been deprecated in v3.0.0. This feature will be removed in v6.0.0. See https://github.com/optuna/optuna/releases/tag/v3.0.0. Use suggest_float(..., log=True) instead.\n",
      "  'learning_rate': trial.suggest_loguniform('learning_rate', 0.01, 0.3),\n",
      "[I 2025-03-02 18:31:31,389] Trial 35 finished with value: 0.9924355439928543 and parameters: {'n_estimators': 150, 'max_depth': 9, 'learning_rate': 0.04565903686034688, 'subsample': 0.7932897046109879, 'colsample_bytree': 0.6566074554553697, 'gamma': 1.5666502028535934, 'reg_alpha': 0.6538243587177873, 'reg_lambda': 0.017256224231486428}. Best is trial 32 with value: 0.9934078486242388.\n",
      "C:\\Users\\Administrator\\AppData\\Local\\Temp\\ipykernel_3276\\4092580619.py:31: FutureWarning: suggest_loguniform has been deprecated in v3.0.0. This feature will be removed in v6.0.0. See https://github.com/optuna/optuna/releases/tag/v3.0.0. Use suggest_float(..., log=True) instead.\n",
      "  'learning_rate': trial.suggest_loguniform('learning_rate', 0.01, 0.3),\n",
      "[I 2025-03-02 18:31:31,860] Trial 36 finished with value: 0.9883031143449847 and parameters: {'n_estimators': 150, 'max_depth': 11, 'learning_rate': 0.04442944734837559, 'subsample': 0.8029538674715161, 'colsample_bytree': 0.6543322686119916, 'gamma': 3.334813954765934, 'reg_alpha': 9.515963372365539, 'reg_lambda': 2.1298078355621737}. Best is trial 32 with value: 0.9934078486242388.\n",
      "C:\\Users\\Administrator\\AppData\\Local\\Temp\\ipykernel_3276\\4092580619.py:31: FutureWarning: suggest_loguniform has been deprecated in v3.0.0. This feature will be removed in v6.0.0. See https://github.com/optuna/optuna/releases/tag/v3.0.0. Use suggest_float(..., log=True) instead.\n",
      "  'learning_rate': trial.suggest_loguniform('learning_rate', 0.01, 0.3),\n",
      "[I 2025-03-02 18:31:32,333] Trial 37 finished with value: 0.9893921613415056 and parameters: {'n_estimators': 100, 'max_depth': 9, 'learning_rate': 0.02983717950310876, 'subsample': 0.7778515711992003, 'colsample_bytree': 0.6468559436644279, 'gamma': 2.5253999579532294, 'reg_alpha': 1.7696280945620546, 'reg_lambda': 0.04661884096872397}. Best is trial 32 with value: 0.9934078486242388.\n",
      "C:\\Users\\Administrator\\AppData\\Local\\Temp\\ipykernel_3276\\4092580619.py:31: FutureWarning: suggest_loguniform has been deprecated in v3.0.0. This feature will be removed in v6.0.0. See https://github.com/optuna/optuna/releases/tag/v3.0.0. Use suggest_float(..., log=True) instead.\n",
      "  'learning_rate': trial.suggest_loguniform('learning_rate', 0.01, 0.3),\n",
      "[I 2025-03-02 18:31:32,807] Trial 38 finished with value: 0.9894348795564093 and parameters: {'n_estimators': 150, 'max_depth': 11, 'learning_rate': 0.0470769431045381, 'subsample': 0.8207245412988928, 'colsample_bytree': 0.6031400974411487, 'gamma': 5.775398912061348, 'reg_alpha': 0.003348882956671906, 'reg_lambda': 1.0757939806636598}. Best is trial 32 with value: 0.9934078486242388.\n",
      "C:\\Users\\Administrator\\AppData\\Local\\Temp\\ipykernel_3276\\4092580619.py:31: FutureWarning: suggest_loguniform has been deprecated in v3.0.0. This feature will be removed in v6.0.0. See https://github.com/optuna/optuna/releases/tag/v3.0.0. Use suggest_float(..., log=True) instead.\n",
      "  'learning_rate': trial.suggest_loguniform('learning_rate', 0.01, 0.3),\n",
      "[I 2025-03-02 18:31:33,311] Trial 39 finished with value: 0.990427564894624 and parameters: {'n_estimators': 150, 'max_depth': 9, 'learning_rate': 0.0631151270015136, 'subsample': 0.7167667979053182, 'colsample_bytree': 0.6709930475698156, 'gamma': 1.6620139553086253, 'reg_alpha': 0.6051472283945931, 'reg_lambda': 3.62999953804967}. Best is trial 32 with value: 0.9934078486242388.\n",
      "C:\\Users\\Administrator\\AppData\\Local\\Temp\\ipykernel_3276\\4092580619.py:31: FutureWarning: suggest_loguniform has been deprecated in v3.0.0. This feature will be removed in v6.0.0. See https://github.com/optuna/optuna/releases/tag/v3.0.0. Use suggest_float(..., log=True) instead.\n",
      "  'learning_rate': trial.suggest_loguniform('learning_rate', 0.01, 0.3),\n",
      "[I 2025-03-02 18:31:33,716] Trial 40 finished with value: 0.9884055357274741 and parameters: {'n_estimators': 100, 'max_depth': 10, 'learning_rate': 0.08788067332755216, 'subsample': 0.8020527215990376, 'colsample_bytree': 0.6260355625883998, 'gamma': 3.7295439221435362, 'reg_alpha': 1.6210813255493155, 'reg_lambda': 5.370058197427777}. Best is trial 32 with value: 0.9934078486242388.\n",
      "C:\\Users\\Administrator\\AppData\\Local\\Temp\\ipykernel_3276\\4092580619.py:31: FutureWarning: suggest_loguniform has been deprecated in v3.0.0. This feature will be removed in v6.0.0. See https://github.com/optuna/optuna/releases/tag/v3.0.0. Use suggest_float(..., log=True) instead.\n",
      "  'learning_rate': trial.suggest_loguniform('learning_rate', 0.01, 0.3),\n",
      "[I 2025-03-02 18:31:34,313] Trial 41 finished with value: 0.9914107087718351 and parameters: {'n_estimators': 200, 'max_depth': 8, 'learning_rate': 0.049669938666972134, 'subsample': 0.8266983476710833, 'colsample_bytree': 0.7206008984697388, 'gamma': 1.3933782108340216, 'reg_alpha': 0.7686544735389257, 'reg_lambda': 0.5198288853982418}. Best is trial 32 with value: 0.9934078486242388.\n",
      "C:\\Users\\Administrator\\AppData\\Local\\Temp\\ipykernel_3276\\4092580619.py:31: FutureWarning: suggest_loguniform has been deprecated in v3.0.0. This feature will be removed in v6.0.0. See https://github.com/optuna/optuna/releases/tag/v3.0.0. Use suggest_float(..., log=True) instead.\n",
      "  'learning_rate': trial.suggest_loguniform('learning_rate', 0.01, 0.3),\n",
      "[I 2025-03-02 18:31:34,822] Trial 42 finished with value: 0.9908943959881342 and parameters: {'n_estimators': 150, 'max_depth': 8, 'learning_rate': 0.04789297232953972, 'subsample': 0.8216049910970398, 'colsample_bytree': 0.7171352280641919, 'gamma': 3.081280013739791, 'reg_alpha': 0.481020512493055, 'reg_lambda': 0.6205338647474947}. Best is trial 32 with value: 0.9934078486242388.\n",
      "C:\\Users\\Administrator\\AppData\\Local\\Temp\\ipykernel_3276\\4092580619.py:31: FutureWarning: suggest_loguniform has been deprecated in v3.0.0. This feature will be removed in v6.0.0. See https://github.com/optuna/optuna/releases/tag/v3.0.0. Use suggest_float(..., log=True) instead.\n",
      "  'learning_rate': trial.suggest_loguniform('learning_rate', 0.01, 0.3),\n",
      "[I 2025-03-02 18:31:35,432] Trial 43 finished with value: 0.9909428415831845 and parameters: {'n_estimators': 200, 'max_depth': 8, 'learning_rate': 0.04137273121765135, 'subsample': 0.8675181338598644, 'colsample_bytree': 0.6822277524178676, 'gamma': 1.5642309125727993, 'reg_alpha': 1.4430011056421743, 'reg_lambda': 1.4179534585179914}. Best is trial 32 with value: 0.9934078486242388.\n",
      "C:\\Users\\Administrator\\AppData\\Local\\Temp\\ipykernel_3276\\4092580619.py:31: FutureWarning: suggest_loguniform has been deprecated in v3.0.0. This feature will be removed in v6.0.0. See https://github.com/optuna/optuna/releases/tag/v3.0.0. Use suggest_float(..., log=True) instead.\n",
      "  'learning_rate': trial.suggest_loguniform('learning_rate', 0.01, 0.3),\n",
      "[I 2025-03-02 18:31:36,056] Trial 44 finished with value: 0.9904052071154372 and parameters: {'n_estimators': 200, 'max_depth': 7, 'learning_rate': 0.032764877337888694, 'subsample': 0.8723944870136638, 'colsample_bytree': 0.6893742656488909, 'gamma': 2.3162637635266856, 'reg_alpha': 1.3883136240491694, 'reg_lambda': 2.8169344300578545}. Best is trial 32 with value: 0.9934078486242388.\n",
      "C:\\Users\\Administrator\\AppData\\Local\\Temp\\ipykernel_3276\\4092580619.py:31: FutureWarning: suggest_loguniform has been deprecated in v3.0.0. This feature will be removed in v6.0.0. See https://github.com/optuna/optuna/releases/tag/v3.0.0. Use suggest_float(..., log=True) instead.\n",
      "  'learning_rate': trial.suggest_loguniform('learning_rate', 0.01, 0.3),\n",
      "[I 2025-03-02 18:31:36,722] Trial 45 finished with value: 0.9918937209336804 and parameters: {'n_estimators': 200, 'max_depth': 9, 'learning_rate': 0.06507355788183423, 'subsample': 0.9019046836303851, 'colsample_bytree': 0.7364859688266155, 'gamma': 0.27406797495143675, 'reg_alpha': 0.5983826026423291, 'reg_lambda': 1.7659723376213206}. Best is trial 32 with value: 0.9934078486242388.\n",
      "C:\\Users\\Administrator\\AppData\\Local\\Temp\\ipykernel_3276\\4092580619.py:31: FutureWarning: suggest_loguniform has been deprecated in v3.0.0. This feature will be removed in v6.0.0. See https://github.com/optuna/optuna/releases/tag/v3.0.0. Use suggest_float(..., log=True) instead.\n",
      "  'learning_rate': trial.suggest_loguniform('learning_rate', 0.01, 0.3),\n",
      "[I 2025-03-02 18:31:37,435] Trial 46 finished with value: 0.9903543889671329 and parameters: {'n_estimators': 250, 'max_depth': 9, 'learning_rate': 0.0384139527643203, 'subsample': 0.9510355927037758, 'colsample_bytree': 0.7402993389501633, 'gamma': 0.5690901966940971, 'reg_alpha': 4.188075764669911, 'reg_lambda': 1.4774276586731736}. Best is trial 32 with value: 0.9934078486242388.\n",
      "C:\\Users\\Administrator\\AppData\\Local\\Temp\\ipykernel_3276\\4092580619.py:31: FutureWarning: suggest_loguniform has been deprecated in v3.0.0. This feature will be removed in v6.0.0. See https://github.com/optuna/optuna/releases/tag/v3.0.0. Use suggest_float(..., log=True) instead.\n",
      "  'learning_rate': trial.suggest_loguniform('learning_rate', 0.01, 0.3),\n",
      "[I 2025-03-02 18:31:38,224] Trial 47 finished with value: 0.9929161744152163 and parameters: {'n_estimators': 200, 'max_depth': 10, 'learning_rate': 0.0401688939058561, 'subsample': 0.9081407077757241, 'colsample_bytree': 0.6368803340936855, 'gamma': 0.10463761645659209, 'reg_alpha': 0.52539298713654, 'reg_lambda': 0.7194210810087757}. Best is trial 32 with value: 0.9934078486242388.\n",
      "C:\\Users\\Administrator\\AppData\\Local\\Temp\\ipykernel_3276\\4092580619.py:31: FutureWarning: suggest_loguniform has been deprecated in v3.0.0. This feature will be removed in v6.0.0. See https://github.com/optuna/optuna/releases/tag/v3.0.0. Use suggest_float(..., log=True) instead.\n",
      "  'learning_rate': trial.suggest_loguniform('learning_rate', 0.01, 0.3),\n",
      "[I 2025-03-02 18:31:38,965] Trial 48 finished with value: 0.9929342073488121 and parameters: {'n_estimators': 250, 'max_depth': 12, 'learning_rate': 0.06336478627132273, 'subsample': 0.9850130072305451, 'colsample_bytree': 0.6279484453135665, 'gamma': 0.08723728769682015, 'reg_alpha': 0.5740989633113924, 'reg_lambda': 0.6144115383773661}. Best is trial 32 with value: 0.9934078486242388.\n",
      "C:\\Users\\Administrator\\AppData\\Local\\Temp\\ipykernel_3276\\4092580619.py:31: FutureWarning: suggest_loguniform has been deprecated in v3.0.0. This feature will be removed in v6.0.0. See https://github.com/optuna/optuna/releases/tag/v3.0.0. Use suggest_float(..., log=True) instead.\n",
      "  'learning_rate': trial.suggest_loguniform('learning_rate', 0.01, 0.3),\n",
      "[I 2025-03-02 18:31:39,539] Trial 49 finished with value: 0.9894437633835 and parameters: {'n_estimators': 250, 'max_depth': 12, 'learning_rate': 0.0634072776506717, 'subsample': 0.9880539693096223, 'colsample_bytree': 0.6324730169367675, 'gamma': 0.5661410781843244, 'reg_alpha': 8.046465484361867, 'reg_lambda': 1.8062958303603915}. Best is trial 32 with value: 0.9934078486242388.\n",
      "[I 2025-03-02 18:31:39,540] A new study created in memory with name: no-name-61d66c20-54b0-4cae-b157-80e5974ffe64\n",
      "C:\\Users\\Administrator\\AppData\\Local\\Temp\\ipykernel_3276\\4092580619.py:47: FutureWarning: suggest_loguniform has been deprecated in v3.0.0. This feature will be removed in v6.0.0. See https://github.com/optuna/optuna/releases/tag/v3.0.0. Use suggest_float(..., log=True) instead.\n",
      "  'learning_rate': trial.suggest_loguniform('learning_rate', 0.01, 0.3),\n",
      "[I 2025-03-02 18:31:57,303] Trial 0 finished with value: 0.9810150072057842 and parameters: {'n_estimators': 400, 'learning_rate': 0.11175021448497202, 'max_depth': 12, 'subsample': 0.9673469642614092}. Best is trial 0 with value: 0.9810150072057842.\n",
      "C:\\Users\\Administrator\\AppData\\Local\\Temp\\ipykernel_3276\\4092580619.py:47: FutureWarning: suggest_loguniform has been deprecated in v3.0.0. This feature will be removed in v6.0.0. See https://github.com/optuna/optuna/releases/tag/v3.0.0. Use suggest_float(..., log=True) instead.\n",
      "  'learning_rate': trial.suggest_loguniform('learning_rate', 0.01, 0.3),\n",
      "[I 2025-03-02 18:32:01,359] Trial 1 finished with value: 0.9903668085937369 and parameters: {'n_estimators': 150, 'learning_rate': 0.06688268001669068, 'max_depth': 3, 'subsample': 0.6817632480589368}. Best is trial 1 with value: 0.9903668085937369.\n",
      "C:\\Users\\Administrator\\AppData\\Local\\Temp\\ipykernel_3276\\4092580619.py:47: FutureWarning: suggest_loguniform has been deprecated in v3.0.0. This feature will be removed in v6.0.0. See https://github.com/optuna/optuna/releases/tag/v3.0.0. Use suggest_float(..., log=True) instead.\n",
      "  'learning_rate': trial.suggest_loguniform('learning_rate', 0.01, 0.3),\n",
      "[I 2025-03-02 18:32:10,296] Trial 2 finished with value: 0.9934824000257932 and parameters: {'n_estimators': 300, 'learning_rate': 0.23860988415735887, 'max_depth': 3, 'subsample': 0.8379537507292008}. Best is trial 2 with value: 0.9934824000257932.\n",
      "C:\\Users\\Administrator\\AppData\\Local\\Temp\\ipykernel_3276\\4092580619.py:47: FutureWarning: suggest_loguniform has been deprecated in v3.0.0. This feature will be removed in v6.0.0. See https://github.com/optuna/optuna/releases/tag/v3.0.0. Use suggest_float(..., log=True) instead.\n",
      "  'learning_rate': trial.suggest_loguniform('learning_rate', 0.01, 0.3),\n",
      "[I 2025-03-02 18:32:22,457] Trial 3 finished with value: 0.9908192004181148 and parameters: {'n_estimators': 250, 'learning_rate': 0.031109791107231825, 'max_depth': 6, 'subsample': 0.6178163035912861}. Best is trial 2 with value: 0.9934824000257932.\n",
      "C:\\Users\\Administrator\\AppData\\Local\\Temp\\ipykernel_3276\\4092580619.py:47: FutureWarning: suggest_loguniform has been deprecated in v3.0.0. This feature will be removed in v6.0.0. See https://github.com/optuna/optuna/releases/tag/v3.0.0. Use suggest_float(..., log=True) instead.\n",
      "  'learning_rate': trial.suggest_loguniform('learning_rate', 0.01, 0.3),\n",
      "[I 2025-03-02 18:32:31,422] Trial 4 finished with value: 0.9918515289795624 and parameters: {'n_estimators': 300, 'learning_rate': 0.02434261125780324, 'max_depth': 3, 'subsample': 0.8282674882212174}. Best is trial 2 with value: 0.9934824000257932.\n",
      "C:\\Users\\Administrator\\AppData\\Local\\Temp\\ipykernel_3276\\4092580619.py:47: FutureWarning: suggest_loguniform has been deprecated in v3.0.0. This feature will be removed in v6.0.0. See https://github.com/optuna/optuna/releases/tag/v3.0.0. Use suggest_float(..., log=True) instead.\n",
      "  'learning_rate': trial.suggest_loguniform('learning_rate', 0.01, 0.3),\n",
      "[I 2025-03-02 18:32:44,693] Trial 5 finished with value: 0.990869412519691 and parameters: {'n_estimators': 150, 'learning_rate': 0.16579661903459322, 'max_depth': 10, 'subsample': 0.7105568471231608}. Best is trial 2 with value: 0.9934824000257932.\n",
      "C:\\Users\\Administrator\\AppData\\Local\\Temp\\ipykernel_3276\\4092580619.py:47: FutureWarning: suggest_loguniform has been deprecated in v3.0.0. This feature will be removed in v6.0.0. See https://github.com/optuna/optuna/releases/tag/v3.0.0. Use suggest_float(..., log=True) instead.\n",
      "  'learning_rate': trial.suggest_loguniform('learning_rate', 0.01, 0.3),\n",
      "[I 2025-03-02 18:32:57,122] Trial 6 finished with value: 0.9940309504691941 and parameters: {'n_estimators': 450, 'learning_rate': 0.2046741745458174, 'max_depth': 3, 'subsample': 0.9433894886005909}. Best is trial 6 with value: 0.9940309504691941.\n",
      "C:\\Users\\Administrator\\AppData\\Local\\Temp\\ipykernel_3276\\4092580619.py:47: FutureWarning: suggest_loguniform has been deprecated in v3.0.0. This feature will be removed in v6.0.0. See https://github.com/optuna/optuna/releases/tag/v3.0.0. Use suggest_float(..., log=True) instead.\n",
      "  'learning_rate': trial.suggest_loguniform('learning_rate', 0.01, 0.3),\n",
      "[I 2025-03-02 18:33:15,592] Trial 7 finished with value: 0.9918505873601601 and parameters: {'n_estimators': 300, 'learning_rate': 0.11632979004300127, 'max_depth': 9, 'subsample': 0.6765959975345142}. Best is trial 6 with value: 0.9940309504691941.\n",
      "C:\\Users\\Administrator\\AppData\\Local\\Temp\\ipykernel_3276\\4092580619.py:47: FutureWarning: suggest_loguniform has been deprecated in v3.0.0. This feature will be removed in v6.0.0. See https://github.com/optuna/optuna/releases/tag/v3.0.0. Use suggest_float(..., log=True) instead.\n",
      "  'learning_rate': trial.suggest_loguniform('learning_rate', 0.01, 0.3),\n",
      "[I 2025-03-02 18:33:43,279] Trial 8 finished with value: 0.9828446002298092 and parameters: {'n_estimators': 300, 'learning_rate': 0.03817621636244363, 'max_depth': 8, 'subsample': 0.9873043839609742}. Best is trial 6 with value: 0.9940309504691941.\n",
      "C:\\Users\\Administrator\\AppData\\Local\\Temp\\ipykernel_3276\\4092580619.py:47: FutureWarning: suggest_loguniform has been deprecated in v3.0.0. This feature will be removed in v6.0.0. See https://github.com/optuna/optuna/releases/tag/v3.0.0. Use suggest_float(..., log=True) instead.\n",
      "  'learning_rate': trial.suggest_loguniform('learning_rate', 0.01, 0.3),\n",
      "[I 2025-03-02 18:33:51,032] Trial 9 finished with value: 0.9940331189705346 and parameters: {'n_estimators': 300, 'learning_rate': 0.19501352078862938, 'max_depth': 3, 'subsample': 0.6737779739283538}. Best is trial 9 with value: 0.9940331189705346.\n",
      "C:\\Users\\Administrator\\AppData\\Local\\Temp\\ipykernel_3276\\4092580619.py:47: FutureWarning: suggest_loguniform has been deprecated in v3.0.0. This feature will be removed in v6.0.0. See https://github.com/optuna/optuna/releases/tag/v3.0.0. Use suggest_float(..., log=True) instead.\n",
      "  'learning_rate': trial.suggest_loguniform('learning_rate', 0.01, 0.3),\n",
      "[I 2025-03-02 18:34:15,367] Trial 10 finished with value: 0.9934529580268541 and parameters: {'n_estimators': 500, 'learning_rate': 0.06685789677276818, 'max_depth': 6, 'subsample': 0.7672432498243091}. Best is trial 9 with value: 0.9940331189705346.\n",
      "C:\\Users\\Administrator\\AppData\\Local\\Temp\\ipykernel_3276\\4092580619.py:47: FutureWarning: suggest_loguniform has been deprecated in v3.0.0. This feature will be removed in v6.0.0. See https://github.com/optuna/optuna/releases/tag/v3.0.0. Use suggest_float(..., log=True) instead.\n",
      "  'learning_rate': trial.suggest_loguniform('learning_rate', 0.01, 0.3),\n",
      "[I 2025-03-02 18:34:39,023] Trial 11 finished with value: 0.9870725652129084 and parameters: {'n_estimators': 450, 'learning_rate': 0.010402418721701324, 'max_depth': 5, 'subsample': 0.9181616805991104}. Best is trial 9 with value: 0.9940331189705346.\n",
      "C:\\Users\\Administrator\\AppData\\Local\\Temp\\ipykernel_3276\\4092580619.py:47: FutureWarning: suggest_loguniform has been deprecated in v3.0.0. This feature will be removed in v6.0.0. See https://github.com/optuna/optuna/releases/tag/v3.0.0. Use suggest_float(..., log=True) instead.\n",
      "  'learning_rate': trial.suggest_loguniform('learning_rate', 0.01, 0.3),\n",
      "[I 2025-03-02 18:34:46,784] Trial 12 finished with value: 0.9935089699483619 and parameters: {'n_estimators': 400, 'learning_rate': 0.29358617543543924, 'max_depth': 5, 'subsample': 0.8817796987423765}. Best is trial 9 with value: 0.9940331189705346.\n",
      "C:\\Users\\Administrator\\AppData\\Local\\Temp\\ipykernel_3276\\4092580619.py:47: FutureWarning: suggest_loguniform has been deprecated in v3.0.0. This feature will be removed in v6.0.0. See https://github.com/optuna/optuna/releases/tag/v3.0.0. Use suggest_float(..., log=True) instead.\n",
      "  'learning_rate': trial.suggest_loguniform('learning_rate', 0.01, 0.3),\n",
      "[I 2025-03-02 18:34:59,086] Trial 13 finished with value: 0.9945003653666142 and parameters: {'n_estimators': 400, 'learning_rate': 0.1554848002898986, 'max_depth': 4, 'subsample': 0.7504038622686138}. Best is trial 13 with value: 0.9945003653666142.\n",
      "C:\\Users\\Administrator\\AppData\\Local\\Temp\\ipykernel_3276\\4092580619.py:47: FutureWarning: suggest_loguniform has been deprecated in v3.0.0. This feature will be removed in v6.0.0. See https://github.com/optuna/optuna/releases/tag/v3.0.0. Use suggest_float(..., log=True) instead.\n",
      "  'learning_rate': trial.suggest_loguniform('learning_rate', 0.01, 0.3),\n",
      "[I 2025-03-02 18:35:06,406] Trial 14 finished with value: 0.9934642198969144 and parameters: {'n_estimators': 200, 'learning_rate': 0.1299454717823986, 'max_depth': 4, 'subsample': 0.747648714593644}. Best is trial 13 with value: 0.9945003653666142.\n",
      "C:\\Users\\Administrator\\AppData\\Local\\Temp\\ipykernel_3276\\4092580619.py:47: FutureWarning: suggest_loguniform has been deprecated in v3.0.0. This feature will be removed in v6.0.0. See https://github.com/optuna/optuna/releases/tag/v3.0.0. Use suggest_float(..., log=True) instead.\n",
      "  'learning_rate': trial.suggest_loguniform('learning_rate', 0.01, 0.3),\n",
      "[I 2025-03-02 18:35:26,952] Trial 15 finished with value: 0.9919324641197615 and parameters: {'n_estimators': 400, 'learning_rate': 0.08897000335562832, 'max_depth': 7, 'subsample': 0.6034512940178408}. Best is trial 13 with value: 0.9945003653666142.\n",
      "C:\\Users\\Administrator\\AppData\\Local\\Temp\\ipykernel_3276\\4092580619.py:47: FutureWarning: suggest_loguniform has been deprecated in v3.0.0. This feature will be removed in v6.0.0. See https://github.com/optuna/optuna/releases/tag/v3.0.0. Use suggest_float(..., log=True) instead.\n",
      "  'learning_rate': trial.suggest_loguniform('learning_rate', 0.01, 0.3),\n",
      "[I 2025-03-02 18:35:37,494] Trial 16 finished with value: 0.9935031476088341 and parameters: {'n_estimators': 350, 'learning_rate': 0.17773420456961425, 'max_depth': 5, 'subsample': 0.7658299059191892}. Best is trial 13 with value: 0.9945003653666142.\n",
      "C:\\Users\\Administrator\\AppData\\Local\\Temp\\ipykernel_3276\\4092580619.py:47: FutureWarning: suggest_loguniform has been deprecated in v3.0.0. This feature will be removed in v6.0.0. See https://github.com/optuna/optuna/releases/tag/v3.0.0. Use suggest_float(..., log=True) instead.\n",
      "  'learning_rate': trial.suggest_loguniform('learning_rate', 0.01, 0.3),\n",
      "[I 2025-03-02 18:35:41,012] Trial 17 finished with value: 0.9939614663116199 and parameters: {'n_estimators': 100, 'learning_rate': 0.2965429408145606, 'max_depth': 4, 'subsample': 0.6743961260982694}. Best is trial 13 with value: 0.9945003653666142.\n",
      "C:\\Users\\Administrator\\AppData\\Local\\Temp\\ipykernel_3276\\4092580619.py:47: FutureWarning: suggest_loguniform has been deprecated in v3.0.0. This feature will be removed in v6.0.0. See https://github.com/optuna/optuna/releases/tag/v3.0.0. Use suggest_float(..., log=True) instead.\n",
      "  'learning_rate': trial.suggest_loguniform('learning_rate', 0.01, 0.3),\n",
      "[I 2025-03-02 18:36:04,043] Trial 18 finished with value: 0.9913784946716591 and parameters: {'n_estimators': 350, 'learning_rate': 0.04518729840960392, 'max_depth': 7, 'subsample': 0.7361913087136203}. Best is trial 13 with value: 0.9945003653666142.\n",
      "C:\\Users\\Administrator\\AppData\\Local\\Temp\\ipykernel_3276\\4092580619.py:47: FutureWarning: suggest_loguniform has been deprecated in v3.0.0. This feature will be removed in v6.0.0. See https://github.com/optuna/optuna/releases/tag/v3.0.0. Use suggest_float(..., log=True) instead.\n",
      "  'learning_rate': trial.suggest_loguniform('learning_rate', 0.01, 0.3),\n",
      "[I 2025-03-02 18:36:12,314] Trial 19 finished with value: 0.9913116112108091 and parameters: {'n_estimators': 250, 'learning_rate': 0.020042951926920755, 'max_depth': 4, 'subsample': 0.6464481011256081}. Best is trial 13 with value: 0.9945003653666142.\n",
      "C:\\Users\\Administrator\\AppData\\Local\\Temp\\ipykernel_3276\\4092580619.py:47: FutureWarning: suggest_loguniform has been deprecated in v3.0.0. This feature will be removed in v6.0.0. See https://github.com/optuna/optuna/releases/tag/v3.0.0. Use suggest_float(..., log=True) instead.\n",
      "  'learning_rate': trial.suggest_loguniform('learning_rate', 0.01, 0.3),\n",
      "[I 2025-03-02 18:36:42,147] Trial 20 finished with value: 0.9887214425656073 and parameters: {'n_estimators': 500, 'learning_rate': 0.08542590773378352, 'max_depth': 12, 'subsample': 0.8059030501484687}. Best is trial 13 with value: 0.9945003653666142.\n",
      "C:\\Users\\Administrator\\AppData\\Local\\Temp\\ipykernel_3276\\4092580619.py:47: FutureWarning: suggest_loguniform has been deprecated in v3.0.0. This feature will be removed in v6.0.0. See https://github.com/optuna/optuna/releases/tag/v3.0.0. Use suggest_float(..., log=True) instead.\n",
      "  'learning_rate': trial.suggest_loguniform('learning_rate', 0.01, 0.3),\n",
      "[I 2025-03-02 18:36:55,044] Trial 21 finished with value: 0.9940309510779932 and parameters: {'n_estimators': 450, 'learning_rate': 0.19182275150974307, 'max_depth': 3, 'subsample': 0.9030132829757663}. Best is trial 13 with value: 0.9945003653666142.\n",
      "C:\\Users\\Administrator\\AppData\\Local\\Temp\\ipykernel_3276\\4092580619.py:47: FutureWarning: suggest_loguniform has been deprecated in v3.0.0. This feature will be removed in v6.0.0. See https://github.com/optuna/optuna/releases/tag/v3.0.0. Use suggest_float(..., log=True) instead.\n",
      "  'learning_rate': trial.suggest_loguniform('learning_rate', 0.01, 0.3),\n",
      "[I 2025-03-02 18:37:08,130] Trial 22 finished with value: 0.9939863209683417 and parameters: {'n_estimators': 450, 'learning_rate': 0.15798120257770004, 'max_depth': 4, 'subsample': 0.8811659879939826}. Best is trial 13 with value: 0.9945003653666142.\n",
      "C:\\Users\\Administrator\\AppData\\Local\\Temp\\ipykernel_3276\\4092580619.py:47: FutureWarning: suggest_loguniform has been deprecated in v3.0.0. This feature will be removed in v6.0.0. See https://github.com/optuna/optuna/releases/tag/v3.0.0. Use suggest_float(..., log=True) instead.\n",
      "  'learning_rate': trial.suggest_loguniform('learning_rate', 0.01, 0.3),\n",
      "[I 2025-03-02 18:37:17,363] Trial 23 finished with value: 0.9940365703336124 and parameters: {'n_estimators': 350, 'learning_rate': 0.24107910214375183, 'max_depth': 3, 'subsample': 0.7164402509309609}. Best is trial 13 with value: 0.9945003653666142.\n",
      "C:\\Users\\Administrator\\AppData\\Local\\Temp\\ipykernel_3276\\4092580619.py:47: FutureWarning: suggest_loguniform has been deprecated in v3.0.0. This feature will be removed in v6.0.0. See https://github.com/optuna/optuna/releases/tag/v3.0.0. Use suggest_float(..., log=True) instead.\n",
      "  'learning_rate': trial.suggest_loguniform('learning_rate', 0.01, 0.3),\n",
      "[I 2025-03-02 18:37:25,567] Trial 24 finished with value: 0.9929947206397834 and parameters: {'n_estimators': 350, 'learning_rate': 0.25429221986838657, 'max_depth': 6, 'subsample': 0.698695579790435}. Best is trial 13 with value: 0.9945003653666142.\n",
      "C:\\Users\\Administrator\\AppData\\Local\\Temp\\ipykernel_3276\\4092580619.py:47: FutureWarning: suggest_loguniform has been deprecated in v3.0.0. This feature will be removed in v6.0.0. See https://github.com/optuna/optuna/releases/tag/v3.0.0. Use suggest_float(..., log=True) instead.\n",
      "  'learning_rate': trial.suggest_loguniform('learning_rate', 0.01, 0.3),\n",
      "[I 2025-03-02 18:37:35,826] Trial 25 finished with value: 0.9930037308663906 and parameters: {'n_estimators': 250, 'learning_rate': 0.13248746658133972, 'max_depth': 5, 'subsample': 0.6432233893549328}. Best is trial 13 with value: 0.9945003653666142.\n",
      "C:\\Users\\Administrator\\AppData\\Local\\Temp\\ipykernel_3276\\4092580619.py:47: FutureWarning: suggest_loguniform has been deprecated in v3.0.0. This feature will be removed in v6.0.0. See https://github.com/optuna/optuna/releases/tag/v3.0.0. Use suggest_float(..., log=True) instead.\n",
      "  'learning_rate': trial.suggest_loguniform('learning_rate', 0.01, 0.3),\n",
      "[I 2025-03-02 18:37:45,653] Trial 26 finished with value: 0.9935123178155054 and parameters: {'n_estimators': 350, 'learning_rate': 0.2286659653672938, 'max_depth': 4, 'subsample': 0.7335520277495712}. Best is trial 13 with value: 0.9945003653666142.\n",
      "C:\\Users\\Administrator\\AppData\\Local\\Temp\\ipykernel_3276\\4092580619.py:47: FutureWarning: suggest_loguniform has been deprecated in v3.0.0. This feature will be removed in v6.0.0. See https://github.com/optuna/optuna/releases/tag/v3.0.0. Use suggest_float(..., log=True) instead.\n",
      "  'learning_rate': trial.suggest_loguniform('learning_rate', 0.01, 0.3),\n",
      "[I 2025-03-02 18:37:56,420] Trial 27 finished with value: 0.9940173529003693 and parameters: {'n_estimators': 400, 'learning_rate': 0.15378539215292056, 'max_depth': 3, 'subsample': 0.7119084791514274}. Best is trial 13 with value: 0.9945003653666142.\n",
      "C:\\Users\\Administrator\\AppData\\Local\\Temp\\ipykernel_3276\\4092580619.py:47: FutureWarning: suggest_loguniform has been deprecated in v3.0.0. This feature will be removed in v6.0.0. See https://github.com/optuna/optuna/releases/tag/v3.0.0. Use suggest_float(..., log=True) instead.\n",
      "  'learning_rate': trial.suggest_loguniform('learning_rate', 0.01, 0.3),\n",
      "[I 2025-03-02 18:38:09,608] Trial 28 finished with value: 0.9935031473044346 and parameters: {'n_estimators': 350, 'learning_rate': 0.08927922397537066, 'max_depth': 4, 'subsample': 0.7864936005523612}. Best is trial 13 with value: 0.9945003653666142.\n",
      "C:\\Users\\Administrator\\AppData\\Local\\Temp\\ipykernel_3276\\4092580619.py:47: FutureWarning: suggest_loguniform has been deprecated in v3.0.0. This feature will be removed in v6.0.0. See https://github.com/optuna/optuna/releases/tag/v3.0.0. Use suggest_float(..., log=True) instead.\n",
      "  'learning_rate': trial.suggest_loguniform('learning_rate', 0.01, 0.3),\n",
      "[I 2025-03-02 18:38:32,440] Trial 29 finished with value: 0.9903258124117358 and parameters: {'n_estimators': 400, 'learning_rate': 0.1051944258365441, 'max_depth': 10, 'subsample': 0.6411098164817545}. Best is trial 13 with value: 0.9945003653666142.\n",
      "C:\\Users\\Administrator\\AppData\\Local\\Temp\\ipykernel_3276\\4092580619.py:47: FutureWarning: suggest_loguniform has been deprecated in v3.0.0. This feature will be removed in v6.0.0. See https://github.com/optuna/optuna/releases/tag/v3.0.0. Use suggest_float(..., log=True) instead.\n",
      "  'learning_rate': trial.suggest_loguniform('learning_rate', 0.01, 0.3),\n",
      "[I 2025-03-02 18:38:42,043] Trial 30 finished with value: 0.9928981396552232 and parameters: {'n_estimators': 200, 'learning_rate': 0.06971448368269874, 'max_depth': 5, 'subsample': 0.7983070381236003}. Best is trial 13 with value: 0.9945003653666142.\n",
      "C:\\Users\\Administrator\\AppData\\Local\\Temp\\ipykernel_3276\\4092580619.py:47: FutureWarning: suggest_loguniform has been deprecated in v3.0.0. This feature will be removed in v6.0.0. See https://github.com/optuna/optuna/releases/tag/v3.0.0. Use suggest_float(..., log=True) instead.\n",
      "  'learning_rate': trial.suggest_loguniform('learning_rate', 0.01, 0.3),\n",
      "[I 2025-03-02 18:38:53,446] Trial 31 finished with value: 0.9945382384151094 and parameters: {'n_estimators': 450, 'learning_rate': 0.2024923577391871, 'max_depth': 3, 'subsample': 0.7600146206486817}. Best is trial 31 with value: 0.9945382384151094.\n",
      "C:\\Users\\Administrator\\AppData\\Local\\Temp\\ipykernel_3276\\4092580619.py:47: FutureWarning: suggest_loguniform has been deprecated in v3.0.0. This feature will be removed in v6.0.0. See https://github.com/optuna/optuna/releases/tag/v3.0.0. Use suggest_float(..., log=True) instead.\n",
      "  'learning_rate': trial.suggest_loguniform('learning_rate', 0.01, 0.3),\n",
      "[I 2025-03-02 18:39:04,290] Trial 32 finished with value: 0.9935359553935421 and parameters: {'n_estimators': 400, 'learning_rate': 0.21010540219202573, 'max_depth': 3, 'subsample': 0.7597965575457727}. Best is trial 31 with value: 0.9945382384151094.\n",
      "C:\\Users\\Administrator\\AppData\\Local\\Temp\\ipykernel_3276\\4092580619.py:47: FutureWarning: suggest_loguniform has been deprecated in v3.0.0. This feature will be removed in v6.0.0. See https://github.com/optuna/optuna/releases/tag/v3.0.0. Use suggest_float(..., log=True) instead.\n",
      "  'learning_rate': trial.suggest_loguniform('learning_rate', 0.01, 0.3),\n",
      "[I 2025-03-02 18:39:14,195] Trial 33 finished with value: 0.9940241105703247 and parameters: {'n_estimators': 500, 'learning_rate': 0.25067937151650715, 'max_depth': 3, 'subsample': 0.6941877051141835}. Best is trial 31 with value: 0.9945382384151094.\n",
      "C:\\Users\\Administrator\\AppData\\Local\\Temp\\ipykernel_3276\\4092580619.py:47: FutureWarning: suggest_loguniform has been deprecated in v3.0.0. This feature will be removed in v6.0.0. See https://github.com/optuna/optuna/releases/tag/v3.0.0. Use suggest_float(..., log=True) instead.\n",
      "  'learning_rate': trial.suggest_loguniform('learning_rate', 0.01, 0.3),\n",
      "[I 2025-03-02 18:39:27,519] Trial 34 finished with value: 0.9940241102659251 and parameters: {'n_estimators': 450, 'learning_rate': 0.14380556665177313, 'max_depth': 4, 'subsample': 0.7291518248912604}. Best is trial 31 with value: 0.9945382384151094.\n",
      "C:\\Users\\Administrator\\AppData\\Local\\Temp\\ipykernel_3276\\4092580619.py:47: FutureWarning: suggest_loguniform has been deprecated in v3.0.0. This feature will be removed in v6.0.0. See https://github.com/optuna/optuna/releases/tag/v3.0.0. Use suggest_float(..., log=True) instead.\n",
      "  'learning_rate': trial.suggest_loguniform('learning_rate', 0.01, 0.3),\n",
      "[I 2025-03-02 18:39:36,501] Trial 35 finished with value: 0.9945427426152144 and parameters: {'n_estimators': 300, 'learning_rate': 0.18476368934488233, 'max_depth': 3, 'subsample': 0.8349830456457842}. Best is trial 35 with value: 0.9945427426152144.\n",
      "C:\\Users\\Administrator\\AppData\\Local\\Temp\\ipykernel_3276\\4092580619.py:47: FutureWarning: suggest_loguniform has been deprecated in v3.0.0. This feature will be removed in v6.0.0. See https://github.com/optuna/optuna/releases/tag/v3.0.0. Use suggest_float(..., log=True) instead.\n",
      "  'learning_rate': trial.suggest_loguniform('learning_rate', 0.01, 0.3),\n",
      "[I 2025-03-02 18:39:57,781] Trial 36 finished with value: 0.9903401704491669 and parameters: {'n_estimators': 350, 'learning_rate': 0.1093273569798004, 'max_depth': 11, 'subsample': 0.8507250664852835}. Best is trial 35 with value: 0.9945427426152144.\n",
      "C:\\Users\\Administrator\\AppData\\Local\\Temp\\ipykernel_3276\\4092580619.py:47: FutureWarning: suggest_loguniform has been deprecated in v3.0.0. This feature will be removed in v6.0.0. See https://github.com/optuna/optuna/releases/tag/v3.0.0. Use suggest_float(..., log=True) instead.\n",
      "  'learning_rate': trial.suggest_loguniform('learning_rate', 0.01, 0.3),\n",
      "[I 2025-03-02 18:40:05,244] Trial 37 finished with value: 0.9940264456602901 and parameters: {'n_estimators': 250, 'learning_rate': 0.2667326620910829, 'max_depth': 3, 'subsample': 0.8318840322433143}. Best is trial 35 with value: 0.9945427426152144.\n",
      "C:\\Users\\Administrator\\AppData\\Local\\Temp\\ipykernel_3276\\4092580619.py:47: FutureWarning: suggest_loguniform has been deprecated in v3.0.0. This feature will be removed in v6.0.0. See https://github.com/optuna/optuna/releases/tag/v3.0.0. Use suggest_float(..., log=True) instead.\n",
      "  'learning_rate': trial.suggest_loguniform('learning_rate', 0.01, 0.3),\n",
      "[I 2025-03-02 18:40:15,165] Trial 38 finished with value: 0.9940218574048738 and parameters: {'n_estimators': 450, 'learning_rate': 0.22395377279956505, 'max_depth': 4, 'subsample': 0.8138610990491526}. Best is trial 35 with value: 0.9945427426152144.\n",
      "C:\\Users\\Administrator\\AppData\\Local\\Temp\\ipykernel_3276\\4092580619.py:47: FutureWarning: suggest_loguniform has been deprecated in v3.0.0. This feature will be removed in v6.0.0. See https://github.com/optuna/optuna/releases/tag/v3.0.0. Use suggest_float(..., log=True) instead.\n",
      "  'learning_rate': trial.suggest_loguniform('learning_rate', 0.01, 0.3),\n",
      "[I 2025-03-02 18:40:23,739] Trial 39 finished with value: 0.9940241934080378 and parameters: {'n_estimators': 300, 'learning_rate': 0.16335522362169344, 'max_depth': 3, 'subsample': 0.7802169529848084}. Best is trial 35 with value: 0.9945427426152144.\n",
      "C:\\Users\\Administrator\\AppData\\Local\\Temp\\ipykernel_3276\\4092580619.py:47: FutureWarning: suggest_loguniform has been deprecated in v3.0.0. This feature will be removed in v6.0.0. See https://github.com/optuna/optuna/releases/tag/v3.0.0. Use suggest_float(..., log=True) instead.\n",
      "  'learning_rate': trial.suggest_loguniform('learning_rate', 0.01, 0.3),\n",
      "[I 2025-03-02 18:40:38,274] Trial 40 finished with value: 0.9934574628357581 and parameters: {'n_estimators': 400, 'learning_rate': 0.1240121835043929, 'max_depth': 6, 'subsample': 0.8468131063820412}. Best is trial 35 with value: 0.9945427426152144.\n",
      "C:\\Users\\Administrator\\AppData\\Local\\Temp\\ipykernel_3276\\4092580619.py:47: FutureWarning: suggest_loguniform has been deprecated in v3.0.0. This feature will be removed in v6.0.0. See https://github.com/optuna/optuna/releases/tag/v3.0.0. Use suggest_float(..., log=True) instead.\n",
      "  'learning_rate': trial.suggest_loguniform('learning_rate', 0.01, 0.3),\n",
      "[I 2025-03-02 18:40:45,991] Trial 41 finished with value: 0.9935100652588535 and parameters: {'n_estimators': 300, 'learning_rate': 0.19253626174528396, 'max_depth': 3, 'subsample': 0.6643868419029151}. Best is trial 35 with value: 0.9945427426152144.\n",
      "C:\\Users\\Administrator\\AppData\\Local\\Temp\\ipykernel_3276\\4092580619.py:47: FutureWarning: suggest_loguniform has been deprecated in v3.0.0. This feature will be removed in v6.0.0. See https://github.com/optuna/optuna/releases/tag/v3.0.0. Use suggest_float(..., log=True) instead.\n",
      "  'learning_rate': trial.suggest_loguniform('learning_rate', 0.01, 0.3),\n",
      "[I 2025-03-02 18:40:53,980] Trial 42 finished with value: 0.9930016401162003 and parameters: {'n_estimators': 300, 'learning_rate': 0.1841204302878508, 'max_depth': 3, 'subsample': 0.7080257128667379}. Best is trial 35 with value: 0.9945427426152144.\n",
      "C:\\Users\\Administrator\\AppData\\Local\\Temp\\ipykernel_3276\\4092580619.py:47: FutureWarning: suggest_loguniform has been deprecated in v3.0.0. This feature will be removed in v6.0.0. See https://github.com/optuna/optuna/releases/tag/v3.0.0. Use suggest_float(..., log=True) instead.\n",
      "  'learning_rate': trial.suggest_loguniform('learning_rate', 0.01, 0.3),\n",
      "[I 2025-03-02 18:40:59,476] Trial 43 finished with value: 0.9924828589982035 and parameters: {'n_estimators': 200, 'learning_rate': 0.2207690189511253, 'max_depth': 3, 'subsample': 0.7270841055333166}. Best is trial 35 with value: 0.9945427426152144.\n",
      "C:\\Users\\Administrator\\AppData\\Local\\Temp\\ipykernel_3276\\4092580619.py:47: FutureWarning: suggest_loguniform has been deprecated in v3.0.0. This feature will be removed in v6.0.0. See https://github.com/optuna/optuna/releases/tag/v3.0.0. Use suggest_float(..., log=True) instead.\n",
      "  'learning_rate': trial.suggest_loguniform('learning_rate', 0.01, 0.3),\n",
      "[I 2025-03-02 18:41:10,717] Trial 44 finished with value: 0.9939896879717087 and parameters: {'n_estimators': 250, 'learning_rate': 0.14262738600955105, 'max_depth': 5, 'subsample': 0.7552514753671161}. Best is trial 35 with value: 0.9945427426152144.\n",
      "C:\\Users\\Administrator\\AppData\\Local\\Temp\\ipykernel_3276\\4092580619.py:47: FutureWarning: suggest_loguniform has been deprecated in v3.0.0. This feature will be removed in v6.0.0. See https://github.com/optuna/optuna/releases/tag/v3.0.0. Use suggest_float(..., log=True) instead.\n",
      "  'learning_rate': trial.suggest_loguniform('learning_rate', 0.01, 0.3),\n",
      "[I 2025-03-02 18:41:18,140] Trial 45 finished with value: 0.9945404903629621 and parameters: {'n_estimators': 300, 'learning_rate': 0.2983698027508094, 'max_depth': 4, 'subsample': 0.7778537141404334}. Best is trial 35 with value: 0.9945427426152144.\n",
      "C:\\Users\\Administrator\\AppData\\Local\\Temp\\ipykernel_3276\\4092580619.py:47: FutureWarning: suggest_loguniform has been deprecated in v3.0.0. This feature will be removed in v6.0.0. See https://github.com/optuna/optuna/releases/tag/v3.0.0. Use suggest_float(..., log=True) instead.\n",
      "  'learning_rate': trial.suggest_loguniform('learning_rate', 0.01, 0.3),\n",
      "[I 2025-03-02 18:41:25,679] Trial 46 finished with value: 0.9940286147704296 and parameters: {'n_estimators': 300, 'learning_rate': 0.28878791728954384, 'max_depth': 4, 'subsample': 0.7777213440421146}. Best is trial 35 with value: 0.9945427426152144.\n",
      "C:\\Users\\Administrator\\AppData\\Local\\Temp\\ipykernel_3276\\4092580619.py:47: FutureWarning: suggest_loguniform has been deprecated in v3.0.0. This feature will be removed in v6.0.0. See https://github.com/optuna/optuna/releases/tag/v3.0.0. Use suggest_float(..., log=True) instead.\n",
      "  'learning_rate': trial.suggest_loguniform('learning_rate', 0.01, 0.3),\n",
      "[I 2025-03-02 18:41:34,820] Trial 47 finished with value: 0.9924053422874196 and parameters: {'n_estimators': 350, 'learning_rate': 0.24520926785648017, 'max_depth': 8, 'subsample': 0.8222649949835726}. Best is trial 35 with value: 0.9945427426152144.\n",
      "C:\\Users\\Administrator\\AppData\\Local\\Temp\\ipykernel_3276\\4092580619.py:47: FutureWarning: suggest_loguniform has been deprecated in v3.0.0. This feature will be removed in v6.0.0. See https://github.com/optuna/optuna/releases/tag/v3.0.0. Use suggest_float(..., log=True) instead.\n",
      "  'learning_rate': trial.suggest_loguniform('learning_rate', 0.01, 0.3),\n",
      "[I 2025-03-02 18:41:45,474] Trial 48 finished with value: 0.9934529583312536 and parameters: {'n_estimators': 350, 'learning_rate': 0.1722046823270698, 'max_depth': 6, 'subsample': 0.8610572035756539}. Best is trial 35 with value: 0.9945427426152144.\n",
      "C:\\Users\\Administrator\\AppData\\Local\\Temp\\ipykernel_3276\\4092580619.py:47: FutureWarning: suggest_loguniform has been deprecated in v3.0.0. This feature will be removed in v6.0.0. See https://github.com/optuna/optuna/releases/tag/v3.0.0. Use suggest_float(..., log=True) instead.\n",
      "  'learning_rate': trial.suggest_loguniform('learning_rate', 0.01, 0.3),\n",
      "[I 2025-03-02 18:42:02,435] Trial 49 finished with value: 0.9923768756753246 and parameters: {'n_estimators': 450, 'learning_rate': 0.018562505994022312, 'max_depth': 4, 'subsample': 0.8025537185220322}. Best is trial 35 with value: 0.9945427426152144.\n"
     ]
    },
    {
     "data": {
      "text/html": [
       "<style>#sk-container-id-2 {\n",
       "  /* Definition of color scheme common for light and dark mode */\n",
       "  --sklearn-color-text: #000;\n",
       "  --sklearn-color-text-muted: #666;\n",
       "  --sklearn-color-line: gray;\n",
       "  /* Definition of color scheme for unfitted estimators */\n",
       "  --sklearn-color-unfitted-level-0: #fff5e6;\n",
       "  --sklearn-color-unfitted-level-1: #f6e4d2;\n",
       "  --sklearn-color-unfitted-level-2: #ffe0b3;\n",
       "  --sklearn-color-unfitted-level-3: chocolate;\n",
       "  /* Definition of color scheme for fitted estimators */\n",
       "  --sklearn-color-fitted-level-0: #f0f8ff;\n",
       "  --sklearn-color-fitted-level-1: #d4ebff;\n",
       "  --sklearn-color-fitted-level-2: #b3dbfd;\n",
       "  --sklearn-color-fitted-level-3: cornflowerblue;\n",
       "\n",
       "  /* Specific color for light theme */\n",
       "  --sklearn-color-text-on-default-background: var(--sg-text-color, var(--theme-code-foreground, var(--jp-content-font-color1, black)));\n",
       "  --sklearn-color-background: var(--sg-background-color, var(--theme-background, var(--jp-layout-color0, white)));\n",
       "  --sklearn-color-border-box: var(--sg-text-color, var(--theme-code-foreground, var(--jp-content-font-color1, black)));\n",
       "  --sklearn-color-icon: #696969;\n",
       "\n",
       "  @media (prefers-color-scheme: dark) {\n",
       "    /* Redefinition of color scheme for dark theme */\n",
       "    --sklearn-color-text-on-default-background: var(--sg-text-color, var(--theme-code-foreground, var(--jp-content-font-color1, white)));\n",
       "    --sklearn-color-background: var(--sg-background-color, var(--theme-background, var(--jp-layout-color0, #111)));\n",
       "    --sklearn-color-border-box: var(--sg-text-color, var(--theme-code-foreground, var(--jp-content-font-color1, white)));\n",
       "    --sklearn-color-icon: #878787;\n",
       "  }\n",
       "}\n",
       "\n",
       "#sk-container-id-2 {\n",
       "  color: var(--sklearn-color-text);\n",
       "}\n",
       "\n",
       "#sk-container-id-2 pre {\n",
       "  padding: 0;\n",
       "}\n",
       "\n",
       "#sk-container-id-2 input.sk-hidden--visually {\n",
       "  border: 0;\n",
       "  clip: rect(1px 1px 1px 1px);\n",
       "  clip: rect(1px, 1px, 1px, 1px);\n",
       "  height: 1px;\n",
       "  margin: -1px;\n",
       "  overflow: hidden;\n",
       "  padding: 0;\n",
       "  position: absolute;\n",
       "  width: 1px;\n",
       "}\n",
       "\n",
       "#sk-container-id-2 div.sk-dashed-wrapped {\n",
       "  border: 1px dashed var(--sklearn-color-line);\n",
       "  margin: 0 0.4em 0.5em 0.4em;\n",
       "  box-sizing: border-box;\n",
       "  padding-bottom: 0.4em;\n",
       "  background-color: var(--sklearn-color-background);\n",
       "}\n",
       "\n",
       "#sk-container-id-2 div.sk-container {\n",
       "  /* jupyter's `normalize.less` sets `[hidden] { display: none; }`\n",
       "     but bootstrap.min.css set `[hidden] { display: none !important; }`\n",
       "     so we also need the `!important` here to be able to override the\n",
       "     default hidden behavior on the sphinx rendered scikit-learn.org.\n",
       "     See: https://github.com/scikit-learn/scikit-learn/issues/21755 */\n",
       "  display: inline-block !important;\n",
       "  position: relative;\n",
       "}\n",
       "\n",
       "#sk-container-id-2 div.sk-text-repr-fallback {\n",
       "  display: none;\n",
       "}\n",
       "\n",
       "div.sk-parallel-item,\n",
       "div.sk-serial,\n",
       "div.sk-item {\n",
       "  /* draw centered vertical line to link estimators */\n",
       "  background-image: linear-gradient(var(--sklearn-color-text-on-default-background), var(--sklearn-color-text-on-default-background));\n",
       "  background-size: 2px 100%;\n",
       "  background-repeat: no-repeat;\n",
       "  background-position: center center;\n",
       "}\n",
       "\n",
       "/* Parallel-specific style estimator block */\n",
       "\n",
       "#sk-container-id-2 div.sk-parallel-item::after {\n",
       "  content: \"\";\n",
       "  width: 100%;\n",
       "  border-bottom: 2px solid var(--sklearn-color-text-on-default-background);\n",
       "  flex-grow: 1;\n",
       "}\n",
       "\n",
       "#sk-container-id-2 div.sk-parallel {\n",
       "  display: flex;\n",
       "  align-items: stretch;\n",
       "  justify-content: center;\n",
       "  background-color: var(--sklearn-color-background);\n",
       "  position: relative;\n",
       "}\n",
       "\n",
       "#sk-container-id-2 div.sk-parallel-item {\n",
       "  display: flex;\n",
       "  flex-direction: column;\n",
       "}\n",
       "\n",
       "#sk-container-id-2 div.sk-parallel-item:first-child::after {\n",
       "  align-self: flex-end;\n",
       "  width: 50%;\n",
       "}\n",
       "\n",
       "#sk-container-id-2 div.sk-parallel-item:last-child::after {\n",
       "  align-self: flex-start;\n",
       "  width: 50%;\n",
       "}\n",
       "\n",
       "#sk-container-id-2 div.sk-parallel-item:only-child::after {\n",
       "  width: 0;\n",
       "}\n",
       "\n",
       "/* Serial-specific style estimator block */\n",
       "\n",
       "#sk-container-id-2 div.sk-serial {\n",
       "  display: flex;\n",
       "  flex-direction: column;\n",
       "  align-items: center;\n",
       "  background-color: var(--sklearn-color-background);\n",
       "  padding-right: 1em;\n",
       "  padding-left: 1em;\n",
       "}\n",
       "\n",
       "\n",
       "/* Toggleable style: style used for estimator/Pipeline/ColumnTransformer box that is\n",
       "clickable and can be expanded/collapsed.\n",
       "- Pipeline and ColumnTransformer use this feature and define the default style\n",
       "- Estimators will overwrite some part of the style using the `sk-estimator` class\n",
       "*/\n",
       "\n",
       "/* Pipeline and ColumnTransformer style (default) */\n",
       "\n",
       "#sk-container-id-2 div.sk-toggleable {\n",
       "  /* Default theme specific background. It is overwritten whether we have a\n",
       "  specific estimator or a Pipeline/ColumnTransformer */\n",
       "  background-color: var(--sklearn-color-background);\n",
       "}\n",
       "\n",
       "/* Toggleable label */\n",
       "#sk-container-id-2 label.sk-toggleable__label {\n",
       "  cursor: pointer;\n",
       "  display: flex;\n",
       "  width: 100%;\n",
       "  margin-bottom: 0;\n",
       "  padding: 0.5em;\n",
       "  box-sizing: border-box;\n",
       "  text-align: center;\n",
       "  align-items: start;\n",
       "  justify-content: space-between;\n",
       "  gap: 0.5em;\n",
       "}\n",
       "\n",
       "#sk-container-id-2 label.sk-toggleable__label .caption {\n",
       "  font-size: 0.6rem;\n",
       "  font-weight: lighter;\n",
       "  color: var(--sklearn-color-text-muted);\n",
       "}\n",
       "\n",
       "#sk-container-id-2 label.sk-toggleable__label-arrow:before {\n",
       "  /* Arrow on the left of the label */\n",
       "  content: \"▸\";\n",
       "  float: left;\n",
       "  margin-right: 0.25em;\n",
       "  color: var(--sklearn-color-icon);\n",
       "}\n",
       "\n",
       "#sk-container-id-2 label.sk-toggleable__label-arrow:hover:before {\n",
       "  color: var(--sklearn-color-text);\n",
       "}\n",
       "\n",
       "/* Toggleable content - dropdown */\n",
       "\n",
       "#sk-container-id-2 div.sk-toggleable__content {\n",
       "  max-height: 0;\n",
       "  max-width: 0;\n",
       "  overflow: hidden;\n",
       "  text-align: left;\n",
       "  /* unfitted */\n",
       "  background-color: var(--sklearn-color-unfitted-level-0);\n",
       "}\n",
       "\n",
       "#sk-container-id-2 div.sk-toggleable__content.fitted {\n",
       "  /* fitted */\n",
       "  background-color: var(--sklearn-color-fitted-level-0);\n",
       "}\n",
       "\n",
       "#sk-container-id-2 div.sk-toggleable__content pre {\n",
       "  margin: 0.2em;\n",
       "  border-radius: 0.25em;\n",
       "  color: var(--sklearn-color-text);\n",
       "  /* unfitted */\n",
       "  background-color: var(--sklearn-color-unfitted-level-0);\n",
       "}\n",
       "\n",
       "#sk-container-id-2 div.sk-toggleable__content.fitted pre {\n",
       "  /* unfitted */\n",
       "  background-color: var(--sklearn-color-fitted-level-0);\n",
       "}\n",
       "\n",
       "#sk-container-id-2 input.sk-toggleable__control:checked~div.sk-toggleable__content {\n",
       "  /* Expand drop-down */\n",
       "  max-height: 200px;\n",
       "  max-width: 100%;\n",
       "  overflow: auto;\n",
       "}\n",
       "\n",
       "#sk-container-id-2 input.sk-toggleable__control:checked~label.sk-toggleable__label-arrow:before {\n",
       "  content: \"▾\";\n",
       "}\n",
       "\n",
       "/* Pipeline/ColumnTransformer-specific style */\n",
       "\n",
       "#sk-container-id-2 div.sk-label input.sk-toggleable__control:checked~label.sk-toggleable__label {\n",
       "  color: var(--sklearn-color-text);\n",
       "  background-color: var(--sklearn-color-unfitted-level-2);\n",
       "}\n",
       "\n",
       "#sk-container-id-2 div.sk-label.fitted input.sk-toggleable__control:checked~label.sk-toggleable__label {\n",
       "  background-color: var(--sklearn-color-fitted-level-2);\n",
       "}\n",
       "\n",
       "/* Estimator-specific style */\n",
       "\n",
       "/* Colorize estimator box */\n",
       "#sk-container-id-2 div.sk-estimator input.sk-toggleable__control:checked~label.sk-toggleable__label {\n",
       "  /* unfitted */\n",
       "  background-color: var(--sklearn-color-unfitted-level-2);\n",
       "}\n",
       "\n",
       "#sk-container-id-2 div.sk-estimator.fitted input.sk-toggleable__control:checked~label.sk-toggleable__label {\n",
       "  /* fitted */\n",
       "  background-color: var(--sklearn-color-fitted-level-2);\n",
       "}\n",
       "\n",
       "#sk-container-id-2 div.sk-label label.sk-toggleable__label,\n",
       "#sk-container-id-2 div.sk-label label {\n",
       "  /* The background is the default theme color */\n",
       "  color: var(--sklearn-color-text-on-default-background);\n",
       "}\n",
       "\n",
       "/* On hover, darken the color of the background */\n",
       "#sk-container-id-2 div.sk-label:hover label.sk-toggleable__label {\n",
       "  color: var(--sklearn-color-text);\n",
       "  background-color: var(--sklearn-color-unfitted-level-2);\n",
       "}\n",
       "\n",
       "/* Label box, darken color on hover, fitted */\n",
       "#sk-container-id-2 div.sk-label.fitted:hover label.sk-toggleable__label.fitted {\n",
       "  color: var(--sklearn-color-text);\n",
       "  background-color: var(--sklearn-color-fitted-level-2);\n",
       "}\n",
       "\n",
       "/* Estimator label */\n",
       "\n",
       "#sk-container-id-2 div.sk-label label {\n",
       "  font-family: monospace;\n",
       "  font-weight: bold;\n",
       "  display: inline-block;\n",
       "  line-height: 1.2em;\n",
       "}\n",
       "\n",
       "#sk-container-id-2 div.sk-label-container {\n",
       "  text-align: center;\n",
       "}\n",
       "\n",
       "/* Estimator-specific */\n",
       "#sk-container-id-2 div.sk-estimator {\n",
       "  font-family: monospace;\n",
       "  border: 1px dotted var(--sklearn-color-border-box);\n",
       "  border-radius: 0.25em;\n",
       "  box-sizing: border-box;\n",
       "  margin-bottom: 0.5em;\n",
       "  /* unfitted */\n",
       "  background-color: var(--sklearn-color-unfitted-level-0);\n",
       "}\n",
       "\n",
       "#sk-container-id-2 div.sk-estimator.fitted {\n",
       "  /* fitted */\n",
       "  background-color: var(--sklearn-color-fitted-level-0);\n",
       "}\n",
       "\n",
       "/* on hover */\n",
       "#sk-container-id-2 div.sk-estimator:hover {\n",
       "  /* unfitted */\n",
       "  background-color: var(--sklearn-color-unfitted-level-2);\n",
       "}\n",
       "\n",
       "#sk-container-id-2 div.sk-estimator.fitted:hover {\n",
       "  /* fitted */\n",
       "  background-color: var(--sklearn-color-fitted-level-2);\n",
       "}\n",
       "\n",
       "/* Specification for estimator info (e.g. \"i\" and \"?\") */\n",
       "\n",
       "/* Common style for \"i\" and \"?\" */\n",
       "\n",
       ".sk-estimator-doc-link,\n",
       "a:link.sk-estimator-doc-link,\n",
       "a:visited.sk-estimator-doc-link {\n",
       "  float: right;\n",
       "  font-size: smaller;\n",
       "  line-height: 1em;\n",
       "  font-family: monospace;\n",
       "  background-color: var(--sklearn-color-background);\n",
       "  border-radius: 1em;\n",
       "  height: 1em;\n",
       "  width: 1em;\n",
       "  text-decoration: none !important;\n",
       "  margin-left: 0.5em;\n",
       "  text-align: center;\n",
       "  /* unfitted */\n",
       "  border: var(--sklearn-color-unfitted-level-1) 1pt solid;\n",
       "  color: var(--sklearn-color-unfitted-level-1);\n",
       "}\n",
       "\n",
       ".sk-estimator-doc-link.fitted,\n",
       "a:link.sk-estimator-doc-link.fitted,\n",
       "a:visited.sk-estimator-doc-link.fitted {\n",
       "  /* fitted */\n",
       "  border: var(--sklearn-color-fitted-level-1) 1pt solid;\n",
       "  color: var(--sklearn-color-fitted-level-1);\n",
       "}\n",
       "\n",
       "/* On hover */\n",
       "div.sk-estimator:hover .sk-estimator-doc-link:hover,\n",
       ".sk-estimator-doc-link:hover,\n",
       "div.sk-label-container:hover .sk-estimator-doc-link:hover,\n",
       ".sk-estimator-doc-link:hover {\n",
       "  /* unfitted */\n",
       "  background-color: var(--sklearn-color-unfitted-level-3);\n",
       "  color: var(--sklearn-color-background);\n",
       "  text-decoration: none;\n",
       "}\n",
       "\n",
       "div.sk-estimator.fitted:hover .sk-estimator-doc-link.fitted:hover,\n",
       ".sk-estimator-doc-link.fitted:hover,\n",
       "div.sk-label-container:hover .sk-estimator-doc-link.fitted:hover,\n",
       ".sk-estimator-doc-link.fitted:hover {\n",
       "  /* fitted */\n",
       "  background-color: var(--sklearn-color-fitted-level-3);\n",
       "  color: var(--sklearn-color-background);\n",
       "  text-decoration: none;\n",
       "}\n",
       "\n",
       "/* Span, style for the box shown on hovering the info icon */\n",
       ".sk-estimator-doc-link span {\n",
       "  display: none;\n",
       "  z-index: 9999;\n",
       "  position: relative;\n",
       "  font-weight: normal;\n",
       "  right: .2ex;\n",
       "  padding: .5ex;\n",
       "  margin: .5ex;\n",
       "  width: min-content;\n",
       "  min-width: 20ex;\n",
       "  max-width: 50ex;\n",
       "  color: var(--sklearn-color-text);\n",
       "  box-shadow: 2pt 2pt 4pt #999;\n",
       "  /* unfitted */\n",
       "  background: var(--sklearn-color-unfitted-level-0);\n",
       "  border: .5pt solid var(--sklearn-color-unfitted-level-3);\n",
       "}\n",
       "\n",
       ".sk-estimator-doc-link.fitted span {\n",
       "  /* fitted */\n",
       "  background: var(--sklearn-color-fitted-level-0);\n",
       "  border: var(--sklearn-color-fitted-level-3);\n",
       "}\n",
       "\n",
       ".sk-estimator-doc-link:hover span {\n",
       "  display: block;\n",
       "}\n",
       "\n",
       "/* \"?\"-specific style due to the `<a>` HTML tag */\n",
       "\n",
       "#sk-container-id-2 a.estimator_doc_link {\n",
       "  float: right;\n",
       "  font-size: 1rem;\n",
       "  line-height: 1em;\n",
       "  font-family: monospace;\n",
       "  background-color: var(--sklearn-color-background);\n",
       "  border-radius: 1rem;\n",
       "  height: 1rem;\n",
       "  width: 1rem;\n",
       "  text-decoration: none;\n",
       "  /* unfitted */\n",
       "  color: var(--sklearn-color-unfitted-level-1);\n",
       "  border: var(--sklearn-color-unfitted-level-1) 1pt solid;\n",
       "}\n",
       "\n",
       "#sk-container-id-2 a.estimator_doc_link.fitted {\n",
       "  /* fitted */\n",
       "  border: var(--sklearn-color-fitted-level-1) 1pt solid;\n",
       "  color: var(--sklearn-color-fitted-level-1);\n",
       "}\n",
       "\n",
       "/* On hover */\n",
       "#sk-container-id-2 a.estimator_doc_link:hover {\n",
       "  /* unfitted */\n",
       "  background-color: var(--sklearn-color-unfitted-level-3);\n",
       "  color: var(--sklearn-color-background);\n",
       "  text-decoration: none;\n",
       "}\n",
       "\n",
       "#sk-container-id-2 a.estimator_doc_link.fitted:hover {\n",
       "  /* fitted */\n",
       "  background-color: var(--sklearn-color-fitted-level-3);\n",
       "}\n",
       "</style><div id=\"sk-container-id-2\" class=\"sk-top-container\"><div class=\"sk-text-repr-fallback\"><pre>Pipeline(steps=[(&#x27;preprocessor&#x27;,\n",
       "                 ColumnTransformer(transformers=[(&#x27;robust&#x27;, RobustScaler(),\n",
       "                                                  [&#x27;Coolant_Temperature&#x27;,\n",
       "                                                   &#x27;Torque(Nm)&#x27;,\n",
       "                                                   &#x27;Hydraulic_Pressure(Pa)&#x27;,\n",
       "                                                   &#x27;Cutting(N)&#x27;,\n",
       "                                                   &#x27;Spindle_Speed(RPS)&#x27;]),\n",
       "                                                 (&#x27;standard&#x27;, StandardScaler(),\n",
       "                                                  [&#x27;Hydraulic_Oil_Temperature&#x27;,\n",
       "                                                   &#x27;Spindle_Bearing_Temperature&#x27;,\n",
       "                                                   &#x27;Spindle_Vibration&#x27;,\n",
       "                                                   &#x27;Tool_Vibration&#x27;,\n",
       "                                                   &#x27;Voltage(volts)&#x27;,\n",
       "                                                   &#x27;Coolant_Pressure(Pa)&#x27;...\n",
       "                               grow_policy=None, importance_type=None,\n",
       "                               interaction_constraints=None,\n",
       "                               learning_rate=0.04664543050831571, max_bin=None,\n",
       "                               max_cat_threshold=None, max_cat_to_onehot=None,\n",
       "                               max_delta_step=None, max_depth=8,\n",
       "                               max_leaves=None, min_child_weight=None,\n",
       "                               missing=nan, monotone_constraints=None,\n",
       "                               multi_strategy=None, n_estimators=150,\n",
       "                               n_jobs=None, num_parallel_tree=None,\n",
       "                               random_state=42, ...))])</pre><b>In a Jupyter environment, please rerun this cell to show the HTML representation or trust the notebook. <br />On GitHub, the HTML representation is unable to render, please try loading this page with nbviewer.org.</b></div><div class=\"sk-container\" hidden><div class=\"sk-item sk-dashed-wrapped\"><div class=\"sk-label-container\"><div class=\"sk-label fitted sk-toggleable\"><input class=\"sk-toggleable__control sk-hidden--visually\" id=\"sk-estimator-id-10\" type=\"checkbox\" ><label for=\"sk-estimator-id-10\" class=\"sk-toggleable__label fitted sk-toggleable__label-arrow\"><div><div>Pipeline</div></div><div><a class=\"sk-estimator-doc-link fitted\" rel=\"noreferrer\" target=\"_blank\" href=\"https://scikit-learn.org/1.6/modules/generated/sklearn.pipeline.Pipeline.html\">?<span>Documentation for Pipeline</span></a><span class=\"sk-estimator-doc-link fitted\">i<span>Fitted</span></span></div></label><div class=\"sk-toggleable__content fitted\"><pre>Pipeline(steps=[(&#x27;preprocessor&#x27;,\n",
       "                 ColumnTransformer(transformers=[(&#x27;robust&#x27;, RobustScaler(),\n",
       "                                                  [&#x27;Coolant_Temperature&#x27;,\n",
       "                                                   &#x27;Torque(Nm)&#x27;,\n",
       "                                                   &#x27;Hydraulic_Pressure(Pa)&#x27;,\n",
       "                                                   &#x27;Cutting(N)&#x27;,\n",
       "                                                   &#x27;Spindle_Speed(RPS)&#x27;]),\n",
       "                                                 (&#x27;standard&#x27;, StandardScaler(),\n",
       "                                                  [&#x27;Hydraulic_Oil_Temperature&#x27;,\n",
       "                                                   &#x27;Spindle_Bearing_Temperature&#x27;,\n",
       "                                                   &#x27;Spindle_Vibration&#x27;,\n",
       "                                                   &#x27;Tool_Vibration&#x27;,\n",
       "                                                   &#x27;Voltage(volts)&#x27;,\n",
       "                                                   &#x27;Coolant_Pressure(Pa)&#x27;...\n",
       "                               grow_policy=None, importance_type=None,\n",
       "                               interaction_constraints=None,\n",
       "                               learning_rate=0.04664543050831571, max_bin=None,\n",
       "                               max_cat_threshold=None, max_cat_to_onehot=None,\n",
       "                               max_delta_step=None, max_depth=8,\n",
       "                               max_leaves=None, min_child_weight=None,\n",
       "                               missing=nan, monotone_constraints=None,\n",
       "                               multi_strategy=None, n_estimators=150,\n",
       "                               n_jobs=None, num_parallel_tree=None,\n",
       "                               random_state=42, ...))])</pre></div> </div></div><div class=\"sk-serial\"><div class=\"sk-item sk-dashed-wrapped\"><div class=\"sk-label-container\"><div class=\"sk-label fitted sk-toggleable\"><input class=\"sk-toggleable__control sk-hidden--visually\" id=\"sk-estimator-id-11\" type=\"checkbox\" ><label for=\"sk-estimator-id-11\" class=\"sk-toggleable__label fitted sk-toggleable__label-arrow\"><div><div>preprocessor: ColumnTransformer</div></div><div><a class=\"sk-estimator-doc-link fitted\" rel=\"noreferrer\" target=\"_blank\" href=\"https://scikit-learn.org/1.6/modules/generated/sklearn.compose.ColumnTransformer.html\">?<span>Documentation for preprocessor: ColumnTransformer</span></a></div></label><div class=\"sk-toggleable__content fitted\"><pre>ColumnTransformer(transformers=[(&#x27;robust&#x27;, RobustScaler(),\n",
       "                                 [&#x27;Coolant_Temperature&#x27;, &#x27;Torque(Nm)&#x27;,\n",
       "                                  &#x27;Hydraulic_Pressure(Pa)&#x27;, &#x27;Cutting(N)&#x27;,\n",
       "                                  &#x27;Spindle_Speed(RPS)&#x27;]),\n",
       "                                (&#x27;standard&#x27;, StandardScaler(),\n",
       "                                 [&#x27;Hydraulic_Oil_Temperature&#x27;,\n",
       "                                  &#x27;Spindle_Bearing_Temperature&#x27;,\n",
       "                                  &#x27;Spindle_Vibration&#x27;, &#x27;Tool_Vibration&#x27;,\n",
       "                                  &#x27;Voltage(volts)&#x27;, &#x27;Coolant_Pressure(Pa)&#x27;,\n",
       "                                  &#x27;Air_System_Pressure(Pa)&#x27;]),\n",
       "                                (&#x27;one-hot-encoder&#x27;, OneHotEncoder(),\n",
       "                                 Index([&#x27;Machine_ID&#x27;], dtype=&#x27;object&#x27;))])</pre></div> </div></div><div class=\"sk-parallel\"><div class=\"sk-parallel-item\"><div class=\"sk-item\"><div class=\"sk-label-container\"><div class=\"sk-label fitted sk-toggleable\"><input class=\"sk-toggleable__control sk-hidden--visually\" id=\"sk-estimator-id-12\" type=\"checkbox\" ><label for=\"sk-estimator-id-12\" class=\"sk-toggleable__label fitted sk-toggleable__label-arrow\"><div><div>robust</div></div></label><div class=\"sk-toggleable__content fitted\"><pre>[&#x27;Coolant_Temperature&#x27;, &#x27;Torque(Nm)&#x27;, &#x27;Hydraulic_Pressure(Pa)&#x27;, &#x27;Cutting(N)&#x27;, &#x27;Spindle_Speed(RPS)&#x27;]</pre></div> </div></div><div class=\"sk-serial\"><div class=\"sk-item\"><div class=\"sk-estimator fitted sk-toggleable\"><input class=\"sk-toggleable__control sk-hidden--visually\" id=\"sk-estimator-id-13\" type=\"checkbox\" ><label for=\"sk-estimator-id-13\" class=\"sk-toggleable__label fitted sk-toggleable__label-arrow\"><div><div>RobustScaler</div></div><div><a class=\"sk-estimator-doc-link fitted\" rel=\"noreferrer\" target=\"_blank\" href=\"https://scikit-learn.org/1.6/modules/generated/sklearn.preprocessing.RobustScaler.html\">?<span>Documentation for RobustScaler</span></a></div></label><div class=\"sk-toggleable__content fitted\"><pre>RobustScaler()</pre></div> </div></div></div></div></div><div class=\"sk-parallel-item\"><div class=\"sk-item\"><div class=\"sk-label-container\"><div class=\"sk-label fitted sk-toggleable\"><input class=\"sk-toggleable__control sk-hidden--visually\" id=\"sk-estimator-id-14\" type=\"checkbox\" ><label for=\"sk-estimator-id-14\" class=\"sk-toggleable__label fitted sk-toggleable__label-arrow\"><div><div>standard</div></div></label><div class=\"sk-toggleable__content fitted\"><pre>[&#x27;Hydraulic_Oil_Temperature&#x27;, &#x27;Spindle_Bearing_Temperature&#x27;, &#x27;Spindle_Vibration&#x27;, &#x27;Tool_Vibration&#x27;, &#x27;Voltage(volts)&#x27;, &#x27;Coolant_Pressure(Pa)&#x27;, &#x27;Air_System_Pressure(Pa)&#x27;]</pre></div> </div></div><div class=\"sk-serial\"><div class=\"sk-item\"><div class=\"sk-estimator fitted sk-toggleable\"><input class=\"sk-toggleable__control sk-hidden--visually\" id=\"sk-estimator-id-15\" type=\"checkbox\" ><label for=\"sk-estimator-id-15\" class=\"sk-toggleable__label fitted sk-toggleable__label-arrow\"><div><div>StandardScaler</div></div><div><a class=\"sk-estimator-doc-link fitted\" rel=\"noreferrer\" target=\"_blank\" href=\"https://scikit-learn.org/1.6/modules/generated/sklearn.preprocessing.StandardScaler.html\">?<span>Documentation for StandardScaler</span></a></div></label><div class=\"sk-toggleable__content fitted\"><pre>StandardScaler()</pre></div> </div></div></div></div></div><div class=\"sk-parallel-item\"><div class=\"sk-item\"><div class=\"sk-label-container\"><div class=\"sk-label fitted sk-toggleable\"><input class=\"sk-toggleable__control sk-hidden--visually\" id=\"sk-estimator-id-16\" type=\"checkbox\" ><label for=\"sk-estimator-id-16\" class=\"sk-toggleable__label fitted sk-toggleable__label-arrow\"><div><div>one-hot-encoder</div></div></label><div class=\"sk-toggleable__content fitted\"><pre>Index([&#x27;Machine_ID&#x27;], dtype=&#x27;object&#x27;)</pre></div> </div></div><div class=\"sk-serial\"><div class=\"sk-item\"><div class=\"sk-estimator fitted sk-toggleable\"><input class=\"sk-toggleable__control sk-hidden--visually\" id=\"sk-estimator-id-17\" type=\"checkbox\" ><label for=\"sk-estimator-id-17\" class=\"sk-toggleable__label fitted sk-toggleable__label-arrow\"><div><div>OneHotEncoder</div></div><div><a class=\"sk-estimator-doc-link fitted\" rel=\"noreferrer\" target=\"_blank\" href=\"https://scikit-learn.org/1.6/modules/generated/sklearn.preprocessing.OneHotEncoder.html\">?<span>Documentation for OneHotEncoder</span></a></div></label><div class=\"sk-toggleable__content fitted\"><pre>OneHotEncoder()</pre></div> </div></div></div></div></div></div></div><div class=\"sk-item\"><div class=\"sk-estimator fitted sk-toggleable\"><input class=\"sk-toggleable__control sk-hidden--visually\" id=\"sk-estimator-id-18\" type=\"checkbox\" ><label for=\"sk-estimator-id-18\" class=\"sk-toggleable__label fitted sk-toggleable__label-arrow\"><div><div>XGBClassifier</div></div></label><div class=\"sk-toggleable__content fitted\"><pre>XGBClassifier(base_score=None, booster=None, callbacks=None,\n",
       "              colsample_bylevel=None, colsample_bynode=None,\n",
       "              colsample_bytree=0.6581279765160521, device=None,\n",
       "              early_stopping_rounds=None, enable_categorical=False,\n",
       "              eval_metric=&#x27;auc&#x27;, feature_types=None, gamma=1.6864430842970046,\n",
       "              grow_policy=None, importance_type=None,\n",
       "              interaction_constraints=None, learning_rate=0.04664543050831571,\n",
       "              max_bin=None, max_cat_threshold=None, max_cat_to_onehot=None,\n",
       "              max_delta_step=None, max_depth=8, max_leaves=None,\n",
       "              min_child_weight=None, missing=nan, monotone_constraints=None,\n",
       "              multi_strategy=None, n_estimators=150, n_jobs=None,\n",
       "              num_parallel_tree=None, random_state=42, ...)</pre></div> </div></div></div></div></div></div>"
      ],
      "text/plain": [
       "Pipeline(steps=[('preprocessor',\n",
       "                 ColumnTransformer(transformers=[('robust', RobustScaler(),\n",
       "                                                  ['Coolant_Temperature',\n",
       "                                                   'Torque(Nm)',\n",
       "                                                   'Hydraulic_Pressure(Pa)',\n",
       "                                                   'Cutting(N)',\n",
       "                                                   'Spindle_Speed(RPS)']),\n",
       "                                                 ('standard', StandardScaler(),\n",
       "                                                  ['Hydraulic_Oil_Temperature',\n",
       "                                                   'Spindle_Bearing_Temperature',\n",
       "                                                   'Spindle_Vibration',\n",
       "                                                   'Tool_Vibration',\n",
       "                                                   'Voltage(volts)',\n",
       "                                                   'Coolant_Pressure(Pa)'...\n",
       "                               grow_policy=None, importance_type=None,\n",
       "                               interaction_constraints=None,\n",
       "                               learning_rate=0.04664543050831571, max_bin=None,\n",
       "                               max_cat_threshold=None, max_cat_to_onehot=None,\n",
       "                               max_delta_step=None, max_depth=8,\n",
       "                               max_leaves=None, min_child_weight=None,\n",
       "                               missing=nan, monotone_constraints=None,\n",
       "                               multi_strategy=None, n_estimators=150,\n",
       "                               n_jobs=None, num_parallel_tree=None,\n",
       "                               random_state=42, ...))])"
      ]
     },
     "execution_count": 15,
     "metadata": {},
     "output_type": "execute_result"
    }
   ],
   "source": [
    "# Cross-validation function\n",
    "def cross_validate_model(model):\n",
    "    skf = StratifiedKFold(n_splits=5, shuffle=True, random_state=42)\n",
    "    f1_scores, precision_scores, recall_scores, roc_auc_scores = [], [], [], []\n",
    "    \n",
    "    for train_idx, val_idx in skf.split(X_train, y_train):\n",
    "        X_train_fold, X_val_fold = X_train.iloc[train_idx], X_train.iloc[val_idx]\n",
    "        y_train_fold, y_val_fold = y_train[train_idx], y_train[val_idx]\n",
    "        \n",
    "        pipeline = Pipeline([\n",
    "            ('preprocessor', preprocessor),\n",
    "            ('classifier', model)\n",
    "        ])\n",
    "        \n",
    "        pipeline.fit(X_train_fold, y_train_fold)\n",
    "        y_pred = pipeline.predict(X_val_fold)\n",
    "        y_prob = pipeline.predict_proba(X_val_fold)[:, 1] if hasattr(model, 'predict_proba') else None\n",
    "        \n",
    "        f1_scores.append(f1_score(y_val_fold, y_pred))\n",
    "        precision_scores.append(precision_score(y_val_fold, y_pred))\n",
    "        recall_scores.append(recall_score(y_val_fold, y_pred))\n",
    "        roc_auc_scores.append(roc_auc_score(y_val_fold, y_prob))\n",
    "    \n",
    "    return np.mean([np.mean(f1_scores), np.mean(precision_scores), np.mean(recall_scores), np.mean(roc_auc_scores)])\n",
    "\n",
    "# Define Optuna objective functions for each model\n",
    "def objective_xgb(trial):\n",
    "    params = {\n",
    "        'n_estimators': trial.suggest_int('n_estimators', 100, 500, step=50),\n",
    "        'max_depth': trial.suggest_int('max_depth', 3, 12),\n",
    "        'learning_rate': trial.suggest_loguniform('learning_rate', 0.01, 0.3),\n",
    "        'subsample': trial.suggest_float('subsample', 0.6, 1.0),\n",
    "        'colsample_bytree': trial.suggest_float('colsample_bytree', 0.6, 1.0),\n",
    "        'gamma': trial.suggest_float('gamma', 0, 10),\n",
    "        'reg_alpha': trial.suggest_float('reg_alpha', 0, 10),\n",
    "        'reg_lambda': trial.suggest_float('reg_lambda', 0, 10),\n",
    "        'random_state': 42,\n",
    "       # 'use_label_encoder': False,\n",
    "        'eval_metric': 'auc'\n",
    "    }\n",
    "    return cross_validate_model(xgb.XGBClassifier(**params))\n",
    "\n",
    "\n",
    "def objective_gb(trial):\n",
    "    params = {\n",
    "        'n_estimators': trial.suggest_int('n_estimators', 100, 500, step=50),\n",
    "        'learning_rate': trial.suggest_loguniform('learning_rate', 0.01, 0.3),\n",
    "        'max_depth': trial.suggest_int('max_depth', 3, 12),\n",
    "        'subsample': trial.suggest_float('subsample', 0.6, 1.0),\n",
    "        'random_state': 42\n",
    "    }\n",
    "    return cross_validate_model(GradientBoostingClassifier(**params))\n",
    "\n",
    "\n",
    "\n",
    "# Run Optuna for each model\n",
    "study_xgb = optuna.create_study(direction='maximize')\n",
    "study_xgb.optimize(objective_xgb, n_trials=50, timeout=1800)\n",
    "\n",
    "study_gb = optuna.create_study(direction='maximize')\n",
    "study_gb.optimize(objective_gb, n_trials=50, timeout=1800)\n",
    "\n",
    "# Train best models\n",
    "best_gb = Pipeline([\n",
    "    ('preprocessor', preprocessor),\n",
    "    ('classifier', GradientBoostingClassifier(**study_gb.best_params, random_state=42))\n",
    "])\n",
    "best_gb.fit(X_train, y_train)\n",
    "\n",
    "best_xgb = Pipeline([\n",
    "    ('preprocessor', preprocessor),\n",
    "    ('classifier', xgb.XGBClassifier(**study_xgb.best_params, random_state=42, eval_metric='auc'))\n",
    "])\n",
    "best_xgb.fit(X_train, y_train)\n",
    "\n"
   ]
  },
  {
   "attachments": {},
   "cell_type": "markdown",
   "metadata": {},
   "source": [
    "#### Get the best parameters for each model"
   ]
  },
  {
   "cell_type": "code",
   "execution_count": 16,
   "metadata": {},
   "outputs": [
    {
     "name": "stdout",
     "output_type": "stream",
     "text": [
      "Gradient Boost Best params:\n",
      "\tn_estimators: 300\n",
      "\tlearning_rate: 0.18476368934488233\n",
      "\tmax_depth: 3\n",
      "\tsubsample: 0.8349830456457842\n"
     ]
    }
   ],
   "source": [
    "# print the best hyperparameters for the gradient boost\n",
    "print(\"Gradient Boost Best params:\")\n",
    "for key, value in study_gb.best_params.items():\n",
    "    print(f\"\\t{key}: {value}\")"
   ]
  },
  {
   "cell_type": "code",
   "execution_count": 17,
   "metadata": {},
   "outputs": [
    {
     "name": "stdout",
     "output_type": "stream",
     "text": [
      "XGBoost Best params:\n",
      "\tn_estimators: 150\n",
      "\tmax_depth: 8\n",
      "\tlearning_rate: 0.04664543050831571\n",
      "\tsubsample: 0.7942231875177621\n",
      "\tcolsample_bytree: 0.6581279765160521\n",
      "\tgamma: 1.6864430842970046\n",
      "\treg_alpha: 0.016904277260539224\n",
      "\treg_lambda: 0.28709776773493223\n"
     ]
    }
   ],
   "source": [
    "# print the best hyperparameters for the XG Boost\n",
    "print(\"XGBoost Best params:\")\n",
    "for key, value in study_xgb.best_params.items():\n",
    "    print(f\"\\t{key}: {value}\")"
   ]
  },
  {
   "attachments": {},
   "cell_type": "markdown",
   "metadata": {},
   "source": [
    "### Evaluate model on the Test set\n",
    "\n",
    "#### Interpretation of Test Set Results\n",
    "\n",
    "1. XGBoost (0.9991 ROC AUC, 0.9816 F1-Score)\n",
    "+ Maintains excellent performance on the test set, with a very high ROC AUC and F1-Score.\n",
    "+ This indicates strong generalization ability, meaning it's likely to perform well on new, unseen data.\n",
    "\n",
    "2. Gradient Boosting (0.9989 ROC AUC, 0.9857 F1-Score)\n",
    "+ Also shows outstanding performance on the test set, comparable to XGBoost.\n",
    "+ Achieves a slightly higher F1-Score than XGBoost, indicating a marginally better balance of precision and recall.\n",
    "\n",
    "3. Random Forest (0.9989 ROC AUC, 0.9837 F1-Score)\n",
    "+ Performs very well on the test set, with a high ROC AUC and F1-Score.\n",
    "+ While slightly behind XGBoost and Gradient Boosting, it's still a strong model.\n",
    "\n",
    "**Observations**\n",
    "\n",
    "All three models generalize well to the test set, confirming their strong performance observed during training and validation.\n",
    "Gradient Boosting has a slight edge in F1-Score on the test set, suggesting a better balance of precision and recall compared to XGBoost.\n",
    "The performance differences between the models are relatively small, indicating that all three are good candidates for deployment.\n",
    "\n",
    "**Recommendations**\n",
    "\n",
    "Model Selection:\n",
    "\n",
    "Our primary focus in selecting a predictive model is maximizing accuracy in identifying potential machine downtime. While computational efficiency and interpretability are valuable,  the ability to proactively prevent downtime is paramount.\n",
    "\n",
    "In this regard, Gradient Boosting emerged as the top performer, achieving the highest F1-score among the models evaluated. This signifies its superior balance between precision (minimizing false alarms) and recall (capturing the majority of actual downtime events).\n",
    "\n",
    "Therefore, we will be deploying Gradient Boosting as our predictive model to proactively mitigate machine downtime and enhance operational efficiency.\n"
   ]
  },
  {
   "cell_type": "code",
   "execution_count": 18,
   "metadata": {},
   "outputs": [
    {
     "name": "stdout",
     "output_type": "stream",
     "text": [
      "               Model  Precision  Recall  F1-Score  ROC AUC\n",
      "0            XGBoost     0.9798  0.9837    0.9817   0.9988\n",
      "1  Gradient Boosting     0.9918  0.9837    0.9878   0.9991\n"
     ]
    }
   ],
   "source": [
    "# Evaluate on test set\n",
    "def evaluate_model(model, name):\n",
    "    y_pred = model.predict(X_test)\n",
    "    y_prob = model.predict_proba(X_test)[:, 1] if hasattr(model, 'predict_proba') else None\n",
    "    return {\n",
    "        'Model': name,\n",
    "        'Precision': round(precision_score(y_test, y_pred), 4),\n",
    "        'Recall': round(recall_score(y_test, y_pred), 4),\n",
    "        'F1-Score': round(f1_score(y_test, y_pred), 4),\n",
    "        'ROC AUC': round(roc_auc_score(y_test, y_prob) , 4) if y_prob is not None else 'N/A'\n",
    "    }\n",
    "\n",
    "results = [\n",
    "    evaluate_model(best_xgb, 'XGBoost'),\n",
    "    evaluate_model(best_gb, 'Gradient Boosting')\n",
    "]\n",
    "\n",
    "import pandas as pd\n",
    "results_df = pd.DataFrame(results).sort_values(by=[])\n",
    "print(results_df)"
   ]
  },
  {
   "attachments": {},
   "cell_type": "markdown",
   "metadata": {},
   "source": [
    "### Plot Feature Importance After evaluating on test set"
   ]
  },
  {
   "cell_type": "code",
   "execution_count": null,
   "metadata": {},
   "outputs": [],
   "source": []
  },
  {
   "attachments": {},
   "cell_type": "markdown",
   "metadata": {},
   "source": [
    "### Plot Hyperparameter Importance\n",
    "\n",
    "Visualize how much each hyperparameter contributes to model performance"
   ]
  },
  {
   "cell_type": "code",
   "execution_count": 19,
   "metadata": {},
   "outputs": [
    {
     "data": {
      "application/vnd.plotly.v1+json": {
       "config": {
        "plotlyServerURL": "https://plot.ly",
        "staticPlot": true
       },
       "data": [
        {
         "cliponaxis": false,
         "hovertemplate": [
          "n_estimators (IntDistribution): 0.010518212636653793<extra></extra>",
          "max_depth (IntDistribution): 0.08380786835547609<extra></extra>",
          "learning_rate (FloatDistribution): 0.11204840497366217<extra></extra>",
          "subsample (FloatDistribution): 0.793625514034208<extra></extra>"
         ],
         "name": "Objective Value",
         "orientation": "h",
         "text": [
          "0.01",
          "0.08",
          "0.11",
          "0.79"
         ],
         "textposition": "outside",
         "type": "bar",
         "x": [
          0.010518212636653793,
          0.08380786835547609,
          0.11204840497366217,
          0.793625514034208
         ],
         "y": [
          "n_estimators",
          "max_depth",
          "learning_rate",
          "subsample"
         ]
        }
       ],
       "layout": {
        "template": {
         "data": {
          "bar": [
           {
            "error_x": {
             "color": "#2a3f5f"
            },
            "error_y": {
             "color": "#2a3f5f"
            },
            "marker": {
             "line": {
              "color": "#E5ECF6",
              "width": 0.5
             },
             "pattern": {
              "fillmode": "overlay",
              "size": 10,
              "solidity": 0.2
             }
            },
            "type": "bar"
           }
          ],
          "barpolar": [
           {
            "marker": {
             "line": {
              "color": "#E5ECF6",
              "width": 0.5
             },
             "pattern": {
              "fillmode": "overlay",
              "size": 10,
              "solidity": 0.2
             }
            },
            "type": "barpolar"
           }
          ],
          "carpet": [
           {
            "aaxis": {
             "endlinecolor": "#2a3f5f",
             "gridcolor": "white",
             "linecolor": "white",
             "minorgridcolor": "white",
             "startlinecolor": "#2a3f5f"
            },
            "baxis": {
             "endlinecolor": "#2a3f5f",
             "gridcolor": "white",
             "linecolor": "white",
             "minorgridcolor": "white",
             "startlinecolor": "#2a3f5f"
            },
            "type": "carpet"
           }
          ],
          "choropleth": [
           {
            "colorbar": {
             "outlinewidth": 0,
             "ticks": ""
            },
            "type": "choropleth"
           }
          ],
          "contour": [
           {
            "colorbar": {
             "outlinewidth": 0,
             "ticks": ""
            },
            "colorscale": [
             [
              0,
              "#0d0887"
             ],
             [
              0.1111111111111111,
              "#46039f"
             ],
             [
              0.2222222222222222,
              "#7201a8"
             ],
             [
              0.3333333333333333,
              "#9c179e"
             ],
             [
              0.4444444444444444,
              "#bd3786"
             ],
             [
              0.5555555555555556,
              "#d8576b"
             ],
             [
              0.6666666666666666,
              "#ed7953"
             ],
             [
              0.7777777777777778,
              "#fb9f3a"
             ],
             [
              0.8888888888888888,
              "#fdca26"
             ],
             [
              1,
              "#f0f921"
             ]
            ],
            "type": "contour"
           }
          ],
          "contourcarpet": [
           {
            "colorbar": {
             "outlinewidth": 0,
             "ticks": ""
            },
            "type": "contourcarpet"
           }
          ],
          "heatmap": [
           {
            "colorbar": {
             "outlinewidth": 0,
             "ticks": ""
            },
            "colorscale": [
             [
              0,
              "#0d0887"
             ],
             [
              0.1111111111111111,
              "#46039f"
             ],
             [
              0.2222222222222222,
              "#7201a8"
             ],
             [
              0.3333333333333333,
              "#9c179e"
             ],
             [
              0.4444444444444444,
              "#bd3786"
             ],
             [
              0.5555555555555556,
              "#d8576b"
             ],
             [
              0.6666666666666666,
              "#ed7953"
             ],
             [
              0.7777777777777778,
              "#fb9f3a"
             ],
             [
              0.8888888888888888,
              "#fdca26"
             ],
             [
              1,
              "#f0f921"
             ]
            ],
            "type": "heatmap"
           }
          ],
          "histogram": [
           {
            "marker": {
             "pattern": {
              "fillmode": "overlay",
              "size": 10,
              "solidity": 0.2
             }
            },
            "type": "histogram"
           }
          ],
          "histogram2d": [
           {
            "colorbar": {
             "outlinewidth": 0,
             "ticks": ""
            },
            "colorscale": [
             [
              0,
              "#0d0887"
             ],
             [
              0.1111111111111111,
              "#46039f"
             ],
             [
              0.2222222222222222,
              "#7201a8"
             ],
             [
              0.3333333333333333,
              "#9c179e"
             ],
             [
              0.4444444444444444,
              "#bd3786"
             ],
             [
              0.5555555555555556,
              "#d8576b"
             ],
             [
              0.6666666666666666,
              "#ed7953"
             ],
             [
              0.7777777777777778,
              "#fb9f3a"
             ],
             [
              0.8888888888888888,
              "#fdca26"
             ],
             [
              1,
              "#f0f921"
             ]
            ],
            "type": "histogram2d"
           }
          ],
          "histogram2dcontour": [
           {
            "colorbar": {
             "outlinewidth": 0,
             "ticks": ""
            },
            "colorscale": [
             [
              0,
              "#0d0887"
             ],
             [
              0.1111111111111111,
              "#46039f"
             ],
             [
              0.2222222222222222,
              "#7201a8"
             ],
             [
              0.3333333333333333,
              "#9c179e"
             ],
             [
              0.4444444444444444,
              "#bd3786"
             ],
             [
              0.5555555555555556,
              "#d8576b"
             ],
             [
              0.6666666666666666,
              "#ed7953"
             ],
             [
              0.7777777777777778,
              "#fb9f3a"
             ],
             [
              0.8888888888888888,
              "#fdca26"
             ],
             [
              1,
              "#f0f921"
             ]
            ],
            "type": "histogram2dcontour"
           }
          ],
          "mesh3d": [
           {
            "colorbar": {
             "outlinewidth": 0,
             "ticks": ""
            },
            "type": "mesh3d"
           }
          ],
          "parcoords": [
           {
            "line": {
             "colorbar": {
              "outlinewidth": 0,
              "ticks": ""
             }
            },
            "type": "parcoords"
           }
          ],
          "pie": [
           {
            "automargin": true,
            "type": "pie"
           }
          ],
          "scatter": [
           {
            "fillpattern": {
             "fillmode": "overlay",
             "size": 10,
             "solidity": 0.2
            },
            "type": "scatter"
           }
          ],
          "scatter3d": [
           {
            "line": {
             "colorbar": {
              "outlinewidth": 0,
              "ticks": ""
             }
            },
            "marker": {
             "colorbar": {
              "outlinewidth": 0,
              "ticks": ""
             }
            },
            "type": "scatter3d"
           }
          ],
          "scattercarpet": [
           {
            "marker": {
             "colorbar": {
              "outlinewidth": 0,
              "ticks": ""
             }
            },
            "type": "scattercarpet"
           }
          ],
          "scattergeo": [
           {
            "marker": {
             "colorbar": {
              "outlinewidth": 0,
              "ticks": ""
             }
            },
            "type": "scattergeo"
           }
          ],
          "scattergl": [
           {
            "marker": {
             "colorbar": {
              "outlinewidth": 0,
              "ticks": ""
             }
            },
            "type": "scattergl"
           }
          ],
          "scattermap": [
           {
            "marker": {
             "colorbar": {
              "outlinewidth": 0,
              "ticks": ""
             }
            },
            "type": "scattermap"
           }
          ],
          "scattermapbox": [
           {
            "marker": {
             "colorbar": {
              "outlinewidth": 0,
              "ticks": ""
             }
            },
            "type": "scattermapbox"
           }
          ],
          "scatterpolar": [
           {
            "marker": {
             "colorbar": {
              "outlinewidth": 0,
              "ticks": ""
             }
            },
            "type": "scatterpolar"
           }
          ],
          "scatterpolargl": [
           {
            "marker": {
             "colorbar": {
              "outlinewidth": 0,
              "ticks": ""
             }
            },
            "type": "scatterpolargl"
           }
          ],
          "scatterternary": [
           {
            "marker": {
             "colorbar": {
              "outlinewidth": 0,
              "ticks": ""
             }
            },
            "type": "scatterternary"
           }
          ],
          "surface": [
           {
            "colorbar": {
             "outlinewidth": 0,
             "ticks": ""
            },
            "colorscale": [
             [
              0,
              "#0d0887"
             ],
             [
              0.1111111111111111,
              "#46039f"
             ],
             [
              0.2222222222222222,
              "#7201a8"
             ],
             [
              0.3333333333333333,
              "#9c179e"
             ],
             [
              0.4444444444444444,
              "#bd3786"
             ],
             [
              0.5555555555555556,
              "#d8576b"
             ],
             [
              0.6666666666666666,
              "#ed7953"
             ],
             [
              0.7777777777777778,
              "#fb9f3a"
             ],
             [
              0.8888888888888888,
              "#fdca26"
             ],
             [
              1,
              "#f0f921"
             ]
            ],
            "type": "surface"
           }
          ],
          "table": [
           {
            "cells": {
             "fill": {
              "color": "#EBF0F8"
             },
             "line": {
              "color": "white"
             }
            },
            "header": {
             "fill": {
              "color": "#C8D4E3"
             },
             "line": {
              "color": "white"
             }
            },
            "type": "table"
           }
          ]
         },
         "layout": {
          "annotationdefaults": {
           "arrowcolor": "#2a3f5f",
           "arrowhead": 0,
           "arrowwidth": 1
          },
          "autotypenumbers": "strict",
          "coloraxis": {
           "colorbar": {
            "outlinewidth": 0,
            "ticks": ""
           }
          },
          "colorscale": {
           "diverging": [
            [
             0,
             "#8e0152"
            ],
            [
             0.1,
             "#c51b7d"
            ],
            [
             0.2,
             "#de77ae"
            ],
            [
             0.3,
             "#f1b6da"
            ],
            [
             0.4,
             "#fde0ef"
            ],
            [
             0.5,
             "#f7f7f7"
            ],
            [
             0.6,
             "#e6f5d0"
            ],
            [
             0.7,
             "#b8e186"
            ],
            [
             0.8,
             "#7fbc41"
            ],
            [
             0.9,
             "#4d9221"
            ],
            [
             1,
             "#276419"
            ]
           ],
           "sequential": [
            [
             0,
             "#0d0887"
            ],
            [
             0.1111111111111111,
             "#46039f"
            ],
            [
             0.2222222222222222,
             "#7201a8"
            ],
            [
             0.3333333333333333,
             "#9c179e"
            ],
            [
             0.4444444444444444,
             "#bd3786"
            ],
            [
             0.5555555555555556,
             "#d8576b"
            ],
            [
             0.6666666666666666,
             "#ed7953"
            ],
            [
             0.7777777777777778,
             "#fb9f3a"
            ],
            [
             0.8888888888888888,
             "#fdca26"
            ],
            [
             1,
             "#f0f921"
            ]
           ],
           "sequentialminus": [
            [
             0,
             "#0d0887"
            ],
            [
             0.1111111111111111,
             "#46039f"
            ],
            [
             0.2222222222222222,
             "#7201a8"
            ],
            [
             0.3333333333333333,
             "#9c179e"
            ],
            [
             0.4444444444444444,
             "#bd3786"
            ],
            [
             0.5555555555555556,
             "#d8576b"
            ],
            [
             0.6666666666666666,
             "#ed7953"
            ],
            [
             0.7777777777777778,
             "#fb9f3a"
            ],
            [
             0.8888888888888888,
             "#fdca26"
            ],
            [
             1,
             "#f0f921"
            ]
           ]
          },
          "colorway": [
           "#636efa",
           "#EF553B",
           "#00cc96",
           "#ab63fa",
           "#FFA15A",
           "#19d3f3",
           "#FF6692",
           "#B6E880",
           "#FF97FF",
           "#FECB52"
          ],
          "font": {
           "color": "#2a3f5f"
          },
          "geo": {
           "bgcolor": "white",
           "lakecolor": "white",
           "landcolor": "#E5ECF6",
           "showlakes": true,
           "showland": true,
           "subunitcolor": "white"
          },
          "hoverlabel": {
           "align": "left"
          },
          "hovermode": "closest",
          "mapbox": {
           "style": "light"
          },
          "paper_bgcolor": "white",
          "plot_bgcolor": "#E5ECF6",
          "polar": {
           "angularaxis": {
            "gridcolor": "white",
            "linecolor": "white",
            "ticks": ""
           },
           "bgcolor": "#E5ECF6",
           "radialaxis": {
            "gridcolor": "white",
            "linecolor": "white",
            "ticks": ""
           }
          },
          "scene": {
           "xaxis": {
            "backgroundcolor": "#E5ECF6",
            "gridcolor": "white",
            "gridwidth": 2,
            "linecolor": "white",
            "showbackground": true,
            "ticks": "",
            "zerolinecolor": "white"
           },
           "yaxis": {
            "backgroundcolor": "#E5ECF6",
            "gridcolor": "white",
            "gridwidth": 2,
            "linecolor": "white",
            "showbackground": true,
            "ticks": "",
            "zerolinecolor": "white"
           },
           "zaxis": {
            "backgroundcolor": "#E5ECF6",
            "gridcolor": "white",
            "gridwidth": 2,
            "linecolor": "white",
            "showbackground": true,
            "ticks": "",
            "zerolinecolor": "white"
           }
          },
          "shapedefaults": {
           "line": {
            "color": "#2a3f5f"
           }
          },
          "ternary": {
           "aaxis": {
            "gridcolor": "white",
            "linecolor": "white",
            "ticks": ""
           },
           "baxis": {
            "gridcolor": "white",
            "linecolor": "white",
            "ticks": ""
           },
           "bgcolor": "#E5ECF6",
           "caxis": {
            "gridcolor": "white",
            "linecolor": "white",
            "ticks": ""
           }
          },
          "title": {
           "x": 0.05
          },
          "xaxis": {
           "automargin": true,
           "gridcolor": "white",
           "linecolor": "white",
           "ticks": "",
           "title": {
            "standoff": 15
           },
           "zerolinecolor": "white",
           "zerolinewidth": 2
          },
          "yaxis": {
           "automargin": true,
           "gridcolor": "white",
           "linecolor": "white",
           "ticks": "",
           "title": {
            "standoff": 15
           },
           "zerolinecolor": "white",
           "zerolinewidth": 2
          }
         }
        },
        "title": {
         "text": "Hyperparameter Importances"
        },
        "xaxis": {
         "title": {
          "text": "Hyperparameter Importance"
         }
        },
        "yaxis": {
         "title": {
          "text": "Hyperparameter"
         }
        }
       }
      }
     },
     "metadata": {},
     "output_type": "display_data"
    }
   ],
   "source": [
    "# plot of Gradient boost most hyperparameter importance\n",
    "plot_param_importances_(study_gb)\n"
   ]
  },
  {
   "cell_type": "code",
   "execution_count": 20,
   "metadata": {},
   "outputs": [
    {
     "data": {
      "application/vnd.plotly.v1+json": {
       "config": {
        "plotlyServerURL": "https://plot.ly",
        "staticPlot": true
       },
       "data": [
        {
         "cliponaxis": false,
         "hovertemplate": [
          "max_depth (IntDistribution): 0.036666536165723365<extra></extra>",
          "learning_rate (FloatDistribution): 0.048135138865718324<extra></extra>",
          "n_estimators (IntDistribution): 0.05070148706548542<extra></extra>",
          "colsample_bytree (FloatDistribution): 0.06280157740287214<extra></extra>",
          "reg_lambda (FloatDistribution): 0.06588043276759671<extra></extra>",
          "reg_alpha (FloatDistribution): 0.06898860621007866<extra></extra>",
          "subsample (FloatDistribution): 0.10369200336839722<extra></extra>",
          "gamma (FloatDistribution): 0.5631342181541282<extra></extra>"
         ],
         "name": "Objective Value",
         "orientation": "h",
         "text": [
          "0.04",
          "0.05",
          "0.05",
          "0.06",
          "0.07",
          "0.07",
          "0.10",
          "0.56"
         ],
         "textposition": "outside",
         "type": "bar",
         "x": [
          0.036666536165723365,
          0.048135138865718324,
          0.05070148706548542,
          0.06280157740287214,
          0.06588043276759671,
          0.06898860621007866,
          0.10369200336839722,
          0.5631342181541282
         ],
         "y": [
          "max_depth",
          "learning_rate",
          "n_estimators",
          "colsample_bytree",
          "reg_lambda",
          "reg_alpha",
          "subsample",
          "gamma"
         ]
        }
       ],
       "layout": {
        "template": {
         "data": {
          "bar": [
           {
            "error_x": {
             "color": "#2a3f5f"
            },
            "error_y": {
             "color": "#2a3f5f"
            },
            "marker": {
             "line": {
              "color": "#E5ECF6",
              "width": 0.5
             },
             "pattern": {
              "fillmode": "overlay",
              "size": 10,
              "solidity": 0.2
             }
            },
            "type": "bar"
           }
          ],
          "barpolar": [
           {
            "marker": {
             "line": {
              "color": "#E5ECF6",
              "width": 0.5
             },
             "pattern": {
              "fillmode": "overlay",
              "size": 10,
              "solidity": 0.2
             }
            },
            "type": "barpolar"
           }
          ],
          "carpet": [
           {
            "aaxis": {
             "endlinecolor": "#2a3f5f",
             "gridcolor": "white",
             "linecolor": "white",
             "minorgridcolor": "white",
             "startlinecolor": "#2a3f5f"
            },
            "baxis": {
             "endlinecolor": "#2a3f5f",
             "gridcolor": "white",
             "linecolor": "white",
             "minorgridcolor": "white",
             "startlinecolor": "#2a3f5f"
            },
            "type": "carpet"
           }
          ],
          "choropleth": [
           {
            "colorbar": {
             "outlinewidth": 0,
             "ticks": ""
            },
            "type": "choropleth"
           }
          ],
          "contour": [
           {
            "colorbar": {
             "outlinewidth": 0,
             "ticks": ""
            },
            "colorscale": [
             [
              0,
              "#0d0887"
             ],
             [
              0.1111111111111111,
              "#46039f"
             ],
             [
              0.2222222222222222,
              "#7201a8"
             ],
             [
              0.3333333333333333,
              "#9c179e"
             ],
             [
              0.4444444444444444,
              "#bd3786"
             ],
             [
              0.5555555555555556,
              "#d8576b"
             ],
             [
              0.6666666666666666,
              "#ed7953"
             ],
             [
              0.7777777777777778,
              "#fb9f3a"
             ],
             [
              0.8888888888888888,
              "#fdca26"
             ],
             [
              1,
              "#f0f921"
             ]
            ],
            "type": "contour"
           }
          ],
          "contourcarpet": [
           {
            "colorbar": {
             "outlinewidth": 0,
             "ticks": ""
            },
            "type": "contourcarpet"
           }
          ],
          "heatmap": [
           {
            "colorbar": {
             "outlinewidth": 0,
             "ticks": ""
            },
            "colorscale": [
             [
              0,
              "#0d0887"
             ],
             [
              0.1111111111111111,
              "#46039f"
             ],
             [
              0.2222222222222222,
              "#7201a8"
             ],
             [
              0.3333333333333333,
              "#9c179e"
             ],
             [
              0.4444444444444444,
              "#bd3786"
             ],
             [
              0.5555555555555556,
              "#d8576b"
             ],
             [
              0.6666666666666666,
              "#ed7953"
             ],
             [
              0.7777777777777778,
              "#fb9f3a"
             ],
             [
              0.8888888888888888,
              "#fdca26"
             ],
             [
              1,
              "#f0f921"
             ]
            ],
            "type": "heatmap"
           }
          ],
          "histogram": [
           {
            "marker": {
             "pattern": {
              "fillmode": "overlay",
              "size": 10,
              "solidity": 0.2
             }
            },
            "type": "histogram"
           }
          ],
          "histogram2d": [
           {
            "colorbar": {
             "outlinewidth": 0,
             "ticks": ""
            },
            "colorscale": [
             [
              0,
              "#0d0887"
             ],
             [
              0.1111111111111111,
              "#46039f"
             ],
             [
              0.2222222222222222,
              "#7201a8"
             ],
             [
              0.3333333333333333,
              "#9c179e"
             ],
             [
              0.4444444444444444,
              "#bd3786"
             ],
             [
              0.5555555555555556,
              "#d8576b"
             ],
             [
              0.6666666666666666,
              "#ed7953"
             ],
             [
              0.7777777777777778,
              "#fb9f3a"
             ],
             [
              0.8888888888888888,
              "#fdca26"
             ],
             [
              1,
              "#f0f921"
             ]
            ],
            "type": "histogram2d"
           }
          ],
          "histogram2dcontour": [
           {
            "colorbar": {
             "outlinewidth": 0,
             "ticks": ""
            },
            "colorscale": [
             [
              0,
              "#0d0887"
             ],
             [
              0.1111111111111111,
              "#46039f"
             ],
             [
              0.2222222222222222,
              "#7201a8"
             ],
             [
              0.3333333333333333,
              "#9c179e"
             ],
             [
              0.4444444444444444,
              "#bd3786"
             ],
             [
              0.5555555555555556,
              "#d8576b"
             ],
             [
              0.6666666666666666,
              "#ed7953"
             ],
             [
              0.7777777777777778,
              "#fb9f3a"
             ],
             [
              0.8888888888888888,
              "#fdca26"
             ],
             [
              1,
              "#f0f921"
             ]
            ],
            "type": "histogram2dcontour"
           }
          ],
          "mesh3d": [
           {
            "colorbar": {
             "outlinewidth": 0,
             "ticks": ""
            },
            "type": "mesh3d"
           }
          ],
          "parcoords": [
           {
            "line": {
             "colorbar": {
              "outlinewidth": 0,
              "ticks": ""
             }
            },
            "type": "parcoords"
           }
          ],
          "pie": [
           {
            "automargin": true,
            "type": "pie"
           }
          ],
          "scatter": [
           {
            "fillpattern": {
             "fillmode": "overlay",
             "size": 10,
             "solidity": 0.2
            },
            "type": "scatter"
           }
          ],
          "scatter3d": [
           {
            "line": {
             "colorbar": {
              "outlinewidth": 0,
              "ticks": ""
             }
            },
            "marker": {
             "colorbar": {
              "outlinewidth": 0,
              "ticks": ""
             }
            },
            "type": "scatter3d"
           }
          ],
          "scattercarpet": [
           {
            "marker": {
             "colorbar": {
              "outlinewidth": 0,
              "ticks": ""
             }
            },
            "type": "scattercarpet"
           }
          ],
          "scattergeo": [
           {
            "marker": {
             "colorbar": {
              "outlinewidth": 0,
              "ticks": ""
             }
            },
            "type": "scattergeo"
           }
          ],
          "scattergl": [
           {
            "marker": {
             "colorbar": {
              "outlinewidth": 0,
              "ticks": ""
             }
            },
            "type": "scattergl"
           }
          ],
          "scattermap": [
           {
            "marker": {
             "colorbar": {
              "outlinewidth": 0,
              "ticks": ""
             }
            },
            "type": "scattermap"
           }
          ],
          "scattermapbox": [
           {
            "marker": {
             "colorbar": {
              "outlinewidth": 0,
              "ticks": ""
             }
            },
            "type": "scattermapbox"
           }
          ],
          "scatterpolar": [
           {
            "marker": {
             "colorbar": {
              "outlinewidth": 0,
              "ticks": ""
             }
            },
            "type": "scatterpolar"
           }
          ],
          "scatterpolargl": [
           {
            "marker": {
             "colorbar": {
              "outlinewidth": 0,
              "ticks": ""
             }
            },
            "type": "scatterpolargl"
           }
          ],
          "scatterternary": [
           {
            "marker": {
             "colorbar": {
              "outlinewidth": 0,
              "ticks": ""
             }
            },
            "type": "scatterternary"
           }
          ],
          "surface": [
           {
            "colorbar": {
             "outlinewidth": 0,
             "ticks": ""
            },
            "colorscale": [
             [
              0,
              "#0d0887"
             ],
             [
              0.1111111111111111,
              "#46039f"
             ],
             [
              0.2222222222222222,
              "#7201a8"
             ],
             [
              0.3333333333333333,
              "#9c179e"
             ],
             [
              0.4444444444444444,
              "#bd3786"
             ],
             [
              0.5555555555555556,
              "#d8576b"
             ],
             [
              0.6666666666666666,
              "#ed7953"
             ],
             [
              0.7777777777777778,
              "#fb9f3a"
             ],
             [
              0.8888888888888888,
              "#fdca26"
             ],
             [
              1,
              "#f0f921"
             ]
            ],
            "type": "surface"
           }
          ],
          "table": [
           {
            "cells": {
             "fill": {
              "color": "#EBF0F8"
             },
             "line": {
              "color": "white"
             }
            },
            "header": {
             "fill": {
              "color": "#C8D4E3"
             },
             "line": {
              "color": "white"
             }
            },
            "type": "table"
           }
          ]
         },
         "layout": {
          "annotationdefaults": {
           "arrowcolor": "#2a3f5f",
           "arrowhead": 0,
           "arrowwidth": 1
          },
          "autotypenumbers": "strict",
          "coloraxis": {
           "colorbar": {
            "outlinewidth": 0,
            "ticks": ""
           }
          },
          "colorscale": {
           "diverging": [
            [
             0,
             "#8e0152"
            ],
            [
             0.1,
             "#c51b7d"
            ],
            [
             0.2,
             "#de77ae"
            ],
            [
             0.3,
             "#f1b6da"
            ],
            [
             0.4,
             "#fde0ef"
            ],
            [
             0.5,
             "#f7f7f7"
            ],
            [
             0.6,
             "#e6f5d0"
            ],
            [
             0.7,
             "#b8e186"
            ],
            [
             0.8,
             "#7fbc41"
            ],
            [
             0.9,
             "#4d9221"
            ],
            [
             1,
             "#276419"
            ]
           ],
           "sequential": [
            [
             0,
             "#0d0887"
            ],
            [
             0.1111111111111111,
             "#46039f"
            ],
            [
             0.2222222222222222,
             "#7201a8"
            ],
            [
             0.3333333333333333,
             "#9c179e"
            ],
            [
             0.4444444444444444,
             "#bd3786"
            ],
            [
             0.5555555555555556,
             "#d8576b"
            ],
            [
             0.6666666666666666,
             "#ed7953"
            ],
            [
             0.7777777777777778,
             "#fb9f3a"
            ],
            [
             0.8888888888888888,
             "#fdca26"
            ],
            [
             1,
             "#f0f921"
            ]
           ],
           "sequentialminus": [
            [
             0,
             "#0d0887"
            ],
            [
             0.1111111111111111,
             "#46039f"
            ],
            [
             0.2222222222222222,
             "#7201a8"
            ],
            [
             0.3333333333333333,
             "#9c179e"
            ],
            [
             0.4444444444444444,
             "#bd3786"
            ],
            [
             0.5555555555555556,
             "#d8576b"
            ],
            [
             0.6666666666666666,
             "#ed7953"
            ],
            [
             0.7777777777777778,
             "#fb9f3a"
            ],
            [
             0.8888888888888888,
             "#fdca26"
            ],
            [
             1,
             "#f0f921"
            ]
           ]
          },
          "colorway": [
           "#636efa",
           "#EF553B",
           "#00cc96",
           "#ab63fa",
           "#FFA15A",
           "#19d3f3",
           "#FF6692",
           "#B6E880",
           "#FF97FF",
           "#FECB52"
          ],
          "font": {
           "color": "#2a3f5f"
          },
          "geo": {
           "bgcolor": "white",
           "lakecolor": "white",
           "landcolor": "#E5ECF6",
           "showlakes": true,
           "showland": true,
           "subunitcolor": "white"
          },
          "hoverlabel": {
           "align": "left"
          },
          "hovermode": "closest",
          "mapbox": {
           "style": "light"
          },
          "paper_bgcolor": "white",
          "plot_bgcolor": "#E5ECF6",
          "polar": {
           "angularaxis": {
            "gridcolor": "white",
            "linecolor": "white",
            "ticks": ""
           },
           "bgcolor": "#E5ECF6",
           "radialaxis": {
            "gridcolor": "white",
            "linecolor": "white",
            "ticks": ""
           }
          },
          "scene": {
           "xaxis": {
            "backgroundcolor": "#E5ECF6",
            "gridcolor": "white",
            "gridwidth": 2,
            "linecolor": "white",
            "showbackground": true,
            "ticks": "",
            "zerolinecolor": "white"
           },
           "yaxis": {
            "backgroundcolor": "#E5ECF6",
            "gridcolor": "white",
            "gridwidth": 2,
            "linecolor": "white",
            "showbackground": true,
            "ticks": "",
            "zerolinecolor": "white"
           },
           "zaxis": {
            "backgroundcolor": "#E5ECF6",
            "gridcolor": "white",
            "gridwidth": 2,
            "linecolor": "white",
            "showbackground": true,
            "ticks": "",
            "zerolinecolor": "white"
           }
          },
          "shapedefaults": {
           "line": {
            "color": "#2a3f5f"
           }
          },
          "ternary": {
           "aaxis": {
            "gridcolor": "white",
            "linecolor": "white",
            "ticks": ""
           },
           "baxis": {
            "gridcolor": "white",
            "linecolor": "white",
            "ticks": ""
           },
           "bgcolor": "#E5ECF6",
           "caxis": {
            "gridcolor": "white",
            "linecolor": "white",
            "ticks": ""
           }
          },
          "title": {
           "x": 0.05
          },
          "xaxis": {
           "automargin": true,
           "gridcolor": "white",
           "linecolor": "white",
           "ticks": "",
           "title": {
            "standoff": 15
           },
           "zerolinecolor": "white",
           "zerolinewidth": 2
          },
          "yaxis": {
           "automargin": true,
           "gridcolor": "white",
           "linecolor": "white",
           "ticks": "",
           "title": {
            "standoff": 15
           },
           "zerolinecolor": "white",
           "zerolinewidth": 2
          }
         }
        },
        "title": {
         "text": "Hyperparameter Importances"
        },
        "xaxis": {
         "title": {
          "text": "Hyperparameter Importance"
         }
        },
        "yaxis": {
         "title": {
          "text": "Hyperparameter"
         }
        }
       }
      }
     },
     "metadata": {},
     "output_type": "display_data"
    }
   ],
   "source": [
    "# plot XGBoost  hyperparameter importance\n",
    "plot_param_importances_(study_xgb)"
   ]
  },
  {
   "attachments": {},
   "cell_type": "markdown",
   "metadata": {},
   "source": []
  }
 ],
 "metadata": {
  "kernelspec": {
   "display_name": "machineind",
   "language": "python",
   "name": "python3"
  },
  "language_info": {
   "codemirror_mode": {
    "name": "ipython",
    "version": 3
   },
   "file_extension": ".py",
   "mimetype": "text/x-python",
   "name": "python",
   "nbconvert_exporter": "python",
   "pygments_lexer": "ipython3",
   "version": "3.9.0"
  },
  "orig_nbformat": 4
 },
 "nbformat": 4,
 "nbformat_minor": 2
}
