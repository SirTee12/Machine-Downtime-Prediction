{
 "cells": [
  {
   "attachments": {},
   "cell_type": "markdown",
   "metadata": {},
   "source": [
    "## Machine Learning Model Development"
   ]
  },
  {
   "attachments": {},
   "cell_type": "markdown",
   "metadata": {},
   "source": [
    "##### Import the necessary libraries "
   ]
  },
  {
   "cell_type": "code",
   "execution_count": 2,
   "metadata": {},
   "outputs": [],
   "source": [
    "import pandas as pd\n",
    "import numpy as np\n",
    "from sklearn.model_selection import train_test_split, cross_val_score, StratifiedKFold, StratifiedShuffleSplit,\\\n",
    "                                    cross_val_predict\n",
    "from sklearn.preprocessing import RobustScaler, StandardScaler, LabelEncoder, OneHotEncoder\n",
    "from sklearn.compose import ColumnTransformer\n",
    "from sklearn.pipeline import Pipeline\n",
    "from sklearn.ensemble import RandomForestClassifier, GradientBoostingClassifier\n",
    "from sklearn.linear_model import LogisticRegression\n",
    "from sklearn.svm import SVC\n",
    "from sklearn.tree import DecisionTreeClassifier\n",
    "import xgboost as xgb\n",
    "from sklearn.metrics import accuracy_score, precision_score,\\\n",
    "                            recall_score, f1_score, roc_auc_score\n",
    "        \n",
    "\n",
    "import optuna"
   ]
  },
  {
   "cell_type": "code",
   "execution_count": 3,
   "metadata": {},
   "outputs": [
    {
     "data": {
      "text/html": [
       "<div>\n",
       "<style scoped>\n",
       "    .dataframe tbody tr th:only-of-type {\n",
       "        vertical-align: middle;\n",
       "    }\n",
       "\n",
       "    .dataframe tbody tr th {\n",
       "        vertical-align: top;\n",
       "    }\n",
       "\n",
       "    .dataframe thead th {\n",
       "        text-align: right;\n",
       "    }\n",
       "</style>\n",
       "<table border=\"1\" class=\"dataframe\">\n",
       "  <thead>\n",
       "    <tr style=\"text-align: right;\">\n",
       "      <th></th>\n",
       "      <th>Date</th>\n",
       "      <th>Machine_ID</th>\n",
       "      <th>Assembly_Line_No</th>\n",
       "      <th>Coolant_Temperature</th>\n",
       "      <th>Hydraulic_Oil_Temperature</th>\n",
       "      <th>Spindle_Bearing_Temperature</th>\n",
       "      <th>Spindle_Vibration</th>\n",
       "      <th>Tool_Vibration</th>\n",
       "      <th>Voltage(volts)</th>\n",
       "      <th>Torque(Nm)</th>\n",
       "      <th>Downtime</th>\n",
       "      <th>Hydraulic_Pressure(Pa)</th>\n",
       "      <th>Coolant_Pressure(Pa)</th>\n",
       "      <th>Air_System_Pressure(Pa)</th>\n",
       "      <th>Cutting(N)</th>\n",
       "      <th>Spindle_Speed(RPS)</th>\n",
       "    </tr>\n",
       "  </thead>\n",
       "  <tbody>\n",
       "    <tr>\n",
       "      <th>0</th>\n",
       "      <td>2021-12-08</td>\n",
       "      <td>Makino-L2-Unit1-2015</td>\n",
       "      <td>Shopfloor-L2</td>\n",
       "      <td>4.5</td>\n",
       "      <td>47.9</td>\n",
       "      <td>31.2</td>\n",
       "      <td>1.225</td>\n",
       "      <td>35.214</td>\n",
       "      <td>381.0</td>\n",
       "      <td>23.091903</td>\n",
       "      <td>No_Machine_Failure</td>\n",
       "      <td>14115919.3</td>\n",
       "      <td>513860.1</td>\n",
       "      <td>612765.0</td>\n",
       "      <td>2870.0</td>\n",
       "      <td>253.6</td>\n",
       "    </tr>\n",
       "    <tr>\n",
       "      <th>1</th>\n",
       "      <td>2021-12-17</td>\n",
       "      <td>Makino-L2-Unit1-2015</td>\n",
       "      <td>Shopfloor-L2</td>\n",
       "      <td>21.7</td>\n",
       "      <td>47.5</td>\n",
       "      <td>35.8</td>\n",
       "      <td>1.078</td>\n",
       "      <td>29.198</td>\n",
       "      <td>367.0</td>\n",
       "      <td>31.620335</td>\n",
       "      <td>No_Machine_Failure</td>\n",
       "      <td>7246602.0</td>\n",
       "      <td>514111.3</td>\n",
       "      <td>662932.2</td>\n",
       "      <td>2970.0</td>\n",
       "      <td>295.4</td>\n",
       "    </tr>\n",
       "    <tr>\n",
       "      <th>2</th>\n",
       "      <td>2021-12-17</td>\n",
       "      <td>Makino-L1-Unit1-2013</td>\n",
       "      <td>Shopfloor-L1</td>\n",
       "      <td>5.2</td>\n",
       "      <td>49.4</td>\n",
       "      <td>34.2</td>\n",
       "      <td>1.266</td>\n",
       "      <td>30.206</td>\n",
       "      <td>340.0</td>\n",
       "      <td>15.900716</td>\n",
       "      <td>Machine_Failure</td>\n",
       "      <td>8828000.0</td>\n",
       "      <td>683941.3</td>\n",
       "      <td>656038.1</td>\n",
       "      <td>2700.0</td>\n",
       "      <td>466.0</td>\n",
       "    </tr>\n",
       "    <tr>\n",
       "      <th>3</th>\n",
       "      <td>2021-12-17</td>\n",
       "      <td>Makino-L1-Unit1-2013</td>\n",
       "      <td>Shopfloor-L1</td>\n",
       "      <td>24.4</td>\n",
       "      <td>48.1</td>\n",
       "      <td>36.6</td>\n",
       "      <td>0.778</td>\n",
       "      <td>25.048</td>\n",
       "      <td>307.0</td>\n",
       "      <td>23.923929</td>\n",
       "      <td>Machine_Failure</td>\n",
       "      <td>7454000.0</td>\n",
       "      <td>658019.5</td>\n",
       "      <td>652883.7</td>\n",
       "      <td>3590.0</td>\n",
       "      <td>466.0</td>\n",
       "    </tr>\n",
       "    <tr>\n",
       "      <th>4</th>\n",
       "      <td>2021-12-21</td>\n",
       "      <td>Makino-L2-Unit1-2015</td>\n",
       "      <td>Shopfloor-L2</td>\n",
       "      <td>14.1</td>\n",
       "      <td>51.8</td>\n",
       "      <td>32.4</td>\n",
       "      <td>0.969</td>\n",
       "      <td>31.491</td>\n",
       "      <td>380.0</td>\n",
       "      <td>16.964105</td>\n",
       "      <td>Machine_Failure</td>\n",
       "      <td>5326000.0</td>\n",
       "      <td>683941.3</td>\n",
       "      <td>602069.0</td>\n",
       "      <td>2860.0</td>\n",
       "      <td>460.2</td>\n",
       "    </tr>\n",
       "  </tbody>\n",
       "</table>\n",
       "</div>"
      ],
      "text/plain": [
       "        Date            Machine_ID Assembly_Line_No  Coolant_Temperature  \\\n",
       "0 2021-12-08  Makino-L2-Unit1-2015     Shopfloor-L2                  4.5   \n",
       "1 2021-12-17  Makino-L2-Unit1-2015     Shopfloor-L2                 21.7   \n",
       "2 2021-12-17  Makino-L1-Unit1-2013     Shopfloor-L1                  5.2   \n",
       "3 2021-12-17  Makino-L1-Unit1-2013     Shopfloor-L1                 24.4   \n",
       "4 2021-12-21  Makino-L2-Unit1-2015     Shopfloor-L2                 14.1   \n",
       "\n",
       "   Hydraulic_Oil_Temperature  Spindle_Bearing_Temperature  Spindle_Vibration  \\\n",
       "0                       47.9                         31.2              1.225   \n",
       "1                       47.5                         35.8              1.078   \n",
       "2                       49.4                         34.2              1.266   \n",
       "3                       48.1                         36.6              0.778   \n",
       "4                       51.8                         32.4              0.969   \n",
       "\n",
       "   Tool_Vibration  Voltage(volts)  Torque(Nm)            Downtime  \\\n",
       "0          35.214           381.0   23.091903  No_Machine_Failure   \n",
       "1          29.198           367.0   31.620335  No_Machine_Failure   \n",
       "2          30.206           340.0   15.900716     Machine_Failure   \n",
       "3          25.048           307.0   23.923929     Machine_Failure   \n",
       "4          31.491           380.0   16.964105     Machine_Failure   \n",
       "\n",
       "   Hydraulic_Pressure(Pa)  Coolant_Pressure(Pa)  Air_System_Pressure(Pa)  \\\n",
       "0              14115919.3              513860.1                 612765.0   \n",
       "1               7246602.0              514111.3                 662932.2   \n",
       "2               8828000.0              683941.3                 656038.1   \n",
       "3               7454000.0              658019.5                 652883.7   \n",
       "4               5326000.0              683941.3                 602069.0   \n",
       "\n",
       "   Cutting(N)  Spindle_Speed(RPS)  \n",
       "0      2870.0               253.6  \n",
       "1      2970.0               295.4  \n",
       "2      2700.0               466.0  \n",
       "3      3590.0               466.0  \n",
       "4      2860.0               460.2  "
      ]
     },
     "execution_count": 3,
     "metadata": {},
     "output_type": "execute_result"
    }
   ],
   "source": [
    "# load the dataset\n",
    "machine = pd.read_csv(\"../data/machine_downtime_cleaned.csv\", parse_dates=['Date'])\n",
    "\n",
    "# make a copy of the data \n",
    "machine_ori = machine.copy()\n",
    "# print the first few rows\n",
    "machine.head()"
   ]
  },
  {
   "attachments": {},
   "cell_type": "markdown",
   "metadata": {},
   "source": [
    "### Preprocessing\n",
    "\n",
    "we have to divide the numeric columns into those that are skewed and those that are normal in order to be able to apply the necessary standardization or normalization to avoid bias"
   ]
  },
  {
   "cell_type": "code",
   "execution_count": 4,
   "metadata": {},
   "outputs": [
    {
     "name": "stdout",
     "output_type": "stream",
     "text": [
      "Coolant_Temperature: Skewness = -0.22, Kurtosis = -1.35 (Not Normally Distributed)\n",
      "Hydraulic_Oil_Temperature: Skewness = -0.00, Kurtosis = 0.05 (Approximately Normal)\n",
      "Spindle_Bearing_Temperature: Skewness = -0.03, Kurtosis = -0.05 (Approximately Normal)\n",
      "Spindle_Vibration: Skewness = 0.03, Kurtosis = -0.11 (Approximately Normal)\n",
      "Tool_Vibration: Skewness = -0.06, Kurtosis = 0.01 (Approximately Normal)\n",
      "Voltage(volts): Skewness = -0.03, Kurtosis = -0.09 (Approximately Normal)\n",
      "Torque(Nm): Skewness = 0.03, Kurtosis = -0.46 (Not Normally Distributed)\n",
      "Hydraulic_Pressure(Pa): Skewness = 0.21, Kurtosis = -0.98 (Not Normally Distributed)\n",
      "Coolant_Pressure(Pa): Skewness = -0.01, Kurtosis = -0.13 (Approximately Normal)\n",
      "Air_System_Pressure(Pa): Skewness = -0.05, Kurtosis = 0.01 (Approximately Normal)\n",
      "Cutting(N): Skewness = 0.12, Kurtosis = -1.09 (Not Normally Distributed)\n",
      "Spindle_Speed(RPS): Skewness = 0.22, Kurtosis = -0.45 (Not Normally Distributed)\n"
     ]
    }
   ],
   "source": [
    "# create an empty list to store columns that are normally or\n",
    "# skewly distributed\n",
    "normal_cols = []\n",
    "skewed_cols = []\n",
    "\n",
    "# loop through the numerical features\n",
    "for col in machine_ori.select_dtypes(include=np.number):\n",
    "    skewness = machine_ori[col].skew()\n",
    "    kurtosis = machine_ori[col].kurt()\n",
    "\n",
    "    # set a threshold for kurtosis and skewness and then append the necessary features\n",
    "    if -0.2 <= skewness <= 0.3 and -0.2 <= kurtosis <= 0.2:  # Adjust thresholds as needed\n",
    "        normal_cols.append(col)\n",
    "        print(f\"{col}: Skewness = {skewness:.2f}, Kurtosis = {kurtosis:.2f} (Approximately Normal)\")\n",
    "    else:\n",
    "        skewed_cols.append(col)\n",
    "        print(f\"{col}: Skewness = {skewness:.2f}, Kurtosis = {kurtosis:.2f} (Not Normally Distributed)\")\n"
   ]
  },
  {
   "attachments": {},
   "cell_type": "markdown",
   "metadata": {},
   "source": [
    "### Model Parameters Preparation"
   ]
  },
  {
   "cell_type": "code",
   "execution_count": 5,
   "metadata": {},
   "outputs": [],
   "source": [
    "# Define target and features\n",
    "X = machine_ori.drop(columns=[\"Downtime\", \"Date\", \"Assembly_Line_No\"])  # Features\n",
    "\n",
    "# define encoder\n",
    "label_encode = LabelEncoder()\n",
    "y = label_encode.fit_transform(machine_ori[\"Downtime\"])  # Target variable\n",
    "\n",
    "# Identify numerical and categorical columns\n",
    "numerical_cols = X.select_dtypes(include=['float64', 'int64']).columns\n",
    "category_col = X.select_dtypes(include=['object']).columns\n",
    "\n",
    "# Define transformers\n",
    "preprocessor = ColumnTransformer([\n",
    "    (\"robust\", RobustScaler(), skewed_cols),  # Skewed data\n",
    "    (\"standard\", StandardScaler(), normal_cols),  # Normal data \n",
    "    ('one-hot-encoder', OneHotEncoder(), category_col) # Machine_ID column\n",
    "])\n",
    "\n",
    "# Train-test split\n",
    "# Step 1: Split into Train (60%), Validation (20%), Test (20%)\n",
    "X_train_val, X_test, y_train_val, y_test = train_test_split(X, y, test_size=0.2, stratify=y, random_state=42)\n",
    "X_train, X_val, y_train, y_val = train_test_split(X_train_val, y_train_val, test_size=0.25, stratify=y_train_val, random_state=42)\n",
    "\n",
    "# Define models\n",
    "models = {\n",
    "    \"Bayesian Logistic Regression\": LogisticRegression(solver=\"lbfgs\"),\n",
    "    \"Random Forest\": RandomForestClassifier(n_estimators=100, random_state=42),\n",
    "    \"Gradient Boosting\": GradientBoostingClassifier(n_estimators=100, random_state=42),\n",
    "    \"Decision Tree\": DecisionTreeClassifier(random_state=42),\n",
    "    \"SVM\": SVC(kernel=\"rbf\", probability=True, random_state=42),\n",
    "    \"XGBoost\": xgb.XGBClassifier(eval_metric=\"auc\", random_state = 42)\n",
    "}\n"
   ]
  },
  {
   "attachments": {},
   "cell_type": "markdown",
   "metadata": {},
   "source": [
    "### Train the model \n",
    "#### Cross Validation\n",
    "\n",
    "Since our problem is a classification task, Stratified K-Fold (StratifiedKFold) will be use for the cross validation. \n",
    "\n",
    "Why Use Stratified K-Fold?\n",
    "\n",
    "+ Preserves Class Distribution: Stratified K-Fold ensures that each fold maintains the same proportion of classes as the overall dataset, which is crucial when dealing with classification problems, even if there is no visible class imbalance.\n",
    "+ More Reliable Performance Estimates: It provides a more stable and representative estimate of your model’s performance compared to ShuffleSplit, which may produce folds with different class distributions.\n",
    "+ Better Generalization: Ensures that all classes are well represented in training and validation splits, reducing the risk of biased results.\n",
    "\n",
    "**Key Performance Metrics and Their Meaning**\n",
    "\n",
    "+ Precision: Measures how many of the predicted failures were actually failures. A high precision means fewer false positives.\n",
    "+ Recall: Measures how many of the actual failures were correctly identified. A high recall means fewer false negatives.\n",
    "+ F1-Score: Harmonic mean of precision and recall, balancing both. Higher is better.\n",
    "+ ROC AUC: Measures the model’s ability to distinguish between classes. A value closer to 1 is better."
   ]
  },
  {
   "cell_type": "code",
   "execution_count": 6,
   "metadata": {},
   "outputs": [],
   "source": [
    "# craete an empty list to store model result\n",
    "model_results = []\n",
    "\n",
    "# Initialize Stratified K-Fold\n",
    "cv = StratifiedKFold(n_splits=5, shuffle=True, random_state=42)\n",
    "\n",
    "for name, model in models.items():\n",
    "    precision_scores, recall_scores, f1_scores, roc_auc_scores = [], [], [], []\n",
    "\n",
    "    for train_index, val_index in cv.split(X_train_val, y_train_val):\n",
    "        X_train_fold, X_val_fold = X_train_val.iloc[train_index], X_train_val.iloc[val_index]\n",
    "        y_train_fold, y_val_fold = y_train_val[train_index], y_train_val[val_index]\n",
    "\n",
    "        # Create a pipeline\n",
    "        pipeline = Pipeline([\n",
    "            ('preprocessor', preprocessor),\n",
    "            ('classifier', model)\n",
    "        ])\n",
    "\n",
    "        # Train the model\n",
    "        pipeline.fit(X_train_fold, y_train_fold)\n",
    "\n",
    "        # Make predictions\n",
    "        y_pred = pipeline.predict(X_val_fold)\n",
    "        y_prob = pipeline.predict_proba(X_val_fold)[:, 1] if hasattr(model, 'predict_proba') else None\n",
    "\n",
    "        # Evaluate Metrics\n",
    "        precision_scores.append(precision_score(y_val_fold, y_pred))\n",
    "        recall_scores.append(recall_score(y_val_fold, y_pred))\n",
    "        f1_scores.append(f1_score(y_val_fold, y_pred))\n",
    "        roc_auc_scores.append(roc_auc_score(y_val_fold, y_prob) if y_prob is not None else np.nan)\n",
    "\n",
    "    # Compute mean scores across folds\n",
    "    mean_precision = np.mean(precision_scores)\n",
    "    mean_recall = np.mean(recall_scores)\n",
    "    mean_f1 = np.mean(f1_scores)\n",
    "    mean_roc_auc = np.nanmean(roc_auc_scores)\n",
    "\n",
    "    # Append results\n",
    "    model_results.append({\n",
    "        \"Model\": name,\n",
    "        \"Precision\": round(mean_precision, 4),\n",
    "        \"Recall\": round(mean_recall, 4),\n",
    "        \"F1-Score\": round(mean_f1, 4),\n",
    "        \"ROC AUC\": round(mean_roc_auc, 4)\n",
    "    })\n",
    "\n",
    "\n",
    "# Convert results to DataFrame\n",
    "model_results_df = pd.DataFrame(model_results)"
   ]
  },
  {
   "attachments": {},
   "cell_type": "markdown",
   "metadata": {},
   "source": [
    "### Model Performance and Best Result\n",
    "\n",
    "**Model Performance Interpretation**\n",
    "\n",
    "1. XGBoost (0.9993 ROC AUC, 0.9919 F1-Score)\n",
    "> + Remains a top performer with exceptional discrimination ability (ROC AUC) and a near-perfect balance of precision and recall (F1-Score).\n",
    "> + It's likely to generalize well to the test set.\n",
    "\n",
    "2. Random Forest (0.9990 ROC AUC, 0.9858 F1-Score)\n",
    "> + Also demonstrates excellent performance, very close to XGBoost.\n",
    "> + If interpretability is crucial, it might be preferable.\n",
    "\n",
    "3. Gradient Boosting (0.9991 ROC AUC, 0.9919 F1-Score)\n",
    "> + Achieves top-tier performance, comparable to XGBoost, with a slight edge in recall.\n",
    "\n",
    "4. Decision Tree (0.9694 ROC AUC, 0.9692 F1-Score)\n",
    "> + Shows good performance but falls short compared to the ensemble methods (XGBoost, Random Forest, Gradient Boosting).\n",
    "\n",
    "5. SVM (0.9439 ROC AUC, 0.8779 F1-Score)\n",
    "> + Exhibits decent performance but is outperformed by the ensemble models.\n",
    "\n",
    "6. Bayesian Logistic Regression (0.9292 ROC AUC, 0.8625 F1-Score)\n",
    "> + Shows moderate performance, lagging behind the other models.\n",
    "\n",
    "**Observations**\n",
    "> + Ensemble methods (XGBoost, Random Forest, Gradient Boosting) consistently outperform the single models (Decision Tree, SVM, Bayesian Logistic Regression).\n",
    "> + XGBoost, Random Forest, and Gradient Boosting have shown remarkable performance, with very high ROC AUC and F1-Scores."
   ]
  },
  {
   "cell_type": "code",
   "execution_count": 7,
   "metadata": {},
   "outputs": [
    {
     "data": {
      "text/html": [
       "<div>\n",
       "<style scoped>\n",
       "    .dataframe tbody tr th:only-of-type {\n",
       "        vertical-align: middle;\n",
       "    }\n",
       "\n",
       "    .dataframe tbody tr th {\n",
       "        vertical-align: top;\n",
       "    }\n",
       "\n",
       "    .dataframe thead th {\n",
       "        text-align: right;\n",
       "    }\n",
       "</style>\n",
       "<table border=\"1\" class=\"dataframe\">\n",
       "  <thead>\n",
       "    <tr style=\"text-align: right;\">\n",
       "      <th></th>\n",
       "      <th>Model</th>\n",
       "      <th>Precision</th>\n",
       "      <th>Recall</th>\n",
       "      <th>F1-Score</th>\n",
       "      <th>ROC AUC</th>\n",
       "    </tr>\n",
       "  </thead>\n",
       "  <tbody>\n",
       "    <tr>\n",
       "      <th>0</th>\n",
       "      <td>Bayesian Logistic Regression</td>\n",
       "      <td>0.8650</td>\n",
       "      <td>0.8607</td>\n",
       "      <td>0.8625</td>\n",
       "      <td>0.9292</td>\n",
       "    </tr>\n",
       "    <tr>\n",
       "      <th>1</th>\n",
       "      <td>Random Forest</td>\n",
       "      <td>0.9809</td>\n",
       "      <td>0.9908</td>\n",
       "      <td>0.9858</td>\n",
       "      <td>0.9990</td>\n",
       "    </tr>\n",
       "    <tr>\n",
       "      <th>2</th>\n",
       "      <td>Gradient Boosting</td>\n",
       "      <td>0.9889</td>\n",
       "      <td>0.9949</td>\n",
       "      <td>0.9919</td>\n",
       "      <td>0.9991</td>\n",
       "    </tr>\n",
       "    <tr>\n",
       "      <th>3</th>\n",
       "      <td>Decision Tree</td>\n",
       "      <td>0.9630</td>\n",
       "      <td>0.9756</td>\n",
       "      <td>0.9692</td>\n",
       "      <td>0.9694</td>\n",
       "    </tr>\n",
       "    <tr>\n",
       "      <th>4</th>\n",
       "      <td>SVM</td>\n",
       "      <td>0.8799</td>\n",
       "      <td>0.8760</td>\n",
       "      <td>0.8779</td>\n",
       "      <td>0.9439</td>\n",
       "    </tr>\n",
       "    <tr>\n",
       "      <th>5</th>\n",
       "      <td>XGBoost</td>\n",
       "      <td>0.9909</td>\n",
       "      <td>0.9929</td>\n",
       "      <td>0.9919</td>\n",
       "      <td>0.9993</td>\n",
       "    </tr>\n",
       "  </tbody>\n",
       "</table>\n",
       "</div>"
      ],
      "text/plain": [
       "                          Model  Precision  Recall  F1-Score  ROC AUC\n",
       "0  Bayesian Logistic Regression     0.8650  0.8607    0.8625   0.9292\n",
       "1                 Random Forest     0.9809  0.9908    0.9858   0.9990\n",
       "2             Gradient Boosting     0.9889  0.9949    0.9919   0.9991\n",
       "3                 Decision Tree     0.9630  0.9756    0.9692   0.9694\n",
       "4                           SVM     0.8799  0.8760    0.8779   0.9439\n",
       "5                       XGBoost     0.9909  0.9929    0.9919   0.9993"
      ]
     },
     "execution_count": 7,
     "metadata": {},
     "output_type": "execute_result"
    }
   ],
   "source": [
    "model_results_df.head(10)"
   ]
  },
  {
   "attachments": {},
   "cell_type": "markdown",
   "metadata": {},
   "source": [
    "### Hyperparameter Tuning "
   ]
  },
  {
   "cell_type": "code",
   "execution_count": 8,
   "metadata": {},
   "outputs": [
    {
     "name": "stderr",
     "output_type": "stream",
     "text": [
      "[I 2025-03-02 14:44:36,274] A new study created in memory with name: no-name-aa0beb13-7c11-47a4-8d5e-131e9cc036a5\n",
      "C:\\Users\\Administrator\\AppData\\Local\\Temp\\ipykernel_2420\\4092580619.py:31: FutureWarning: suggest_loguniform has been deprecated in v3.0.0. This feature will be removed in v6.0.0. See https://github.com/optuna/optuna/releases/tag/v3.0.0. Use suggest_float(..., log=True) instead.\n",
      "  'learning_rate': trial.suggest_loguniform('learning_rate', 0.01, 0.3),\n",
      "[I 2025-03-02 14:44:37,061] Trial 0 finished with value: 0.9845595808497397 and parameters: {'n_estimators': 450, 'max_depth': 4, 'learning_rate': 0.2008732189709983, 'subsample': 0.6206288310172509, 'colsample_bytree': 0.9782568192880673, 'gamma': 6.567456507919028, 'reg_alpha': 9.044833044090007, 'reg_lambda': 8.314651019389807}. Best is trial 0 with value: 0.9845595808497397.\n",
      "C:\\Users\\Administrator\\AppData\\Local\\Temp\\ipykernel_2420\\4092580619.py:31: FutureWarning: suggest_loguniform has been deprecated in v3.0.0. This feature will be removed in v6.0.0. See https://github.com/optuna/optuna/releases/tag/v3.0.0. Use suggest_float(..., log=True) instead.\n",
      "  'learning_rate': trial.suggest_loguniform('learning_rate', 0.01, 0.3),\n",
      "[I 2025-03-02 14:44:37,757] Trial 1 finished with value: 0.9893954948659107 and parameters: {'n_estimators': 450, 'max_depth': 9, 'learning_rate': 0.09484798943619364, 'subsample': 0.8556834409410604, 'colsample_bytree': 0.6460748678275591, 'gamma': 2.197057802422726, 'reg_alpha': 4.0533499936642094, 'reg_lambda': 7.041376205411471}. Best is trial 1 with value: 0.9893954948659107.\n",
      "C:\\Users\\Administrator\\AppData\\Local\\Temp\\ipykernel_2420\\4092580619.py:31: FutureWarning: suggest_loguniform has been deprecated in v3.0.0. This feature will be removed in v6.0.0. See https://github.com/optuna/optuna/releases/tag/v3.0.0. Use suggest_float(..., log=True) instead.\n",
      "  'learning_rate': trial.suggest_loguniform('learning_rate', 0.01, 0.3),\n",
      "[I 2025-03-02 14:44:38,760] Trial 2 finished with value: 0.9883774085337539 and parameters: {'n_estimators': 450, 'max_depth': 3, 'learning_rate': 0.01424080983498479, 'subsample': 0.8533291164666421, 'colsample_bytree': 0.8404813461847831, 'gamma': 1.6802603788679482, 'reg_alpha': 5.377991922817916, 'reg_lambda': 7.268242454639015}. Best is trial 1 with value: 0.9893954948659107.\n",
      "C:\\Users\\Administrator\\AppData\\Local\\Temp\\ipykernel_2420\\4092580619.py:31: FutureWarning: suggest_loguniform has been deprecated in v3.0.0. This feature will be removed in v6.0.0. See https://github.com/optuna/optuna/releases/tag/v3.0.0. Use suggest_float(..., log=True) instead.\n",
      "  'learning_rate': trial.suggest_loguniform('learning_rate', 0.01, 0.3),\n",
      "[I 2025-03-02 14:44:39,517] Trial 3 finished with value: 0.9883075406188055 and parameters: {'n_estimators': 450, 'max_depth': 11, 'learning_rate': 0.07577404353619442, 'subsample': 0.8819378088794849, 'colsample_bytree': 0.720404052212101, 'gamma': 4.520905511915233, 'reg_alpha': 4.341093650750736, 'reg_lambda': 6.364877653992451}. Best is trial 1 with value: 0.9893954948659107.\n",
      "C:\\Users\\Administrator\\AppData\\Local\\Temp\\ipykernel_2420\\4092580619.py:31: FutureWarning: suggest_loguniform has been deprecated in v3.0.0. This feature will be removed in v6.0.0. See https://github.com/optuna/optuna/releases/tag/v3.0.0. Use suggest_float(..., log=True) instead.\n",
      "  'learning_rate': trial.suggest_loguniform('learning_rate', 0.01, 0.3),\n",
      "[I 2025-03-02 14:44:40,003] Trial 4 finished with value: 0.9872986766491194 and parameters: {'n_estimators': 150, 'max_depth': 12, 'learning_rate': 0.04439376316640385, 'subsample': 0.8638650839473148, 'colsample_bytree': 0.9867242688046722, 'gamma': 7.207425572102231, 'reg_alpha': 3.167056021937218, 'reg_lambda': 5.606773646918249}. Best is trial 1 with value: 0.9893954948659107.\n",
      "C:\\Users\\Administrator\\AppData\\Local\\Temp\\ipykernel_2420\\4092580619.py:31: FutureWarning: suggest_loguniform has been deprecated in v3.0.0. This feature will be removed in v6.0.0. See https://github.com/optuna/optuna/releases/tag/v3.0.0. Use suggest_float(..., log=True) instead.\n",
      "  'learning_rate': trial.suggest_loguniform('learning_rate', 0.01, 0.3),\n",
      "[I 2025-03-02 14:44:40,661] Trial 5 finished with value: 0.9883592685807829 and parameters: {'n_estimators': 400, 'max_depth': 6, 'learning_rate': 0.0769049728153133, 'subsample': 0.8997635238414498, 'colsample_bytree': 0.7897559665345201, 'gamma': 1.4765676525732174, 'reg_alpha': 9.702786981009798, 'reg_lambda': 1.1912305003677592}. Best is trial 1 with value: 0.9893954948659107.\n",
      "C:\\Users\\Administrator\\AppData\\Local\\Temp\\ipykernel_2420\\4092580619.py:31: FutureWarning: suggest_loguniform has been deprecated in v3.0.0. This feature will be removed in v6.0.0. See https://github.com/optuna/optuna/releases/tag/v3.0.0. Use suggest_float(..., log=True) instead.\n",
      "  'learning_rate': trial.suggest_loguniform('learning_rate', 0.01, 0.3),\n",
      "[I 2025-03-02 14:44:41,174] Trial 6 finished with value: 0.988772433342187 and parameters: {'n_estimators': 250, 'max_depth': 12, 'learning_rate': 0.10197069632014245, 'subsample': 0.6904725436246014, 'colsample_bytree': 0.7541938745646892, 'gamma': 4.796995626312054, 'reg_alpha': 5.4678434046658175, 'reg_lambda': 9.573717056965176}. Best is trial 1 with value: 0.9893954948659107.\n",
      "C:\\Users\\Administrator\\AppData\\Local\\Temp\\ipykernel_2420\\4092580619.py:31: FutureWarning: suggest_loguniform has been deprecated in v3.0.0. This feature will be removed in v6.0.0. See https://github.com/optuna/optuna/releases/tag/v3.0.0. Use suggest_float(..., log=True) instead.\n",
      "  'learning_rate': trial.suggest_loguniform('learning_rate', 0.01, 0.3),\n",
      "[I 2025-03-02 14:44:41,556] Trial 7 finished with value: 0.9861691913579012 and parameters: {'n_estimators': 150, 'max_depth': 5, 'learning_rate': 0.2947887499548258, 'subsample': 0.6978255333445891, 'colsample_bytree': 0.7818166804673017, 'gamma': 6.756452096406874, 'reg_alpha': 6.112217897260878, 'reg_lambda': 0.8087188070321305}. Best is trial 1 with value: 0.9893954948659107.\n",
      "C:\\Users\\Administrator\\AppData\\Local\\Temp\\ipykernel_2420\\4092580619.py:31: FutureWarning: suggest_loguniform has been deprecated in v3.0.0. This feature will be removed in v6.0.0. See https://github.com/optuna/optuna/releases/tag/v3.0.0. Use suggest_float(..., log=True) instead.\n",
      "  'learning_rate': trial.suggest_loguniform('learning_rate', 0.01, 0.3),\n",
      "[I 2025-03-02 14:44:42,069] Trial 8 finished with value: 0.9861984527889213 and parameters: {'n_estimators': 150, 'max_depth': 7, 'learning_rate': 0.05731767663799775, 'subsample': 0.8139439667658376, 'colsample_bytree': 0.7328904555434134, 'gamma': 8.81557641506541, 'reg_alpha': 8.392993598226393, 'reg_lambda': 0.09564049599139035}. Best is trial 1 with value: 0.9893954948659107.\n",
      "C:\\Users\\Administrator\\AppData\\Local\\Temp\\ipykernel_2420\\4092580619.py:31: FutureWarning: suggest_loguniform has been deprecated in v3.0.0. This feature will be removed in v6.0.0. See https://github.com/optuna/optuna/releases/tag/v3.0.0. Use suggest_float(..., log=True) instead.\n",
      "  'learning_rate': trial.suggest_loguniform('learning_rate', 0.01, 0.3),\n",
      "[I 2025-03-02 14:44:42,572] Trial 9 finished with value: 0.9797576621222301 and parameters: {'n_estimators': 150, 'max_depth': 3, 'learning_rate': 0.010482177554459604, 'subsample': 0.8637423876273407, 'colsample_bytree': 0.7383731709040829, 'gamma': 8.626729748852961, 'reg_alpha': 9.634883916693772, 'reg_lambda': 5.904730771613144}. Best is trial 1 with value: 0.9893954948659107.\n",
      "C:\\Users\\Administrator\\AppData\\Local\\Temp\\ipykernel_2420\\4092580619.py:31: FutureWarning: suggest_loguniform has been deprecated in v3.0.0. This feature will be removed in v6.0.0. See https://github.com/optuna/optuna/releases/tag/v3.0.0. Use suggest_float(..., log=True) instead.\n",
      "  'learning_rate': trial.suggest_loguniform('learning_rate', 0.01, 0.3),\n",
      "[I 2025-03-02 14:44:43,688] Trial 10 finished with value: 0.993428134418886 and parameters: {'n_estimators': 350, 'max_depth': 9, 'learning_rate': 0.02762180317795209, 'subsample': 0.9583843267623833, 'colsample_bytree': 0.6059049484411094, 'gamma': 0.3379989791381979, 'reg_alpha': 0.1284456937234122, 'reg_lambda': 3.3601508519129113}. Best is trial 10 with value: 0.993428134418886.\n",
      "C:\\Users\\Administrator\\AppData\\Local\\Temp\\ipykernel_2420\\4092580619.py:31: FutureWarning: suggest_loguniform has been deprecated in v3.0.0. This feature will be removed in v6.0.0. See https://github.com/optuna/optuna/releases/tag/v3.0.0. Use suggest_float(..., log=True) instead.\n",
      "  'learning_rate': trial.suggest_loguniform('learning_rate', 0.01, 0.3),\n",
      "[I 2025-03-02 14:44:44,974] Trial 11 finished with value: 0.9934258824710334 and parameters: {'n_estimators': 350, 'max_depth': 9, 'learning_rate': 0.026057086527660846, 'subsample': 0.9696074301264402, 'colsample_bytree': 0.6097129908857026, 'gamma': 0.15714649385119372, 'reg_alpha': 0.06675830278996076, 'reg_lambda': 3.700312449874821}. Best is trial 10 with value: 0.993428134418886.\n",
      "C:\\Users\\Administrator\\AppData\\Local\\Temp\\ipykernel_2420\\4092580619.py:31: FutureWarning: suggest_loguniform has been deprecated in v3.0.0. This feature will be removed in v6.0.0. See https://github.com/optuna/optuna/releases/tag/v3.0.0. Use suggest_float(..., log=True) instead.\n",
      "  'learning_rate': trial.suggest_loguniform('learning_rate', 0.01, 0.3),\n",
      "[I 2025-03-02 14:44:45,996] Trial 12 finished with value: 0.9924111006555344 and parameters: {'n_estimators': 300, 'max_depth': 9, 'learning_rate': 0.025274259041157994, 'subsample': 0.993403368150867, 'colsample_bytree': 0.6042914417636331, 'gamma': 0.5666087273259368, 'reg_alpha': 0.133987900922826, 'reg_lambda': 3.2339840726292555}. Best is trial 10 with value: 0.993428134418886.\n",
      "C:\\Users\\Administrator\\AppData\\Local\\Temp\\ipykernel_2420\\4092580619.py:31: FutureWarning: suggest_loguniform has been deprecated in v3.0.0. This feature will be removed in v6.0.0. See https://github.com/optuna/optuna/releases/tag/v3.0.0. Use suggest_float(..., log=True) instead.\n",
      "  'learning_rate': trial.suggest_loguniform('learning_rate', 0.01, 0.3),\n",
      "[I 2025-03-02 14:44:46,797] Trial 13 finished with value: 0.98993892755446 and parameters: {'n_estimators': 350, 'max_depth': 9, 'learning_rate': 0.0273974782846783, 'subsample': 0.9884572225353232, 'colsample_bytree': 0.6585417093587046, 'gamma': 3.581683419655994, 'reg_alpha': 0.26981834518828984, 'reg_lambda': 3.4171902409670447}. Best is trial 10 with value: 0.993428134418886.\n",
      "C:\\Users\\Administrator\\AppData\\Local\\Temp\\ipykernel_2420\\4092580619.py:31: FutureWarning: suggest_loguniform has been deprecated in v3.0.0. This feature will be removed in v6.0.0. See https://github.com/optuna/optuna/releases/tag/v3.0.0. Use suggest_float(..., log=True) instead.\n",
      "  'learning_rate': trial.suggest_loguniform('learning_rate', 0.01, 0.3),\n",
      "[I 2025-03-02 14:44:47,866] Trial 14 finished with value: 0.9898224429930378 and parameters: {'n_estimators': 250, 'max_depth': 10, 'learning_rate': 0.020633985870777423, 'subsample': 0.9389338516621557, 'colsample_bytree': 0.8529556287305535, 'gamma': 0.5089814652994343, 'reg_alpha': 1.7437551269822424, 'reg_lambda': 3.6035353843361784}. Best is trial 10 with value: 0.993428134418886.\n",
      "C:\\Users\\Administrator\\AppData\\Local\\Temp\\ipykernel_2420\\4092580619.py:31: FutureWarning: suggest_loguniform has been deprecated in v3.0.0. This feature will be removed in v6.0.0. See https://github.com/optuna/optuna/releases/tag/v3.0.0. Use suggest_float(..., log=True) instead.\n",
      "  'learning_rate': trial.suggest_loguniform('learning_rate', 0.01, 0.3),\n",
      "[I 2025-03-02 14:44:48,685] Trial 15 finished with value: 0.9909045672972754 and parameters: {'n_estimators': 350, 'max_depth': 8, 'learning_rate': 0.03880851550057912, 'subsample': 0.9301111979178189, 'colsample_bytree': 0.6667032049625967, 'gamma': 3.0608867027540416, 'reg_alpha': 1.7429141915867694, 'reg_lambda': 2.11841595689143}. Best is trial 10 with value: 0.993428134418886.\n",
      "C:\\Users\\Administrator\\AppData\\Local\\Temp\\ipykernel_2420\\4092580619.py:31: FutureWarning: suggest_loguniform has been deprecated in v3.0.0. This feature will be removed in v6.0.0. See https://github.com/optuna/optuna/releases/tag/v3.0.0. Use suggest_float(..., log=True) instead.\n",
      "  'learning_rate': trial.suggest_loguniform('learning_rate', 0.01, 0.3),\n",
      "[I 2025-03-02 14:44:49,596] Trial 16 finished with value: 0.9899367206577404 and parameters: {'n_estimators': 250, 'max_depth': 7, 'learning_rate': 0.01708718113522452, 'subsample': 0.7653246605463672, 'colsample_bytree': 0.6003076922989516, 'gamma': 0.20706361877489968, 'reg_alpha': 1.6551711019429403, 'reg_lambda': 4.387401027829583}. Best is trial 10 with value: 0.993428134418886.\n",
      "C:\\Users\\Administrator\\AppData\\Local\\Temp\\ipykernel_2420\\4092580619.py:31: FutureWarning: suggest_loguniform has been deprecated in v3.0.0. This feature will be removed in v6.0.0. See https://github.com/optuna/optuna/releases/tag/v3.0.0. Use suggest_float(..., log=True) instead.\n",
      "  'learning_rate': trial.suggest_loguniform('learning_rate', 0.01, 0.3),\n",
      "[I 2025-03-02 14:44:50,310] Trial 17 finished with value: 0.9883660563862935 and parameters: {'n_estimators': 350, 'max_depth': 10, 'learning_rate': 0.03302675602014378, 'subsample': 0.9518497384385339, 'colsample_bytree': 0.6900597426905251, 'gamma': 2.773046553004832, 'reg_alpha': 7.147359414586264, 'reg_lambda': 2.3802878959023244}. Best is trial 10 with value: 0.993428134418886.\n",
      "C:\\Users\\Administrator\\AppData\\Local\\Temp\\ipykernel_2420\\4092580619.py:31: FutureWarning: suggest_loguniform has been deprecated in v3.0.0. This feature will be removed in v6.0.0. See https://github.com/optuna/optuna/releases/tag/v3.0.0. Use suggest_float(..., log=True) instead.\n",
      "  'learning_rate': trial.suggest_loguniform('learning_rate', 0.01, 0.3),\n",
      "[I 2025-03-02 14:44:51,887] Trial 18 finished with value: 0.989320727837097 and parameters: {'n_estimators': 500, 'max_depth': 8, 'learning_rate': 0.010308498629266891, 'subsample': 0.7729562884775528, 'colsample_bytree': 0.9032337387505658, 'gamma': 1.4920388218595306, 'reg_alpha': 2.8935776757814407, 'reg_lambda': 5.112576759547405}. Best is trial 10 with value: 0.993428134418886.\n",
      "C:\\Users\\Administrator\\AppData\\Local\\Temp\\ipykernel_2420\\4092580619.py:31: FutureWarning: suggest_loguniform has been deprecated in v3.0.0. This feature will be removed in v6.0.0. See https://github.com/optuna/optuna/releases/tag/v3.0.0. Use suggest_float(..., log=True) instead.\n",
      "  'learning_rate': trial.suggest_loguniform('learning_rate', 0.01, 0.3),\n",
      "[I 2025-03-02 14:44:52,715] Trial 19 finished with value: 0.9894236810014548 and parameters: {'n_estimators': 300, 'max_depth': 10, 'learning_rate': 0.019820207706255442, 'subsample': 0.9658906882899532, 'colsample_bytree': 0.6367963371584038, 'gamma': 3.8578948492629994, 'reg_alpha': 0.7998927989145341, 'reg_lambda': 4.476051736302759}. Best is trial 10 with value: 0.993428134418886.\n",
      "C:\\Users\\Administrator\\AppData\\Local\\Temp\\ipykernel_2420\\4092580619.py:31: FutureWarning: suggest_loguniform has been deprecated in v3.0.0. This feature will be removed in v6.0.0. See https://github.com/optuna/optuna/releases/tag/v3.0.0. Use suggest_float(..., log=True) instead.\n",
      "  'learning_rate': trial.suggest_loguniform('learning_rate', 0.01, 0.3),\n",
      "[I 2025-03-02 14:44:53,395] Trial 20 finished with value: 0.9882772550613506 and parameters: {'n_estimators': 400, 'max_depth': 6, 'learning_rate': 0.04778162358675328, 'subsample': 0.925160260825504, 'colsample_bytree': 0.6967094523025685, 'gamma': 9.845765731206836, 'reg_alpha': 3.0456688114614874, 'reg_lambda': 2.2463541048702638}. Best is trial 10 with value: 0.993428134418886.\n",
      "C:\\Users\\Administrator\\AppData\\Local\\Temp\\ipykernel_2420\\4092580619.py:31: FutureWarning: suggest_loguniform has been deprecated in v3.0.0. This feature will be removed in v6.0.0. See https://github.com/optuna/optuna/releases/tag/v3.0.0. Use suggest_float(..., log=True) instead.\n",
      "  'learning_rate': trial.suggest_loguniform('learning_rate', 0.01, 0.3),\n",
      "[I 2025-03-02 14:44:54,621] Trial 21 finished with value: 0.9924168127113804 and parameters: {'n_estimators': 300, 'max_depth': 9, 'learning_rate': 0.026486788245183773, 'subsample': 0.9986976238098138, 'colsample_bytree': 0.6022493275836909, 'gamma': 0.07424478061191309, 'reg_alpha': 0.012015323558695279, 'reg_lambda': 3.2887247471269885}. Best is trial 10 with value: 0.993428134418886.\n",
      "C:\\Users\\Administrator\\AppData\\Local\\Temp\\ipykernel_2420\\4092580619.py:31: FutureWarning: suggest_loguniform has been deprecated in v3.0.0. This feature will be removed in v6.0.0. See https://github.com/optuna/optuna/releases/tag/v3.0.0. Use suggest_float(..., log=True) instead.\n",
      "  'learning_rate': trial.suggest_loguniform('learning_rate', 0.01, 0.3),\n",
      "[I 2025-03-02 14:44:55,675] Trial 22 finished with value: 0.9918891865980204 and parameters: {'n_estimators': 300, 'max_depth': 11, 'learning_rate': 0.028299958291868994, 'subsample': 0.9876988938155526, 'colsample_bytree': 0.6224728643482064, 'gamma': 0.17181046665141247, 'reg_alpha': 0.7545323226633309, 'reg_lambda': 4.12431045838537}. Best is trial 10 with value: 0.993428134418886.\n",
      "C:\\Users\\Administrator\\AppData\\Local\\Temp\\ipykernel_2420\\4092580619.py:31: FutureWarning: suggest_loguniform has been deprecated in v3.0.0. This feature will be removed in v6.0.0. See https://github.com/optuna/optuna/releases/tag/v3.0.0. Use suggest_float(..., log=True) instead.\n",
      "  'learning_rate': trial.suggest_loguniform('learning_rate', 0.01, 0.3),\n",
      "[I 2025-03-02 14:44:56,479] Trial 23 finished with value: 0.988411515916025 and parameters: {'n_estimators': 200, 'max_depth': 8, 'learning_rate': 0.016149948262939647, 'subsample': 0.9063098895865858, 'colsample_bytree': 0.6749600605450972, 'gamma': 0.8831650485317133, 'reg_alpha': 1.5341461664462885, 'reg_lambda': 2.7529275147496337}. Best is trial 10 with value: 0.993428134418886.\n",
      "C:\\Users\\Administrator\\AppData\\Local\\Temp\\ipykernel_2420\\4092580619.py:31: FutureWarning: suggest_loguniform has been deprecated in v3.0.0. This feature will be removed in v6.0.0. See https://github.com/optuna/optuna/releases/tag/v3.0.0. Use suggest_float(..., log=True) instead.\n",
      "  'learning_rate': trial.suggest_loguniform('learning_rate', 0.01, 0.3),\n",
      "[I 2025-03-02 14:44:57,695] Trial 24 finished with value: 0.992433291740602 and parameters: {'n_estimators': 400, 'max_depth': 9, 'learning_rate': 0.0331861546534895, 'subsample': 0.9623814315799905, 'colsample_bytree': 0.6131281291674582, 'gamma': 2.5229289020546775, 'reg_alpha': 0.0893520328640781, 'reg_lambda': 1.309419092210602}. Best is trial 10 with value: 0.993428134418886.\n",
      "C:\\Users\\Administrator\\AppData\\Local\\Temp\\ipykernel_2420\\4092580619.py:31: FutureWarning: suggest_loguniform has been deprecated in v3.0.0. This feature will be removed in v6.0.0. See https://github.com/optuna/optuna/releases/tag/v3.0.0. Use suggest_float(..., log=True) instead.\n",
      "  'learning_rate': trial.suggest_loguniform('learning_rate', 0.01, 0.3),\n",
      "[I 2025-03-02 14:44:58,526] Trial 25 finished with value: 0.9904028187334067 and parameters: {'n_estimators': 400, 'max_depth': 11, 'learning_rate': 0.05669602458283955, 'subsample': 0.9638834640471591, 'colsample_bytree': 0.634180122936421, 'gamma': 2.3460546198675685, 'reg_alpha': 2.341079569367083, 'reg_lambda': 1.2230601851405591}. Best is trial 10 with value: 0.993428134418886.\n",
      "C:\\Users\\Administrator\\AppData\\Local\\Temp\\ipykernel_2420\\4092580619.py:31: FutureWarning: suggest_loguniform has been deprecated in v3.0.0. This feature will be removed in v6.0.0. See https://github.com/optuna/optuna/releases/tag/v3.0.0. Use suggest_float(..., log=True) instead.\n",
      "  'learning_rate': trial.suggest_loguniform('learning_rate', 0.01, 0.3),\n",
      "[I 2025-03-02 14:44:59,559] Trial 26 finished with value: 0.991398277416452 and parameters: {'n_estimators': 350, 'max_depth': 10, 'learning_rate': 0.037760790393207705, 'subsample': 0.8191660843563554, 'colsample_bytree': 0.7067617386693013, 'gamma': 1.2280304767319217, 'reg_alpha': 1.101013452393314, 'reg_lambda': 1.7483197290027868}. Best is trial 10 with value: 0.993428134418886.\n",
      "C:\\Users\\Administrator\\AppData\\Local\\Temp\\ipykernel_2420\\4092580619.py:31: FutureWarning: suggest_loguniform has been deprecated in v3.0.0. This feature will be removed in v6.0.0. See https://github.com/optuna/optuna/releases/tag/v3.0.0. Use suggest_float(..., log=True) instead.\n",
      "  'learning_rate': trial.suggest_loguniform('learning_rate', 0.01, 0.3),\n",
      "[I 2025-03-02 14:45:01,456] Trial 27 finished with value: 0.9904585744441441 and parameters: {'n_estimators': 500, 'max_depth': 7, 'learning_rate': 0.013477348872199231, 'subsample': 0.917352359853301, 'colsample_bytree': 0.6604212997046509, 'gamma': 2.238412847952273, 'reg_alpha': 2.4073306772037095, 'reg_lambda': 0.32634298385407146}. Best is trial 10 with value: 0.993428134418886.\n",
      "C:\\Users\\Administrator\\AppData\\Local\\Temp\\ipykernel_2420\\4092580619.py:31: FutureWarning: suggest_loguniform has been deprecated in v3.0.0. This feature will be removed in v6.0.0. See https://github.com/optuna/optuna/releases/tag/v3.0.0. Use suggest_float(..., log=True) instead.\n",
      "  'learning_rate': trial.suggest_loguniform('learning_rate', 0.01, 0.3),\n",
      "[I 2025-03-02 14:45:02,398] Trial 28 finished with value: 0.9889307365119953 and parameters: {'n_estimators': 400, 'max_depth': 8, 'learning_rate': 0.02108338444649556, 'subsample': 0.9565644505696108, 'colsample_bytree': 0.6276818264129406, 'gamma': 5.41892222202001, 'reg_alpha': 0.8375744357488915, 'reg_lambda': 5.026319792796514}. Best is trial 10 with value: 0.993428134418886.\n",
      "C:\\Users\\Administrator\\AppData\\Local\\Temp\\ipykernel_2420\\4092580619.py:31: FutureWarning: suggest_loguniform has been deprecated in v3.0.0. This feature will be removed in v6.0.0. See https://github.com/optuna/optuna/releases/tag/v3.0.0. Use suggest_float(..., log=True) instead.\n",
      "  'learning_rate': trial.suggest_loguniform('learning_rate', 0.01, 0.3),\n",
      "[I 2025-03-02 14:45:02,962] Trial 29 finished with value: 0.9868162526754207 and parameters: {'n_estimators': 100, 'max_depth': 6, 'learning_rate': 0.03323434780047173, 'subsample': 0.6355286829564574, 'colsample_bytree': 0.8939237349882108, 'gamma': 5.665089687753051, 'reg_alpha': 3.729618290064774, 'reg_lambda': 1.5954244072678854}. Best is trial 10 with value: 0.993428134418886.\n",
      "C:\\Users\\Administrator\\AppData\\Local\\Temp\\ipykernel_2420\\4092580619.py:31: FutureWarning: suggest_loguniform has been deprecated in v3.0.0. This feature will be removed in v6.0.0. See https://github.com/optuna/optuna/releases/tag/v3.0.0. Use suggest_float(..., log=True) instead.\n",
      "  'learning_rate': trial.suggest_loguniform('learning_rate', 0.01, 0.3),\n",
      "[I 2025-03-02 14:45:03,733] Trial 30 finished with value: 0.9878701017015009 and parameters: {'n_estimators': 450, 'max_depth': 9, 'learning_rate': 0.07060554977785208, 'subsample': 0.8986486195440748, 'colsample_bytree': 0.9527819771324743, 'gamma': 3.562965520433228, 'reg_alpha': 2.3179996075896274, 'reg_lambda': 4.004627753981901}. Best is trial 10 with value: 0.993428134418886.\n",
      "C:\\Users\\Administrator\\AppData\\Local\\Temp\\ipykernel_2420\\4092580619.py:31: FutureWarning: suggest_loguniform has been deprecated in v3.0.0. This feature will be removed in v6.0.0. See https://github.com/optuna/optuna/releases/tag/v3.0.0. Use suggest_float(..., log=True) instead.\n",
      "  'learning_rate': trial.suggest_loguniform('learning_rate', 0.01, 0.3),\n",
      "[I 2025-03-02 14:45:04,730] Trial 31 finished with value: 0.9919326082181709 and parameters: {'n_estimators': 300, 'max_depth': 9, 'learning_rate': 0.02341599570638886, 'subsample': 0.9809608960125644, 'colsample_bytree': 0.6061208776207376, 'gamma': 0.8923639041685947, 'reg_alpha': 0.016520922726480966, 'reg_lambda': 2.9545652741288806}. Best is trial 10 with value: 0.993428134418886.\n",
      "C:\\Users\\Administrator\\AppData\\Local\\Temp\\ipykernel_2420\\4092580619.py:31: FutureWarning: suggest_loguniform has been deprecated in v3.0.0. This feature will be removed in v6.0.0. See https://github.com/optuna/optuna/releases/tag/v3.0.0. Use suggest_float(..., log=True) instead.\n",
      "  'learning_rate': trial.suggest_loguniform('learning_rate', 0.01, 0.3),\n",
      "[I 2025-03-02 14:45:05,950] Trial 32 finished with value: 0.9934258824710334 and parameters: {'n_estimators': 350, 'max_depth': 9, 'learning_rate': 0.029960510634977153, 'subsample': 0.9409733050038285, 'colsample_bytree': 0.6438907706755135, 'gamma': 0.1331783637398818, 'reg_alpha': 0.5650178645681977, 'reg_lambda': 3.733618480867093}. Best is trial 10 with value: 0.993428134418886.\n",
      "C:\\Users\\Administrator\\AppData\\Local\\Temp\\ipykernel_2420\\4092580619.py:31: FutureWarning: suggest_loguniform has been deprecated in v3.0.0. This feature will be removed in v6.0.0. See https://github.com/optuna/optuna/releases/tag/v3.0.0. Use suggest_float(..., log=True) instead.\n",
      "  'learning_rate': trial.suggest_loguniform('learning_rate', 0.01, 0.3),\n",
      "[I 2025-03-02 14:45:06,819] Trial 33 finished with value: 0.9909383230763008 and parameters: {'n_estimators': 350, 'max_depth': 10, 'learning_rate': 0.03206374581713047, 'subsample': 0.9394455123677925, 'colsample_bytree': 0.6453617770829871, 'gamma': 1.8461540844288555, 'reg_alpha': 1.150987803122248, 'reg_lambda': 2.6334025598182786}. Best is trial 10 with value: 0.993428134418886.\n",
      "C:\\Users\\Administrator\\AppData\\Local\\Temp\\ipykernel_2420\\4092580619.py:31: FutureWarning: suggest_loguniform has been deprecated in v3.0.0. This feature will be removed in v6.0.0. See https://github.com/optuna/optuna/releases/tag/v3.0.0. Use suggest_float(..., log=True) instead.\n",
      "  'learning_rate': trial.suggest_loguniform('learning_rate', 0.01, 0.3),\n",
      "[I 2025-03-02 14:45:07,523] Trial 34 finished with value: 0.9913915367928713 and parameters: {'n_estimators': 400, 'max_depth': 8, 'learning_rate': 0.11328014044149969, 'subsample': 0.9654272992396258, 'colsample_bytree': 0.680803654105252, 'gamma': 1.0484641579749063, 'reg_alpha': 0.5484573490222047, 'reg_lambda': 7.011719276397301}. Best is trial 10 with value: 0.993428134418886.\n",
      "C:\\Users\\Administrator\\AppData\\Local\\Temp\\ipykernel_2420\\4092580619.py:31: FutureWarning: suggest_loguniform has been deprecated in v3.0.0. This feature will be removed in v6.0.0. See https://github.com/optuna/optuna/releases/tag/v3.0.0. Use suggest_float(..., log=True) instead.\n",
      "  'learning_rate': trial.suggest_loguniform('learning_rate', 0.01, 0.3),\n",
      "[I 2025-03-02 14:45:08,843] Trial 35 finished with value: 0.9924100219161172 and parameters: {'n_estimators': 450, 'max_depth': 11, 'learning_rate': 0.04653431611558731, 'subsample': 0.840753660913306, 'colsample_bytree': 0.6257606259953161, 'gamma': 0.004279635121879011, 'reg_alpha': 1.1734173029014041, 'reg_lambda': 3.886215363797096}. Best is trial 10 with value: 0.993428134418886.\n",
      "C:\\Users\\Administrator\\AppData\\Local\\Temp\\ipykernel_2420\\4092580619.py:31: FutureWarning: suggest_loguniform has been deprecated in v3.0.0. This feature will be removed in v6.0.0. See https://github.com/optuna/optuna/releases/tag/v3.0.0. Use suggest_float(..., log=True) instead.\n",
      "  'learning_rate': trial.suggest_loguniform('learning_rate', 0.01, 0.3),\n",
      "[I 2025-03-02 14:45:09,660] Trial 36 finished with value: 0.9909248253915638 and parameters: {'n_estimators': 350, 'max_depth': 9, 'learning_rate': 0.03782469802728322, 'subsample': 0.8865407397191376, 'colsample_bytree': 0.6497977903429644, 'gamma': 1.8861356288019402, 'reg_alpha': 0.5519164635747927, 'reg_lambda': 5.574683228497214}. Best is trial 10 with value: 0.993428134418886.\n",
      "C:\\Users\\Administrator\\AppData\\Local\\Temp\\ipykernel_2420\\4092580619.py:31: FutureWarning: suggest_loguniform has been deprecated in v3.0.0. This feature will be removed in v6.0.0. See https://github.com/optuna/optuna/releases/tag/v3.0.0. Use suggest_float(..., log=True) instead.\n",
      "  'learning_rate': trial.suggest_loguniform('learning_rate', 0.01, 0.3),\n",
      "[I 2025-03-02 14:45:10,404] Trial 37 finished with value: 0.9893674173110851 and parameters: {'n_estimators': 400, 'max_depth': 10, 'learning_rate': 0.13782892990483595, 'subsample': 0.8875757995029646, 'colsample_bytree': 0.7145284732531784, 'gamma': 2.752828438277532, 'reg_alpha': 2.1561488982483863, 'reg_lambda': 4.557734376409066}. Best is trial 10 with value: 0.993428134418886.\n",
      "C:\\Users\\Administrator\\AppData\\Local\\Temp\\ipykernel_2420\\4092580619.py:31: FutureWarning: suggest_loguniform has been deprecated in v3.0.0. This feature will be removed in v6.0.0. See https://github.com/optuna/optuna/releases/tag/v3.0.0. Use suggest_float(..., log=True) instead.\n",
      "  'learning_rate': trial.suggest_loguniform('learning_rate', 0.01, 0.3),\n",
      "[I 2025-03-02 14:45:11,814] Trial 38 finished with value: 0.9888949614207011 and parameters: {'n_estimators': 450, 'max_depth': 11, 'learning_rate': 0.012708614176726042, 'subsample': 0.9454102637156581, 'colsample_bytree': 0.7722484627311647, 'gamma': 0.7349182456501944, 'reg_alpha': 4.594428292927528, 'reg_lambda': 6.456987704465487}. Best is trial 10 with value: 0.993428134418886.\n",
      "C:\\Users\\Administrator\\AppData\\Local\\Temp\\ipykernel_2420\\4092580619.py:31: FutureWarning: suggest_loguniform has been deprecated in v3.0.0. This feature will be removed in v6.0.0. See https://github.com/optuna/optuna/releases/tag/v3.0.0. Use suggest_float(..., log=True) instead.\n",
      "  'learning_rate': trial.suggest_loguniform('learning_rate', 0.01, 0.3),\n",
      "[I 2025-03-02 14:45:12,803] Trial 39 finished with value: 0.9883606060498575 and parameters: {'n_estimators': 350, 'max_depth': 7, 'learning_rate': 0.016414349404181062, 'subsample': 0.9120922922351, 'colsample_bytree': 0.8276027942561177, 'gamma': 4.295529698056512, 'reg_alpha': 3.9490251658240236, 'reg_lambda': 0.65937419894136}. Best is trial 10 with value: 0.993428134418886.\n",
      "C:\\Users\\Administrator\\AppData\\Local\\Temp\\ipykernel_2420\\4092580619.py:31: FutureWarning: suggest_loguniform has been deprecated in v3.0.0. This feature will be removed in v6.0.0. See https://github.com/optuna/optuna/releases/tag/v3.0.0. Use suggest_float(..., log=True) instead.\n",
      "  'learning_rate': trial.suggest_loguniform('learning_rate', 0.01, 0.3),\n",
      "[I 2025-03-02 14:45:13,364] Trial 40 finished with value: 0.9889015756447656 and parameters: {'n_estimators': 250, 'max_depth': 12, 'learning_rate': 0.06477276870470597, 'subsample': 0.9732960811442539, 'colsample_bytree': 0.6164600424108162, 'gamma': 1.416722084153152, 'reg_alpha': 7.379978707642305, 'reg_lambda': 7.646921070321693}. Best is trial 10 with value: 0.993428134418886.\n",
      "C:\\Users\\Administrator\\AppData\\Local\\Temp\\ipykernel_2420\\4092580619.py:31: FutureWarning: suggest_loguniform has been deprecated in v3.0.0. This feature will be removed in v6.0.0. See https://github.com/optuna/optuna/releases/tag/v3.0.0. Use suggest_float(..., log=True) instead.\n",
      "  'learning_rate': trial.suggest_loguniform('learning_rate', 0.01, 0.3),\n",
      "[I 2025-03-02 14:45:14,562] Trial 41 finished with value: 0.9918892161247765 and parameters: {'n_estimators': 300, 'max_depth': 9, 'learning_rate': 0.023809775378270438, 'subsample': 0.9988381535232371, 'colsample_bytree': 0.6004469620802965, 'gamma': 0.011293419255698822, 'reg_alpha': 0.2766797673256755, 'reg_lambda': 3.177303016183144}. Best is trial 10 with value: 0.993428134418886.\n",
      "C:\\Users\\Administrator\\AppData\\Local\\Temp\\ipykernel_2420\\4092580619.py:31: FutureWarning: suggest_loguniform has been deprecated in v3.0.0. This feature will be removed in v6.0.0. See https://github.com/optuna/optuna/releases/tag/v3.0.0. Use suggest_float(..., log=True) instead.\n",
      "  'learning_rate': trial.suggest_loguniform('learning_rate', 0.01, 0.3),\n",
      "[I 2025-03-02 14:45:15,610] Trial 42 finished with value: 0.9934371288167168 and parameters: {'n_estimators': 300, 'max_depth': 9, 'learning_rate': 0.028426456786201912, 'subsample': 0.9965940348934725, 'colsample_bytree': 0.6443609995566798, 'gamma': 0.7343284941498534, 'reg_alpha': 0.025067099804490678, 'reg_lambda': 1.840571448972307}. Best is trial 42 with value: 0.9934371288167168.\n",
      "C:\\Users\\Administrator\\AppData\\Local\\Temp\\ipykernel_2420\\4092580619.py:31: FutureWarning: suggest_loguniform has been deprecated in v3.0.0. This feature will be removed in v6.0.0. See https://github.com/optuna/optuna/releases/tag/v3.0.0. Use suggest_float(..., log=True) instead.\n",
      "  'learning_rate': trial.suggest_loguniform('learning_rate', 0.01, 0.3),\n",
      "[I 2025-03-02 14:45:16,527] Trial 43 finished with value: 0.9919281037136664 and parameters: {'n_estimators': 350, 'max_depth': 8, 'learning_rate': 0.030390050570381747, 'subsample': 0.9716399317833591, 'colsample_bytree': 0.6481277980927478, 'gamma': 0.5822546749645543, 'reg_alpha': 1.386873349392086, 'reg_lambda': 1.6099693202972127}. Best is trial 42 with value: 0.9934371288167168.\n",
      "C:\\Users\\Administrator\\AppData\\Local\\Temp\\ipykernel_2420\\4092580619.py:31: FutureWarning: suggest_loguniform has been deprecated in v3.0.0. This feature will be removed in v6.0.0. See https://github.com/optuna/optuna/releases/tag/v3.0.0. Use suggest_float(..., log=True) instead.\n",
      "  'learning_rate': trial.suggest_loguniform('learning_rate', 0.01, 0.3),\n",
      "[I 2025-03-02 14:45:17,569] Trial 44 finished with value: 0.9914107084674356 and parameters: {'n_estimators': 400, 'max_depth': 9, 'learning_rate': 0.01913077455755004, 'subsample': 0.9447181033612714, 'colsample_bytree': 0.6791231607185026, 'gamma': 1.7999979747096089, 'reg_alpha': 0.5466349296454578, 'reg_lambda': 1.0936716957068082}. Best is trial 42 with value: 0.9934371288167168.\n",
      "C:\\Users\\Administrator\\AppData\\Local\\Temp\\ipykernel_2420\\4092580619.py:31: FutureWarning: suggest_loguniform has been deprecated in v3.0.0. This feature will be removed in v6.0.0. See https://github.com/optuna/optuna/releases/tag/v3.0.0. Use suggest_float(..., log=True) instead.\n",
      "  'learning_rate': trial.suggest_loguniform('learning_rate', 0.01, 0.3),\n",
      "[I 2025-03-02 14:45:18,399] Trial 45 finished with value: 0.9914546206400243 and parameters: {'n_estimators': 250, 'max_depth': 10, 'learning_rate': 0.04162963249275923, 'subsample': 0.9262158361083843, 'colsample_bytree': 0.6222329963296112, 'gamma': 1.0826484297800643, 'reg_alpha': 0.032964737066412605, 'reg_lambda': 9.571245528848294}. Best is trial 42 with value: 0.9934371288167168.\n",
      "C:\\Users\\Administrator\\AppData\\Local\\Temp\\ipykernel_2420\\4092580619.py:31: FutureWarning: suggest_loguniform has been deprecated in v3.0.0. This feature will be removed in v6.0.0. See https://github.com/optuna/optuna/releases/tag/v3.0.0. Use suggest_float(..., log=True) instead.\n",
      "  'learning_rate': trial.suggest_loguniform('learning_rate', 0.01, 0.3),\n",
      "[I 2025-03-02 14:45:19,193] Trial 46 finished with value: 0.991410723687413 and parameters: {'n_estimators': 350, 'max_depth': 9, 'learning_rate': 0.04998979176006243, 'subsample': 0.874957427206915, 'colsample_bytree': 0.7357737978014609, 'gamma': 0.6695044801418724, 'reg_alpha': 0.9208951188831594, 'reg_lambda': 1.906449434536865}. Best is trial 42 with value: 0.9934371288167168.\n",
      "C:\\Users\\Administrator\\AppData\\Local\\Temp\\ipykernel_2420\\4092580619.py:31: FutureWarning: suggest_loguniform has been deprecated in v3.0.0. This feature will be removed in v6.0.0. See https://github.com/optuna/optuna/releases/tag/v3.0.0. Use suggest_float(..., log=True) instead.\n",
      "  'learning_rate': trial.suggest_loguniform('learning_rate', 0.01, 0.3),\n",
      "[I 2025-03-02 14:45:20,012] Trial 47 finished with value: 0.9894325977148458 and parameters: {'n_estimators': 450, 'max_depth': 8, 'learning_rate': 0.03607438081447135, 'subsample': 0.6893905863004341, 'colsample_bytree': 0.6608928240093652, 'gamma': 2.281671069093914, 'reg_alpha': 2.0116295627975838, 'reg_lambda': 3.6662043941680116}. Best is trial 42 with value: 0.9934371288167168.\n",
      "C:\\Users\\Administrator\\AppData\\Local\\Temp\\ipykernel_2420\\4092580619.py:31: FutureWarning: suggest_loguniform has been deprecated in v3.0.0. This feature will be removed in v6.0.0. See https://github.com/optuna/optuna/releases/tag/v3.0.0. Use suggest_float(..., log=True) instead.\n",
      "  'learning_rate': trial.suggest_loguniform('learning_rate', 0.01, 0.3),\n",
      "[I 2025-03-02 14:45:20,822] Trial 48 finished with value: 0.9919123370347019 and parameters: {'n_estimators': 200, 'max_depth': 10, 'learning_rate': 0.02431188075339403, 'subsample': 0.9791545453920435, 'colsample_bytree': 0.6442438797768932, 'gamma': 1.2548110101504544, 'reg_alpha': 0.40041862037251724, 'reg_lambda': 2.694557657253865}. Best is trial 42 with value: 0.9934371288167168.\n",
      "C:\\Users\\Administrator\\AppData\\Local\\Temp\\ipykernel_2420\\4092580619.py:31: FutureWarning: suggest_loguniform has been deprecated in v3.0.0. This feature will be removed in v6.0.0. See https://github.com/optuna/optuna/releases/tag/v3.0.0. Use suggest_float(..., log=True) instead.\n",
      "  'learning_rate': trial.suggest_loguniform('learning_rate', 0.01, 0.3),\n",
      "[I 2025-03-02 14:45:21,650] Trial 49 finished with value: 0.9889017190906565 and parameters: {'n_estimators': 300, 'max_depth': 5, 'learning_rate': 0.028905248872628606, 'subsample': 0.8403922458111213, 'colsample_bytree': 0.7530478308581281, 'gamma': 0.40661233068738506, 'reg_alpha': 6.148926998167213, 'reg_lambda': 2.3559157893529497}. Best is trial 42 with value: 0.9934371288167168.\n",
      "[I 2025-03-02 14:45:21,651] A new study created in memory with name: no-name-a33659bf-d12c-4e26-b65e-0b007d95fa81\n",
      "C:\\Users\\Administrator\\AppData\\Local\\Temp\\ipykernel_2420\\4092580619.py:47: FutureWarning: suggest_loguniform has been deprecated in v3.0.0. This feature will be removed in v6.0.0. See https://github.com/optuna/optuna/releases/tag/v3.0.0. Use suggest_float(..., log=True) instead.\n",
      "  'learning_rate': trial.suggest_loguniform('learning_rate', 0.01, 0.3),\n",
      "[I 2025-03-02 14:45:40,933] Trial 0 finished with value: 0.9849819994903329 and parameters: {'n_estimators': 200, 'learning_rate': 0.018358078656304084, 'max_depth': 9, 'subsample': 0.8023851880546775}. Best is trial 0 with value: 0.9849819994903329.\n",
      "C:\\Users\\Administrator\\AppData\\Local\\Temp\\ipykernel_2420\\4092580619.py:47: FutureWarning: suggest_loguniform has been deprecated in v3.0.0. This feature will be removed in v6.0.0. See https://github.com/optuna/optuna/releases/tag/v3.0.0. Use suggest_float(..., log=True) instead.\n",
      "  'learning_rate': trial.suggest_loguniform('learning_rate', 0.01, 0.3),\n",
      "[I 2025-03-02 14:45:57,164] Trial 1 finished with value: 0.9928215548598588 and parameters: {'n_estimators': 500, 'learning_rate': 0.01447433298984545, 'max_depth': 3, 'subsample': 0.8990100126615567}. Best is trial 1 with value: 0.9928215548598588.\n",
      "C:\\Users\\Administrator\\AppData\\Local\\Temp\\ipykernel_2420\\4092580619.py:47: FutureWarning: suggest_loguniform has been deprecated in v3.0.0. This feature will be removed in v6.0.0. See https://github.com/optuna/optuna/releases/tag/v3.0.0. Use suggest_float(..., log=True) instead.\n",
      "  'learning_rate': trial.suggest_loguniform('learning_rate', 0.01, 0.3),\n",
      "[I 2025-03-02 14:46:19,684] Trial 2 finished with value: 0.9767471778640855 and parameters: {'n_estimators': 500, 'learning_rate': 0.08830565474365115, 'max_depth': 11, 'subsample': 0.9874777775078543}. Best is trial 1 with value: 0.9928215548598588.\n",
      "C:\\Users\\Administrator\\AppData\\Local\\Temp\\ipykernel_2420\\4092580619.py:47: FutureWarning: suggest_loguniform has been deprecated in v3.0.0. This feature will be removed in v6.0.0. See https://github.com/optuna/optuna/releases/tag/v3.0.0. Use suggest_float(..., log=True) instead.\n",
      "  'learning_rate': trial.suggest_loguniform('learning_rate', 0.01, 0.3),\n",
      "[I 2025-03-02 14:46:34,195] Trial 3 finished with value: 0.9864446950797867 and parameters: {'n_estimators': 150, 'learning_rate': 0.038867860400295405, 'max_depth': 10, 'subsample': 0.7015877797551675}. Best is trial 1 with value: 0.9928215548598588.\n",
      "C:\\Users\\Administrator\\AppData\\Local\\Temp\\ipykernel_2420\\4092580619.py:47: FutureWarning: suggest_loguniform has been deprecated in v3.0.0. This feature will be removed in v6.0.0. See https://github.com/optuna/optuna/releases/tag/v3.0.0. Use suggest_float(..., log=True) instead.\n",
      "  'learning_rate': trial.suggest_loguniform('learning_rate', 0.01, 0.3),\n",
      "[I 2025-03-02 14:46:46,981] Trial 4 finished with value: 0.9922974068140653 and parameters: {'n_estimators': 250, 'learning_rate': 0.028732071048064155, 'max_depth': 5, 'subsample': 0.8619723522297843}. Best is trial 1 with value: 0.9928215548598588.\n",
      "C:\\Users\\Administrator\\AppData\\Local\\Temp\\ipykernel_2420\\4092580619.py:47: FutureWarning: suggest_loguniform has been deprecated in v3.0.0. This feature will be removed in v6.0.0. See https://github.com/optuna/optuna/releases/tag/v3.0.0. Use suggest_float(..., log=True) instead.\n",
      "  'learning_rate': trial.suggest_loguniform('learning_rate', 0.01, 0.3),\n",
      "[I 2025-03-02 14:47:07,872] Trial 5 finished with value: 0.9832948995326718 and parameters: {'n_estimators': 250, 'learning_rate': 0.010683342251911138, 'max_depth': 8, 'subsample': 0.8459317122445321}. Best is trial 1 with value: 0.9928215548598588.\n",
      "C:\\Users\\Administrator\\AppData\\Local\\Temp\\ipykernel_2420\\4092580619.py:47: FutureWarning: suggest_loguniform has been deprecated in v3.0.0. This feature will be removed in v6.0.0. See https://github.com/optuna/optuna/releases/tag/v3.0.0. Use suggest_float(..., log=True) instead.\n",
      "  'learning_rate': trial.suggest_loguniform('learning_rate', 0.01, 0.3),\n",
      "[I 2025-03-02 14:47:35,017] Trial 6 finished with value: 0.9888008456623884 and parameters: {'n_estimators': 300, 'learning_rate': 0.031344155956697255, 'max_depth': 9, 'subsample': 0.7484991067911531}. Best is trial 1 with value: 0.9928215548598588.\n",
      "C:\\Users\\Administrator\\AppData\\Local\\Temp\\ipykernel_2420\\4092580619.py:47: FutureWarning: suggest_loguniform has been deprecated in v3.0.0. This feature will be removed in v6.0.0. See https://github.com/optuna/optuna/releases/tag/v3.0.0. Use suggest_float(..., log=True) instead.\n",
      "  'learning_rate': trial.suggest_loguniform('learning_rate', 0.01, 0.3),\n",
      "[I 2025-03-02 14:47:47,662] Trial 7 finished with value: 0.9908033569730526 and parameters: {'n_estimators': 250, 'learning_rate': 0.16314779309627886, 'max_depth': 9, 'subsample': 0.8908629140699331}. Best is trial 1 with value: 0.9928215548598588.\n",
      "C:\\Users\\Administrator\\AppData\\Local\\Temp\\ipykernel_2420\\4092580619.py:47: FutureWarning: suggest_loguniform has been deprecated in v3.0.0. This feature will be removed in v6.0.0. See https://github.com/optuna/optuna/releases/tag/v3.0.0. Use suggest_float(..., log=True) instead.\n",
      "  'learning_rate': trial.suggest_loguniform('learning_rate', 0.01, 0.3),\n",
      "[I 2025-03-02 14:47:52,767] Trial 8 finished with value: 0.9928508405315286 and parameters: {'n_estimators': 100, 'learning_rate': 0.09091701541826698, 'max_depth': 5, 'subsample': 0.811315519408853}. Best is trial 8 with value: 0.9928508405315286.\n",
      "C:\\Users\\Administrator\\AppData\\Local\\Temp\\ipykernel_2420\\4092580619.py:47: FutureWarning: suggest_loguniform has been deprecated in v3.0.0. This feature will be removed in v6.0.0. See https://github.com/optuna/optuna/releases/tag/v3.0.0. Use suggest_float(..., log=True) instead.\n",
      "  'learning_rate': trial.suggest_loguniform('learning_rate', 0.01, 0.3),\n",
      "[I 2025-03-02 14:48:28,721] Trial 9 finished with value: 0.9839772008987439 and parameters: {'n_estimators': 350, 'learning_rate': 0.033324815650536105, 'max_depth': 9, 'subsample': 0.9470171077780893}. Best is trial 8 with value: 0.9928508405315286.\n",
      "C:\\Users\\Administrator\\AppData\\Local\\Temp\\ipykernel_2420\\4092580619.py:47: FutureWarning: suggest_loguniform has been deprecated in v3.0.0. This feature will be removed in v6.0.0. See https://github.com/optuna/optuna/releases/tag/v3.0.0. Use suggest_float(..., log=True) instead.\n",
      "  'learning_rate': trial.suggest_loguniform('learning_rate', 0.01, 0.3),\n",
      "[I 2025-03-02 14:48:33,859] Trial 10 finished with value: 0.9929483280196051 and parameters: {'n_estimators': 100, 'learning_rate': 0.24477857284662993, 'max_depth': 6, 'subsample': 0.630642108983354}. Best is trial 10 with value: 0.9929483280196051.\n",
      "C:\\Users\\Administrator\\AppData\\Local\\Temp\\ipykernel_2420\\4092580619.py:47: FutureWarning: suggest_loguniform has been deprecated in v3.0.0. This feature will be removed in v6.0.0. See https://github.com/optuna/optuna/releases/tag/v3.0.0. Use suggest_float(..., log=True) instead.\n",
      "  'learning_rate': trial.suggest_loguniform('learning_rate', 0.01, 0.3),\n",
      "[I 2025-03-02 14:48:38,768] Trial 11 finished with value: 0.9924646794781238 and parameters: {'n_estimators': 100, 'learning_rate': 0.27709215709083224, 'max_depth': 6, 'subsample': 0.6155197805621814}. Best is trial 10 with value: 0.9929483280196051.\n",
      "C:\\Users\\Administrator\\AppData\\Local\\Temp\\ipykernel_2420\\4092580619.py:47: FutureWarning: suggest_loguniform has been deprecated in v3.0.0. This feature will be removed in v6.0.0. See https://github.com/optuna/optuna/releases/tag/v3.0.0. Use suggest_float(..., log=True) instead.\n",
      "  'learning_rate': trial.suggest_loguniform('learning_rate', 0.01, 0.3),\n",
      "[I 2025-03-02 14:48:42,977] Trial 12 finished with value: 0.9913376969228334 and parameters: {'n_estimators': 100, 'learning_rate': 0.09599836068571015, 'max_depth': 5, 'subsample': 0.628267073967391}. Best is trial 10 with value: 0.9929483280196051.\n",
      "C:\\Users\\Administrator\\AppData\\Local\\Temp\\ipykernel_2420\\4092580619.py:47: FutureWarning: suggest_loguniform has been deprecated in v3.0.0. This feature will be removed in v6.0.0. See https://github.com/optuna/optuna/releases/tag/v3.0.0. Use suggest_float(..., log=True) instead.\n",
      "  'learning_rate': trial.suggest_loguniform('learning_rate', 0.01, 0.3),\n",
      "[I 2025-03-02 14:48:47,148] Trial 13 finished with value: 0.993491884216776 and parameters: {'n_estimators': 150, 'learning_rate': 0.2680019797906563, 'max_depth': 3, 'subsample': 0.7016675463466746}. Best is trial 13 with value: 0.993491884216776.\n",
      "C:\\Users\\Administrator\\AppData\\Local\\Temp\\ipykernel_2420\\4092580619.py:47: FutureWarning: suggest_loguniform has been deprecated in v3.0.0. This feature will be removed in v6.0.0. See https://github.com/optuna/optuna/releases/tag/v3.0.0. Use suggest_float(..., log=True) instead.\n",
      "  'learning_rate': trial.suggest_loguniform('learning_rate', 0.01, 0.3),\n",
      "[I 2025-03-02 14:48:55,788] Trial 14 finished with value: 0.9945202049769051 and parameters: {'n_estimators': 400, 'learning_rate': 0.2950418618833144, 'max_depth': 3, 'subsample': 0.6867691968022152}. Best is trial 14 with value: 0.9945202049769051.\n",
      "C:\\Users\\Administrator\\AppData\\Local\\Temp\\ipykernel_2420\\4092580619.py:47: FutureWarning: suggest_loguniform has been deprecated in v3.0.0. This feature will be removed in v6.0.0. See https://github.com/optuna/optuna/releases/tag/v3.0.0. Use suggest_float(..., log=True) instead.\n",
      "  'learning_rate': trial.suggest_loguniform('learning_rate', 0.01, 0.3),\n",
      "[I 2025-03-02 14:49:06,722] Trial 15 finished with value: 0.9935225259353399 and parameters: {'n_estimators': 400, 'learning_rate': 0.15419269832689952, 'max_depth': 3, 'subsample': 0.7000412406685811}. Best is trial 14 with value: 0.9945202049769051.\n",
      "C:\\Users\\Administrator\\AppData\\Local\\Temp\\ipykernel_2420\\4092580619.py:47: FutureWarning: suggest_loguniform has been deprecated in v3.0.0. This feature will be removed in v6.0.0. See https://github.com/optuna/optuna/releases/tag/v3.0.0. Use suggest_float(..., log=True) instead.\n",
      "  'learning_rate': trial.suggest_loguniform('learning_rate', 0.01, 0.3),\n",
      "[I 2025-03-02 14:49:17,546] Trial 16 finished with value: 0.9935180211264358 and parameters: {'n_estimators': 400, 'learning_rate': 0.15442791080275944, 'max_depth': 3, 'subsample': 0.696200662977973}. Best is trial 14 with value: 0.9945202049769051.\n",
      "C:\\Users\\Administrator\\AppData\\Local\\Temp\\ipykernel_2420\\4092580619.py:47: FutureWarning: suggest_loguniform has been deprecated in v3.0.0. This feature will be removed in v6.0.0. See https://github.com/optuna/optuna/releases/tag/v3.0.0. Use suggest_float(..., log=True) instead.\n",
      "  'learning_rate': trial.suggest_loguniform('learning_rate', 0.01, 0.3),\n",
      "[I 2025-03-02 14:49:30,381] Trial 17 finished with value: 0.9940286147704296 and parameters: {'n_estimators': 400, 'learning_rate': 0.1562819720059865, 'max_depth': 4, 'subsample': 0.7501843048342819}. Best is trial 14 with value: 0.9945202049769051.\n",
      "C:\\Users\\Administrator\\AppData\\Local\\Temp\\ipykernel_2420\\4092580619.py:47: FutureWarning: suggest_loguniform has been deprecated in v3.0.0. This feature will be removed in v6.0.0. See https://github.com/optuna/optuna/releases/tag/v3.0.0. Use suggest_float(..., log=True) instead.\n",
      "  'learning_rate': trial.suggest_loguniform('learning_rate', 0.01, 0.3),\n",
      "[I 2025-03-02 14:49:46,997] Trial 18 finished with value: 0.9939851831628046 and parameters: {'n_estimators': 450, 'learning_rate': 0.06070431823683321, 'max_depth': 4, 'subsample': 0.7544681958333735}. Best is trial 14 with value: 0.9945202049769051.\n",
      "C:\\Users\\Administrator\\AppData\\Local\\Temp\\ipykernel_2420\\4092580619.py:47: FutureWarning: suggest_loguniform has been deprecated in v3.0.0. This feature will be removed in v6.0.0. See https://github.com/optuna/optuna/releases/tag/v3.0.0. Use suggest_float(..., log=True) instead.\n",
      "  'learning_rate': trial.suggest_loguniform('learning_rate', 0.01, 0.3),\n",
      "[I 2025-03-02 14:49:57,781] Trial 19 finished with value: 0.9929631884994528 and parameters: {'n_estimators': 350, 'learning_rate': 0.18718874479491662, 'max_depth': 7, 'subsample': 0.7511704383766123}. Best is trial 14 with value: 0.9945202049769051.\n",
      "C:\\Users\\Administrator\\AppData\\Local\\Temp\\ipykernel_2420\\4092580619.py:47: FutureWarning: suggest_loguniform has been deprecated in v3.0.0. This feature will be removed in v6.0.0. See https://github.com/optuna/optuna/releases/tag/v3.0.0. Use suggest_float(..., log=True) instead.\n",
      "  'learning_rate': trial.suggest_loguniform('learning_rate', 0.01, 0.3),\n",
      "[I 2025-03-02 14:50:23,125] Trial 20 finished with value: 0.9899028322850087 and parameters: {'n_estimators': 450, 'learning_rate': 0.11280972800816028, 'max_depth': 12, 'subsample': 0.6736294851488459}. Best is trial 14 with value: 0.9945202049769051.\n",
      "C:\\Users\\Administrator\\AppData\\Local\\Temp\\ipykernel_2420\\4092580619.py:47: FutureWarning: suggest_loguniform has been deprecated in v3.0.0. This feature will be removed in v6.0.0. See https://github.com/optuna/optuna/releases/tag/v3.0.0. Use suggest_float(..., log=True) instead.\n",
      "  'learning_rate': trial.suggest_loguniform('learning_rate', 0.01, 0.3),\n",
      "[I 2025-03-02 14:50:39,959] Trial 21 finished with value: 0.9934641507057544 and parameters: {'n_estimators': 450, 'learning_rate': 0.06136853591213806, 'max_depth': 4, 'subsample': 0.7601970171893796}. Best is trial 14 with value: 0.9945202049769051.\n",
      "C:\\Users\\Administrator\\AppData\\Local\\Temp\\ipykernel_2420\\4092580619.py:47: FutureWarning: suggest_loguniform has been deprecated in v3.0.0. This feature will be removed in v6.0.0. See https://github.com/optuna/optuna/releases/tag/v3.0.0. Use suggest_float(..., log=True) instead.\n",
      "  'learning_rate': trial.suggest_loguniform('learning_rate', 0.01, 0.3),\n",
      "[I 2025-03-02 14:50:54,905] Trial 22 finished with value: 0.9934516131913167 and parameters: {'n_estimators': 400, 'learning_rate': 0.05939128679464744, 'max_depth': 4, 'subsample': 0.7779963248500628}. Best is trial 14 with value: 0.9945202049769051.\n",
      "C:\\Users\\Administrator\\AppData\\Local\\Temp\\ipykernel_2420\\4092580619.py:47: FutureWarning: suggest_loguniform has been deprecated in v3.0.0. This feature will be removed in v6.0.0. See https://github.com/optuna/optuna/releases/tag/v3.0.0. Use suggest_float(..., log=True) instead.\n",
      "  'learning_rate': trial.suggest_loguniform('learning_rate', 0.01, 0.3),\n",
      "[I 2025-03-02 14:51:05,535] Trial 23 finished with value: 0.9945292291017009 and parameters: {'n_estimators': 450, 'learning_rate': 0.1994963342146852, 'max_depth': 4, 'subsample': 0.7309293853791525}. Best is trial 23 with value: 0.9945292291017009.\n",
      "C:\\Users\\Administrator\\AppData\\Local\\Temp\\ipykernel_2420\\4092580619.py:47: FutureWarning: suggest_loguniform has been deprecated in v3.0.0. This feature will be removed in v6.0.0. See https://github.com/optuna/optuna/releases/tag/v3.0.0. Use suggest_float(..., log=True) instead.\n",
      "  'learning_rate': trial.suggest_loguniform('learning_rate', 0.01, 0.3),\n",
      "[I 2025-03-02 14:51:15,116] Trial 24 finished with value: 0.9934642198969144 and parameters: {'n_estimators': 400, 'learning_rate': 0.2218899496795361, 'max_depth': 6, 'subsample': 0.661251953384763}. Best is trial 23 with value: 0.9945292291017009.\n",
      "C:\\Users\\Administrator\\AppData\\Local\\Temp\\ipykernel_2420\\4092580619.py:47: FutureWarning: suggest_loguniform has been deprecated in v3.0.0. This feature will be removed in v6.0.0. See https://github.com/optuna/optuna/releases/tag/v3.0.0. Use suggest_float(..., log=True) instead.\n",
      "  'learning_rate': trial.suggest_loguniform('learning_rate', 0.01, 0.3),\n",
      "[I 2025-03-02 14:51:26,932] Trial 25 finished with value: 0.9940263625181773 and parameters: {'n_estimators': 350, 'learning_rate': 0.12958657782632643, 'max_depth': 4, 'subsample': 0.659064746003347}. Best is trial 23 with value: 0.9945292291017009.\n",
      "C:\\Users\\Administrator\\AppData\\Local\\Temp\\ipykernel_2420\\4092580619.py:47: FutureWarning: suggest_loguniform has been deprecated in v3.0.0. This feature will be removed in v6.0.0. See https://github.com/optuna/optuna/releases/tag/v3.0.0. Use suggest_float(..., log=True) instead.\n",
      "  'learning_rate': trial.suggest_loguniform('learning_rate', 0.01, 0.3),\n",
      "[I 2025-03-02 14:51:35,634] Trial 26 finished with value: 0.9929631894126514 and parameters: {'n_estimators': 500, 'learning_rate': 0.2997552992315611, 'max_depth': 7, 'subsample': 0.7307814911456852}. Best is trial 23 with value: 0.9945292291017009.\n",
      "C:\\Users\\Administrator\\AppData\\Local\\Temp\\ipykernel_2420\\4092580619.py:47: FutureWarning: suggest_loguniform has been deprecated in v3.0.0. This feature will be removed in v6.0.0. See https://github.com/optuna/optuna/releases/tag/v3.0.0. Use suggest_float(..., log=True) instead.\n",
      "  'learning_rate': trial.suggest_loguniform('learning_rate', 0.01, 0.3),\n",
      "[I 2025-03-02 14:51:46,282] Trial 27 finished with value: 0.9929431883530628 and parameters: {'n_estimators': 450, 'learning_rate': 0.19458305709661675, 'max_depth': 5, 'subsample': 0.829973715434101}. Best is trial 23 with value: 0.9945292291017009.\n",
      "C:\\Users\\Administrator\\AppData\\Local\\Temp\\ipykernel_2420\\4092580619.py:47: FutureWarning: suggest_loguniform has been deprecated in v3.0.0. This feature will be removed in v6.0.0. See https://github.com/optuna/optuna/releases/tag/v3.0.0. Use suggest_float(..., log=True) instead.\n",
      "  'learning_rate': trial.suggest_loguniform('learning_rate', 0.01, 0.3),\n",
      "[I 2025-03-02 14:51:57,102] Trial 28 finished with value: 0.9929992266662857 and parameters: {'n_estimators': 300, 'learning_rate': 0.128483741855447, 'max_depth': 4, 'subsample': 0.7240922938877368}. Best is trial 23 with value: 0.9945292291017009.\n",
      "C:\\Users\\Administrator\\AppData\\Local\\Temp\\ipykernel_2420\\4092580619.py:47: FutureWarning: suggest_loguniform has been deprecated in v3.0.0. This feature will be removed in v6.0.0. See https://github.com/optuna/optuna/releases/tag/v3.0.0. Use suggest_float(..., log=True) instead.\n",
      "  'learning_rate': trial.suggest_loguniform('learning_rate', 0.01, 0.3),\n",
      "[I 2025-03-02 14:52:07,351] Trial 29 finished with value: 0.9945517522330225 and parameters: {'n_estimators': 350, 'learning_rate': 0.2065890074193127, 'max_depth': 3, 'subsample': 0.7982664863034084}. Best is trial 29 with value: 0.9945517522330225.\n",
      "C:\\Users\\Administrator\\AppData\\Local\\Temp\\ipykernel_2420\\4092580619.py:47: FutureWarning: suggest_loguniform has been deprecated in v3.0.0. This feature will be removed in v6.0.0. See https://github.com/optuna/optuna/releases/tag/v3.0.0. Use suggest_float(..., log=True) instead.\n",
      "  'learning_rate': trial.suggest_loguniform('learning_rate', 0.01, 0.3),\n",
      "[I 2025-03-02 14:52:17,630] Trial 30 finished with value: 0.9945404903629621 and parameters: {'n_estimators': 350, 'learning_rate': 0.19698820301193584, 'max_depth': 3, 'subsample': 0.7925828393249502}. Best is trial 29 with value: 0.9945517522330225.\n",
      "C:\\Users\\Administrator\\AppData\\Local\\Temp\\ipykernel_2420\\4092580619.py:47: FutureWarning: suggest_loguniform has been deprecated in v3.0.0. This feature will be removed in v6.0.0. See https://github.com/optuna/optuna/releases/tag/v3.0.0. Use suggest_float(..., log=True) instead.\n",
      "  'learning_rate': trial.suggest_loguniform('learning_rate', 0.01, 0.3),\n",
      "[I 2025-03-02 14:52:27,921] Trial 31 finished with value: 0.9940241934080378 and parameters: {'n_estimators': 350, 'learning_rate': 0.20731527907378317, 'max_depth': 3, 'subsample': 0.7808821250048269}. Best is trial 29 with value: 0.9945517522330225.\n",
      "C:\\Users\\Administrator\\AppData\\Local\\Temp\\ipykernel_2420\\4092580619.py:47: FutureWarning: suggest_loguniform has been deprecated in v3.0.0. This feature will be removed in v6.0.0. See https://github.com/optuna/optuna/releases/tag/v3.0.0. Use suggest_float(..., log=True) instead.\n",
      "  'learning_rate': trial.suggest_loguniform('learning_rate', 0.01, 0.3),\n",
      "[I 2025-03-02 14:52:36,871] Trial 32 finished with value: 0.9940354549736986 and parameters: {'n_estimators': 300, 'learning_rate': 0.2177462173059575, 'max_depth': 3, 'subsample': 0.8015370232072206}. Best is trial 29 with value: 0.9945517522330225.\n",
      "C:\\Users\\Administrator\\AppData\\Local\\Temp\\ipykernel_2420\\4092580619.py:47: FutureWarning: suggest_loguniform has been deprecated in v3.0.0. This feature will be removed in v6.0.0. See https://github.com/optuna/optuna/releases/tag/v3.0.0. Use suggest_float(..., log=True) instead.\n",
      "  'learning_rate': trial.suggest_loguniform('learning_rate', 0.01, 0.3),\n",
      "[I 2025-03-02 14:52:47,380] Trial 33 finished with value: 0.9935089268445174 and parameters: {'n_estimators': 350, 'learning_rate': 0.07649574895465851, 'max_depth': 3, 'subsample': 0.8225619824500094}. Best is trial 29 with value: 0.9945517522330225.\n",
      "C:\\Users\\Administrator\\AppData\\Local\\Temp\\ipykernel_2420\\4092580619.py:47: FutureWarning: suggest_loguniform has been deprecated in v3.0.0. This feature will be removed in v6.0.0. See https://github.com/optuna/optuna/releases/tag/v3.0.0. Use suggest_float(..., log=True) instead.\n",
      "  'learning_rate': trial.suggest_loguniform('learning_rate', 0.01, 0.3),\n",
      "[I 2025-03-02 14:52:56,782] Trial 34 finished with value: 0.9940264459646896 and parameters: {'n_estimators': 500, 'learning_rate': 0.29912947378607113, 'max_depth': 3, 'subsample': 0.7838430663776575}. Best is trial 29 with value: 0.9945517522330225.\n",
      "C:\\Users\\Administrator\\AppData\\Local\\Temp\\ipykernel_2420\\4092580619.py:47: FutureWarning: suggest_loguniform has been deprecated in v3.0.0. This feature will be removed in v6.0.0. See https://github.com/optuna/optuna/releases/tag/v3.0.0. Use suggest_float(..., log=True) instead.\n",
      "  'learning_rate': trial.suggest_loguniform('learning_rate', 0.01, 0.3),\n",
      "[I 2025-03-02 14:53:12,675] Trial 35 finished with value: 0.9939748972918199 and parameters: {'n_estimators': 450, 'learning_rate': 0.11729910840325004, 'max_depth': 5, 'subsample': 0.8879190221414459}. Best is trial 29 with value: 0.9945517522330225.\n",
      "C:\\Users\\Administrator\\AppData\\Local\\Temp\\ipykernel_2420\\4092580619.py:47: FutureWarning: suggest_loguniform has been deprecated in v3.0.0. This feature will be removed in v6.0.0. See https://github.com/optuna/optuna/releases/tag/v3.0.0. Use suggest_float(..., log=True) instead.\n",
      "  'learning_rate': trial.suggest_loguniform('learning_rate', 0.01, 0.3),\n",
      "[I 2025-03-02 14:53:28,909] Trial 36 finished with value: 0.9918571877494123 and parameters: {'n_estimators': 400, 'learning_rate': 0.01927992348842278, 'max_depth': 4, 'subsample': 0.8634318503880535}. Best is trial 29 with value: 0.9945517522330225.\n",
      "C:\\Users\\Administrator\\AppData\\Local\\Temp\\ipykernel_2420\\4092580619.py:47: FutureWarning: suggest_loguniform has been deprecated in v3.0.0. This feature will be removed in v6.0.0. See https://github.com/optuna/optuna/releases/tag/v3.0.0. Use suggest_float(..., log=True) instead.\n",
      "  'learning_rate': trial.suggest_loguniform('learning_rate', 0.01, 0.3),\n",
      "[I 2025-03-02 14:53:38,417] Trial 37 finished with value: 0.9945314662381662 and parameters: {'n_estimators': 350, 'learning_rate': 0.24253008797296474, 'max_depth': 3, 'subsample': 0.7253303151546917}. Best is trial 29 with value: 0.9945517522330225.\n",
      "C:\\Users\\Administrator\\AppData\\Local\\Temp\\ipykernel_2420\\4092580619.py:47: FutureWarning: suggest_loguniform has been deprecated in v3.0.0. This feature will be removed in v6.0.0. See https://github.com/optuna/optuna/releases/tag/v3.0.0. Use suggest_float(..., log=True) instead.\n",
      "  'learning_rate': trial.suggest_loguniform('learning_rate', 0.01, 0.3),\n",
      "[I 2025-03-02 14:53:47,401] Trial 38 finished with value: 0.9945359858584577 and parameters: {'n_estimators': 250, 'learning_rate': 0.18198154818712198, 'max_depth': 4, 'subsample': 0.7190378446268615}. Best is trial 29 with value: 0.9945517522330225.\n",
      "C:\\Users\\Administrator\\AppData\\Local\\Temp\\ipykernel_2420\\4092580619.py:47: FutureWarning: suggest_loguniform has been deprecated in v3.0.0. This feature will be removed in v6.0.0. See https://github.com/optuna/optuna/releases/tag/v3.0.0. Use suggest_float(..., log=True) instead.\n",
      "  'learning_rate': trial.suggest_loguniform('learning_rate', 0.01, 0.3),\n",
      "[I 2025-03-02 14:54:13,946] Trial 39 finished with value: 0.9882380977610115 and parameters: {'n_estimators': 250, 'learning_rate': 0.04339756105515854, 'max_depth': 10, 'subsample': 0.7933238252021344}. Best is trial 29 with value: 0.9945517522330225.\n",
      "C:\\Users\\Administrator\\AppData\\Local\\Temp\\ipykernel_2420\\4092580619.py:47: FutureWarning: suggest_loguniform has been deprecated in v3.0.0. This feature will be removed in v6.0.0. See https://github.com/optuna/optuna/releases/tag/v3.0.0. Use suggest_float(..., log=True) instead.\n",
      "  'learning_rate': trial.suggest_loguniform('learning_rate', 0.01, 0.3),\n",
      "[I 2025-03-02 14:54:24,731] Trial 40 finished with value: 0.9939591315260541 and parameters: {'n_estimators': 200, 'learning_rate': 0.16512741892101634, 'max_depth': 5, 'subsample': 0.9196651841016236}. Best is trial 29 with value: 0.9945517522330225.\n",
      "C:\\Users\\Administrator\\AppData\\Local\\Temp\\ipykernel_2420\\4092580619.py:47: FutureWarning: suggest_loguniform has been deprecated in v3.0.0. This feature will be removed in v6.0.0. See https://github.com/optuna/optuna/releases/tag/v3.0.0. Use suggest_float(..., log=True) instead.\n",
      "  'learning_rate': trial.suggest_loguniform('learning_rate', 0.01, 0.3),\n",
      "[I 2025-03-02 14:54:33,614] Trial 41 finished with value: 0.9940129327555756 and parameters: {'n_estimators': 300, 'learning_rate': 0.23800971852893274, 'max_depth': 4, 'subsample': 0.7236551676331598}. Best is trial 29 with value: 0.9945517522330225.\n",
      "C:\\Users\\Administrator\\AppData\\Local\\Temp\\ipykernel_2420\\4092580619.py:47: FutureWarning: suggest_loguniform has been deprecated in v3.0.0. This feature will be removed in v6.0.0. See https://github.com/optuna/optuna/releases/tag/v3.0.0. Use suggest_float(..., log=True) instead.\n",
      "  'learning_rate': trial.suggest_loguniform('learning_rate', 0.01, 0.3),\n",
      "[I 2025-03-02 14:54:39,343] Trial 42 finished with value: 0.9934952195903932 and parameters: {'n_estimators': 200, 'learning_rate': 0.18583990732385883, 'max_depth': 3, 'subsample': 0.7218953065668909}. Best is trial 29 with value: 0.9945517522330225.\n",
      "C:\\Users\\Administrator\\AppData\\Local\\Temp\\ipykernel_2420\\4092580619.py:47: FutureWarning: suggest_loguniform has been deprecated in v3.0.0. This feature will be removed in v6.0.0. See https://github.com/optuna/optuna/releases/tag/v3.0.0. Use suggest_float(..., log=True) instead.\n",
      "  'learning_rate': trial.suggest_loguniform('learning_rate', 0.01, 0.3),\n",
      "[I 2025-03-02 14:54:48,398] Trial 43 finished with value: 0.9944958608621097 and parameters: {'n_estimators': 250, 'learning_rate': 0.23620946866670858, 'max_depth': 4, 'subsample': 0.847023002201338}. Best is trial 29 with value: 0.9945517522330225.\n",
      "C:\\Users\\Administrator\\AppData\\Local\\Temp\\ipykernel_2420\\4092580619.py:47: FutureWarning: suggest_loguniform has been deprecated in v3.0.0. This feature will be removed in v6.0.0. See https://github.com/optuna/optuna/releases/tag/v3.0.0. Use suggest_float(..., log=True) instead.\n",
      "  'learning_rate': trial.suggest_loguniform('learning_rate', 0.01, 0.3),\n",
      "[I 2025-03-02 14:55:00,565] Trial 44 finished with value: 0.9939658873696122 and parameters: {'n_estimators': 250, 'learning_rate': 0.13158231982379018, 'max_depth': 5, 'subsample': 0.7692279293655138}. Best is trial 29 with value: 0.9945517522330225.\n",
      "C:\\Users\\Administrator\\AppData\\Local\\Temp\\ipykernel_2420\\4092580619.py:47: FutureWarning: suggest_loguniform has been deprecated in v3.0.0. This feature will be removed in v6.0.0. See https://github.com/optuna/optuna/releases/tag/v3.0.0. Use suggest_float(..., log=True) instead.\n",
      "  'learning_rate': trial.suggest_loguniform('learning_rate', 0.01, 0.3),\n",
      "[I 2025-03-02 14:55:17,420] Trial 45 finished with value: 0.9904918552464296 and parameters: {'n_estimators': 300, 'learning_rate': 0.09984622690665386, 'max_depth': 6, 'subsample': 0.9892997817741034}. Best is trial 29 with value: 0.9945517522330225.\n",
      "C:\\Users\\Administrator\\AppData\\Local\\Temp\\ipykernel_2420\\4092580619.py:47: FutureWarning: suggest_loguniform has been deprecated in v3.0.0. This feature will be removed in v6.0.0. See https://github.com/optuna/optuna/releases/tag/v3.0.0. Use suggest_float(..., log=True) instead.\n",
      "  'learning_rate': trial.suggest_loguniform('learning_rate', 0.01, 0.3),\n",
      "[I 2025-03-02 14:55:42,121] Trial 46 finished with value: 0.9914171256610631 and parameters: {'n_estimators': 350, 'learning_rate': 0.07818521362533651, 'max_depth': 8, 'subsample': 0.8142172388174476}. Best is trial 29 with value: 0.9945517522330225.\n",
      "C:\\Users\\Administrator\\AppData\\Local\\Temp\\ipykernel_2420\\4092580619.py:47: FutureWarning: suggest_loguniform has been deprecated in v3.0.0. This feature will be removed in v6.0.0. See https://github.com/optuna/optuna/releases/tag/v3.0.0. Use suggest_float(..., log=True) instead.\n",
      "  'learning_rate': trial.suggest_loguniform('learning_rate', 0.01, 0.3),\n",
      "[I 2025-03-02 14:55:50,632] Trial 47 finished with value: 0.9940219414601852 and parameters: {'n_estimators': 300, 'learning_rate': 0.17641510511110337, 'max_depth': 3, 'subsample': 0.7375859412489925}. Best is trial 29 with value: 0.9945517522330225.\n",
      "C:\\Users\\Administrator\\AppData\\Local\\Temp\\ipykernel_2420\\4092580619.py:47: FutureWarning: suggest_loguniform has been deprecated in v3.0.0. This feature will be removed in v6.0.0. See https://github.com/optuna/optuna/releases/tag/v3.0.0. Use suggest_float(..., log=True) instead.\n",
      "  'learning_rate': trial.suggest_loguniform('learning_rate', 0.01, 0.3),\n",
      "[I 2025-03-02 14:55:56,241] Trial 48 finished with value: 0.9930126706842397 and parameters: {'n_estimators': 150, 'learning_rate': 0.2537402172196752, 'max_depth': 4, 'subsample': 0.7150290583718211}. Best is trial 29 with value: 0.9945517522330225.\n",
      "C:\\Users\\Administrator\\AppData\\Local\\Temp\\ipykernel_2420\\4092580619.py:47: FutureWarning: suggest_loguniform has been deprecated in v3.0.0. This feature will be removed in v6.0.0. See https://github.com/optuna/optuna/releases/tag/v3.0.0. Use suggest_float(..., log=True) instead.\n",
      "  'learning_rate': trial.suggest_loguniform('learning_rate', 0.01, 0.3),\n",
      "[I 2025-03-02 14:56:01,824] Trial 49 finished with value: 0.9911584778436267 and parameters: {'n_estimators': 200, 'learning_rate': 0.02114950523072203, 'max_depth': 3, 'subsample': 0.6835324847758024}. Best is trial 29 with value: 0.9945517522330225.\n"
     ]
    },
    {
     "data": {
      "text/html": [
       "<style>#sk-container-id-1 {\n",
       "  /* Definition of color scheme common for light and dark mode */\n",
       "  --sklearn-color-text: #000;\n",
       "  --sklearn-color-text-muted: #666;\n",
       "  --sklearn-color-line: gray;\n",
       "  /* Definition of color scheme for unfitted estimators */\n",
       "  --sklearn-color-unfitted-level-0: #fff5e6;\n",
       "  --sklearn-color-unfitted-level-1: #f6e4d2;\n",
       "  --sklearn-color-unfitted-level-2: #ffe0b3;\n",
       "  --sklearn-color-unfitted-level-3: chocolate;\n",
       "  /* Definition of color scheme for fitted estimators */\n",
       "  --sklearn-color-fitted-level-0: #f0f8ff;\n",
       "  --sklearn-color-fitted-level-1: #d4ebff;\n",
       "  --sklearn-color-fitted-level-2: #b3dbfd;\n",
       "  --sklearn-color-fitted-level-3: cornflowerblue;\n",
       "\n",
       "  /* Specific color for light theme */\n",
       "  --sklearn-color-text-on-default-background: var(--sg-text-color, var(--theme-code-foreground, var(--jp-content-font-color1, black)));\n",
       "  --sklearn-color-background: var(--sg-background-color, var(--theme-background, var(--jp-layout-color0, white)));\n",
       "  --sklearn-color-border-box: var(--sg-text-color, var(--theme-code-foreground, var(--jp-content-font-color1, black)));\n",
       "  --sklearn-color-icon: #696969;\n",
       "\n",
       "  @media (prefers-color-scheme: dark) {\n",
       "    /* Redefinition of color scheme for dark theme */\n",
       "    --sklearn-color-text-on-default-background: var(--sg-text-color, var(--theme-code-foreground, var(--jp-content-font-color1, white)));\n",
       "    --sklearn-color-background: var(--sg-background-color, var(--theme-background, var(--jp-layout-color0, #111)));\n",
       "    --sklearn-color-border-box: var(--sg-text-color, var(--theme-code-foreground, var(--jp-content-font-color1, white)));\n",
       "    --sklearn-color-icon: #878787;\n",
       "  }\n",
       "}\n",
       "\n",
       "#sk-container-id-1 {\n",
       "  color: var(--sklearn-color-text);\n",
       "}\n",
       "\n",
       "#sk-container-id-1 pre {\n",
       "  padding: 0;\n",
       "}\n",
       "\n",
       "#sk-container-id-1 input.sk-hidden--visually {\n",
       "  border: 0;\n",
       "  clip: rect(1px 1px 1px 1px);\n",
       "  clip: rect(1px, 1px, 1px, 1px);\n",
       "  height: 1px;\n",
       "  margin: -1px;\n",
       "  overflow: hidden;\n",
       "  padding: 0;\n",
       "  position: absolute;\n",
       "  width: 1px;\n",
       "}\n",
       "\n",
       "#sk-container-id-1 div.sk-dashed-wrapped {\n",
       "  border: 1px dashed var(--sklearn-color-line);\n",
       "  margin: 0 0.4em 0.5em 0.4em;\n",
       "  box-sizing: border-box;\n",
       "  padding-bottom: 0.4em;\n",
       "  background-color: var(--sklearn-color-background);\n",
       "}\n",
       "\n",
       "#sk-container-id-1 div.sk-container {\n",
       "  /* jupyter's `normalize.less` sets `[hidden] { display: none; }`\n",
       "     but bootstrap.min.css set `[hidden] { display: none !important; }`\n",
       "     so we also need the `!important` here to be able to override the\n",
       "     default hidden behavior on the sphinx rendered scikit-learn.org.\n",
       "     See: https://github.com/scikit-learn/scikit-learn/issues/21755 */\n",
       "  display: inline-block !important;\n",
       "  position: relative;\n",
       "}\n",
       "\n",
       "#sk-container-id-1 div.sk-text-repr-fallback {\n",
       "  display: none;\n",
       "}\n",
       "\n",
       "div.sk-parallel-item,\n",
       "div.sk-serial,\n",
       "div.sk-item {\n",
       "  /* draw centered vertical line to link estimators */\n",
       "  background-image: linear-gradient(var(--sklearn-color-text-on-default-background), var(--sklearn-color-text-on-default-background));\n",
       "  background-size: 2px 100%;\n",
       "  background-repeat: no-repeat;\n",
       "  background-position: center center;\n",
       "}\n",
       "\n",
       "/* Parallel-specific style estimator block */\n",
       "\n",
       "#sk-container-id-1 div.sk-parallel-item::after {\n",
       "  content: \"\";\n",
       "  width: 100%;\n",
       "  border-bottom: 2px solid var(--sklearn-color-text-on-default-background);\n",
       "  flex-grow: 1;\n",
       "}\n",
       "\n",
       "#sk-container-id-1 div.sk-parallel {\n",
       "  display: flex;\n",
       "  align-items: stretch;\n",
       "  justify-content: center;\n",
       "  background-color: var(--sklearn-color-background);\n",
       "  position: relative;\n",
       "}\n",
       "\n",
       "#sk-container-id-1 div.sk-parallel-item {\n",
       "  display: flex;\n",
       "  flex-direction: column;\n",
       "}\n",
       "\n",
       "#sk-container-id-1 div.sk-parallel-item:first-child::after {\n",
       "  align-self: flex-end;\n",
       "  width: 50%;\n",
       "}\n",
       "\n",
       "#sk-container-id-1 div.sk-parallel-item:last-child::after {\n",
       "  align-self: flex-start;\n",
       "  width: 50%;\n",
       "}\n",
       "\n",
       "#sk-container-id-1 div.sk-parallel-item:only-child::after {\n",
       "  width: 0;\n",
       "}\n",
       "\n",
       "/* Serial-specific style estimator block */\n",
       "\n",
       "#sk-container-id-1 div.sk-serial {\n",
       "  display: flex;\n",
       "  flex-direction: column;\n",
       "  align-items: center;\n",
       "  background-color: var(--sklearn-color-background);\n",
       "  padding-right: 1em;\n",
       "  padding-left: 1em;\n",
       "}\n",
       "\n",
       "\n",
       "/* Toggleable style: style used for estimator/Pipeline/ColumnTransformer box that is\n",
       "clickable and can be expanded/collapsed.\n",
       "- Pipeline and ColumnTransformer use this feature and define the default style\n",
       "- Estimators will overwrite some part of the style using the `sk-estimator` class\n",
       "*/\n",
       "\n",
       "/* Pipeline and ColumnTransformer style (default) */\n",
       "\n",
       "#sk-container-id-1 div.sk-toggleable {\n",
       "  /* Default theme specific background. It is overwritten whether we have a\n",
       "  specific estimator or a Pipeline/ColumnTransformer */\n",
       "  background-color: var(--sklearn-color-background);\n",
       "}\n",
       "\n",
       "/* Toggleable label */\n",
       "#sk-container-id-1 label.sk-toggleable__label {\n",
       "  cursor: pointer;\n",
       "  display: flex;\n",
       "  width: 100%;\n",
       "  margin-bottom: 0;\n",
       "  padding: 0.5em;\n",
       "  box-sizing: border-box;\n",
       "  text-align: center;\n",
       "  align-items: start;\n",
       "  justify-content: space-between;\n",
       "  gap: 0.5em;\n",
       "}\n",
       "\n",
       "#sk-container-id-1 label.sk-toggleable__label .caption {\n",
       "  font-size: 0.6rem;\n",
       "  font-weight: lighter;\n",
       "  color: var(--sklearn-color-text-muted);\n",
       "}\n",
       "\n",
       "#sk-container-id-1 label.sk-toggleable__label-arrow:before {\n",
       "  /* Arrow on the left of the label */\n",
       "  content: \"▸\";\n",
       "  float: left;\n",
       "  margin-right: 0.25em;\n",
       "  color: var(--sklearn-color-icon);\n",
       "}\n",
       "\n",
       "#sk-container-id-1 label.sk-toggleable__label-arrow:hover:before {\n",
       "  color: var(--sklearn-color-text);\n",
       "}\n",
       "\n",
       "/* Toggleable content - dropdown */\n",
       "\n",
       "#sk-container-id-1 div.sk-toggleable__content {\n",
       "  max-height: 0;\n",
       "  max-width: 0;\n",
       "  overflow: hidden;\n",
       "  text-align: left;\n",
       "  /* unfitted */\n",
       "  background-color: var(--sklearn-color-unfitted-level-0);\n",
       "}\n",
       "\n",
       "#sk-container-id-1 div.sk-toggleable__content.fitted {\n",
       "  /* fitted */\n",
       "  background-color: var(--sklearn-color-fitted-level-0);\n",
       "}\n",
       "\n",
       "#sk-container-id-1 div.sk-toggleable__content pre {\n",
       "  margin: 0.2em;\n",
       "  border-radius: 0.25em;\n",
       "  color: var(--sklearn-color-text);\n",
       "  /* unfitted */\n",
       "  background-color: var(--sklearn-color-unfitted-level-0);\n",
       "}\n",
       "\n",
       "#sk-container-id-1 div.sk-toggleable__content.fitted pre {\n",
       "  /* unfitted */\n",
       "  background-color: var(--sklearn-color-fitted-level-0);\n",
       "}\n",
       "\n",
       "#sk-container-id-1 input.sk-toggleable__control:checked~div.sk-toggleable__content {\n",
       "  /* Expand drop-down */\n",
       "  max-height: 200px;\n",
       "  max-width: 100%;\n",
       "  overflow: auto;\n",
       "}\n",
       "\n",
       "#sk-container-id-1 input.sk-toggleable__control:checked~label.sk-toggleable__label-arrow:before {\n",
       "  content: \"▾\";\n",
       "}\n",
       "\n",
       "/* Pipeline/ColumnTransformer-specific style */\n",
       "\n",
       "#sk-container-id-1 div.sk-label input.sk-toggleable__control:checked~label.sk-toggleable__label {\n",
       "  color: var(--sklearn-color-text);\n",
       "  background-color: var(--sklearn-color-unfitted-level-2);\n",
       "}\n",
       "\n",
       "#sk-container-id-1 div.sk-label.fitted input.sk-toggleable__control:checked~label.sk-toggleable__label {\n",
       "  background-color: var(--sklearn-color-fitted-level-2);\n",
       "}\n",
       "\n",
       "/* Estimator-specific style */\n",
       "\n",
       "/* Colorize estimator box */\n",
       "#sk-container-id-1 div.sk-estimator input.sk-toggleable__control:checked~label.sk-toggleable__label {\n",
       "  /* unfitted */\n",
       "  background-color: var(--sklearn-color-unfitted-level-2);\n",
       "}\n",
       "\n",
       "#sk-container-id-1 div.sk-estimator.fitted input.sk-toggleable__control:checked~label.sk-toggleable__label {\n",
       "  /* fitted */\n",
       "  background-color: var(--sklearn-color-fitted-level-2);\n",
       "}\n",
       "\n",
       "#sk-container-id-1 div.sk-label label.sk-toggleable__label,\n",
       "#sk-container-id-1 div.sk-label label {\n",
       "  /* The background is the default theme color */\n",
       "  color: var(--sklearn-color-text-on-default-background);\n",
       "}\n",
       "\n",
       "/* On hover, darken the color of the background */\n",
       "#sk-container-id-1 div.sk-label:hover label.sk-toggleable__label {\n",
       "  color: var(--sklearn-color-text);\n",
       "  background-color: var(--sklearn-color-unfitted-level-2);\n",
       "}\n",
       "\n",
       "/* Label box, darken color on hover, fitted */\n",
       "#sk-container-id-1 div.sk-label.fitted:hover label.sk-toggleable__label.fitted {\n",
       "  color: var(--sklearn-color-text);\n",
       "  background-color: var(--sklearn-color-fitted-level-2);\n",
       "}\n",
       "\n",
       "/* Estimator label */\n",
       "\n",
       "#sk-container-id-1 div.sk-label label {\n",
       "  font-family: monospace;\n",
       "  font-weight: bold;\n",
       "  display: inline-block;\n",
       "  line-height: 1.2em;\n",
       "}\n",
       "\n",
       "#sk-container-id-1 div.sk-label-container {\n",
       "  text-align: center;\n",
       "}\n",
       "\n",
       "/* Estimator-specific */\n",
       "#sk-container-id-1 div.sk-estimator {\n",
       "  font-family: monospace;\n",
       "  border: 1px dotted var(--sklearn-color-border-box);\n",
       "  border-radius: 0.25em;\n",
       "  box-sizing: border-box;\n",
       "  margin-bottom: 0.5em;\n",
       "  /* unfitted */\n",
       "  background-color: var(--sklearn-color-unfitted-level-0);\n",
       "}\n",
       "\n",
       "#sk-container-id-1 div.sk-estimator.fitted {\n",
       "  /* fitted */\n",
       "  background-color: var(--sklearn-color-fitted-level-0);\n",
       "}\n",
       "\n",
       "/* on hover */\n",
       "#sk-container-id-1 div.sk-estimator:hover {\n",
       "  /* unfitted */\n",
       "  background-color: var(--sklearn-color-unfitted-level-2);\n",
       "}\n",
       "\n",
       "#sk-container-id-1 div.sk-estimator.fitted:hover {\n",
       "  /* fitted */\n",
       "  background-color: var(--sklearn-color-fitted-level-2);\n",
       "}\n",
       "\n",
       "/* Specification for estimator info (e.g. \"i\" and \"?\") */\n",
       "\n",
       "/* Common style for \"i\" and \"?\" */\n",
       "\n",
       ".sk-estimator-doc-link,\n",
       "a:link.sk-estimator-doc-link,\n",
       "a:visited.sk-estimator-doc-link {\n",
       "  float: right;\n",
       "  font-size: smaller;\n",
       "  line-height: 1em;\n",
       "  font-family: monospace;\n",
       "  background-color: var(--sklearn-color-background);\n",
       "  border-radius: 1em;\n",
       "  height: 1em;\n",
       "  width: 1em;\n",
       "  text-decoration: none !important;\n",
       "  margin-left: 0.5em;\n",
       "  text-align: center;\n",
       "  /* unfitted */\n",
       "  border: var(--sklearn-color-unfitted-level-1) 1pt solid;\n",
       "  color: var(--sklearn-color-unfitted-level-1);\n",
       "}\n",
       "\n",
       ".sk-estimator-doc-link.fitted,\n",
       "a:link.sk-estimator-doc-link.fitted,\n",
       "a:visited.sk-estimator-doc-link.fitted {\n",
       "  /* fitted */\n",
       "  border: var(--sklearn-color-fitted-level-1) 1pt solid;\n",
       "  color: var(--sklearn-color-fitted-level-1);\n",
       "}\n",
       "\n",
       "/* On hover */\n",
       "div.sk-estimator:hover .sk-estimator-doc-link:hover,\n",
       ".sk-estimator-doc-link:hover,\n",
       "div.sk-label-container:hover .sk-estimator-doc-link:hover,\n",
       ".sk-estimator-doc-link:hover {\n",
       "  /* unfitted */\n",
       "  background-color: var(--sklearn-color-unfitted-level-3);\n",
       "  color: var(--sklearn-color-background);\n",
       "  text-decoration: none;\n",
       "}\n",
       "\n",
       "div.sk-estimator.fitted:hover .sk-estimator-doc-link.fitted:hover,\n",
       ".sk-estimator-doc-link.fitted:hover,\n",
       "div.sk-label-container:hover .sk-estimator-doc-link.fitted:hover,\n",
       ".sk-estimator-doc-link.fitted:hover {\n",
       "  /* fitted */\n",
       "  background-color: var(--sklearn-color-fitted-level-3);\n",
       "  color: var(--sklearn-color-background);\n",
       "  text-decoration: none;\n",
       "}\n",
       "\n",
       "/* Span, style for the box shown on hovering the info icon */\n",
       ".sk-estimator-doc-link span {\n",
       "  display: none;\n",
       "  z-index: 9999;\n",
       "  position: relative;\n",
       "  font-weight: normal;\n",
       "  right: .2ex;\n",
       "  padding: .5ex;\n",
       "  margin: .5ex;\n",
       "  width: min-content;\n",
       "  min-width: 20ex;\n",
       "  max-width: 50ex;\n",
       "  color: var(--sklearn-color-text);\n",
       "  box-shadow: 2pt 2pt 4pt #999;\n",
       "  /* unfitted */\n",
       "  background: var(--sklearn-color-unfitted-level-0);\n",
       "  border: .5pt solid var(--sklearn-color-unfitted-level-3);\n",
       "}\n",
       "\n",
       ".sk-estimator-doc-link.fitted span {\n",
       "  /* fitted */\n",
       "  background: var(--sklearn-color-fitted-level-0);\n",
       "  border: var(--sklearn-color-fitted-level-3);\n",
       "}\n",
       "\n",
       ".sk-estimator-doc-link:hover span {\n",
       "  display: block;\n",
       "}\n",
       "\n",
       "/* \"?\"-specific style due to the `<a>` HTML tag */\n",
       "\n",
       "#sk-container-id-1 a.estimator_doc_link {\n",
       "  float: right;\n",
       "  font-size: 1rem;\n",
       "  line-height: 1em;\n",
       "  font-family: monospace;\n",
       "  background-color: var(--sklearn-color-background);\n",
       "  border-radius: 1rem;\n",
       "  height: 1rem;\n",
       "  width: 1rem;\n",
       "  text-decoration: none;\n",
       "  /* unfitted */\n",
       "  color: var(--sklearn-color-unfitted-level-1);\n",
       "  border: var(--sklearn-color-unfitted-level-1) 1pt solid;\n",
       "}\n",
       "\n",
       "#sk-container-id-1 a.estimator_doc_link.fitted {\n",
       "  /* fitted */\n",
       "  border: var(--sklearn-color-fitted-level-1) 1pt solid;\n",
       "  color: var(--sklearn-color-fitted-level-1);\n",
       "}\n",
       "\n",
       "/* On hover */\n",
       "#sk-container-id-1 a.estimator_doc_link:hover {\n",
       "  /* unfitted */\n",
       "  background-color: var(--sklearn-color-unfitted-level-3);\n",
       "  color: var(--sklearn-color-background);\n",
       "  text-decoration: none;\n",
       "}\n",
       "\n",
       "#sk-container-id-1 a.estimator_doc_link.fitted:hover {\n",
       "  /* fitted */\n",
       "  background-color: var(--sklearn-color-fitted-level-3);\n",
       "}\n",
       "</style><div id=\"sk-container-id-1\" class=\"sk-top-container\"><div class=\"sk-text-repr-fallback\"><pre>Pipeline(steps=[(&#x27;preprocessor&#x27;,\n",
       "                 ColumnTransformer(transformers=[(&#x27;robust&#x27;, RobustScaler(),\n",
       "                                                  [&#x27;Coolant_Temperature&#x27;,\n",
       "                                                   &#x27;Torque(Nm)&#x27;,\n",
       "                                                   &#x27;Hydraulic_Pressure(Pa)&#x27;,\n",
       "                                                   &#x27;Cutting(N)&#x27;,\n",
       "                                                   &#x27;Spindle_Speed(RPS)&#x27;]),\n",
       "                                                 (&#x27;standard&#x27;, StandardScaler(),\n",
       "                                                  [&#x27;Hydraulic_Oil_Temperature&#x27;,\n",
       "                                                   &#x27;Spindle_Bearing_Temperature&#x27;,\n",
       "                                                   &#x27;Spindle_Vibration&#x27;,\n",
       "                                                   &#x27;Tool_Vibration&#x27;,\n",
       "                                                   &#x27;Voltage(volts)&#x27;,\n",
       "                                                   &#x27;Coolant_Pressure(Pa)&#x27;...\n",
       "                               grow_policy=None, importance_type=None,\n",
       "                               interaction_constraints=None,\n",
       "                               learning_rate=0.028426456786201912, max_bin=None,\n",
       "                               max_cat_threshold=None, max_cat_to_onehot=None,\n",
       "                               max_delta_step=None, max_depth=9,\n",
       "                               max_leaves=None, min_child_weight=None,\n",
       "                               missing=nan, monotone_constraints=None,\n",
       "                               multi_strategy=None, n_estimators=300,\n",
       "                               n_jobs=None, num_parallel_tree=None,\n",
       "                               random_state=42, ...))])</pre><b>In a Jupyter environment, please rerun this cell to show the HTML representation or trust the notebook. <br />On GitHub, the HTML representation is unable to render, please try loading this page with nbviewer.org.</b></div><div class=\"sk-container\" hidden><div class=\"sk-item sk-dashed-wrapped\"><div class=\"sk-label-container\"><div class=\"sk-label fitted sk-toggleable\"><input class=\"sk-toggleable__control sk-hidden--visually\" id=\"sk-estimator-id-1\" type=\"checkbox\" ><label for=\"sk-estimator-id-1\" class=\"sk-toggleable__label fitted sk-toggleable__label-arrow\"><div><div>Pipeline</div></div><div><a class=\"sk-estimator-doc-link fitted\" rel=\"noreferrer\" target=\"_blank\" href=\"https://scikit-learn.org/1.6/modules/generated/sklearn.pipeline.Pipeline.html\">?<span>Documentation for Pipeline</span></a><span class=\"sk-estimator-doc-link fitted\">i<span>Fitted</span></span></div></label><div class=\"sk-toggleable__content fitted\"><pre>Pipeline(steps=[(&#x27;preprocessor&#x27;,\n",
       "                 ColumnTransformer(transformers=[(&#x27;robust&#x27;, RobustScaler(),\n",
       "                                                  [&#x27;Coolant_Temperature&#x27;,\n",
       "                                                   &#x27;Torque(Nm)&#x27;,\n",
       "                                                   &#x27;Hydraulic_Pressure(Pa)&#x27;,\n",
       "                                                   &#x27;Cutting(N)&#x27;,\n",
       "                                                   &#x27;Spindle_Speed(RPS)&#x27;]),\n",
       "                                                 (&#x27;standard&#x27;, StandardScaler(),\n",
       "                                                  [&#x27;Hydraulic_Oil_Temperature&#x27;,\n",
       "                                                   &#x27;Spindle_Bearing_Temperature&#x27;,\n",
       "                                                   &#x27;Spindle_Vibration&#x27;,\n",
       "                                                   &#x27;Tool_Vibration&#x27;,\n",
       "                                                   &#x27;Voltage(volts)&#x27;,\n",
       "                                                   &#x27;Coolant_Pressure(Pa)&#x27;...\n",
       "                               grow_policy=None, importance_type=None,\n",
       "                               interaction_constraints=None,\n",
       "                               learning_rate=0.028426456786201912, max_bin=None,\n",
       "                               max_cat_threshold=None, max_cat_to_onehot=None,\n",
       "                               max_delta_step=None, max_depth=9,\n",
       "                               max_leaves=None, min_child_weight=None,\n",
       "                               missing=nan, monotone_constraints=None,\n",
       "                               multi_strategy=None, n_estimators=300,\n",
       "                               n_jobs=None, num_parallel_tree=None,\n",
       "                               random_state=42, ...))])</pre></div> </div></div><div class=\"sk-serial\"><div class=\"sk-item sk-dashed-wrapped\"><div class=\"sk-label-container\"><div class=\"sk-label fitted sk-toggleable\"><input class=\"sk-toggleable__control sk-hidden--visually\" id=\"sk-estimator-id-2\" type=\"checkbox\" ><label for=\"sk-estimator-id-2\" class=\"sk-toggleable__label fitted sk-toggleable__label-arrow\"><div><div>preprocessor: ColumnTransformer</div></div><div><a class=\"sk-estimator-doc-link fitted\" rel=\"noreferrer\" target=\"_blank\" href=\"https://scikit-learn.org/1.6/modules/generated/sklearn.compose.ColumnTransformer.html\">?<span>Documentation for preprocessor: ColumnTransformer</span></a></div></label><div class=\"sk-toggleable__content fitted\"><pre>ColumnTransformer(transformers=[(&#x27;robust&#x27;, RobustScaler(),\n",
       "                                 [&#x27;Coolant_Temperature&#x27;, &#x27;Torque(Nm)&#x27;,\n",
       "                                  &#x27;Hydraulic_Pressure(Pa)&#x27;, &#x27;Cutting(N)&#x27;,\n",
       "                                  &#x27;Spindle_Speed(RPS)&#x27;]),\n",
       "                                (&#x27;standard&#x27;, StandardScaler(),\n",
       "                                 [&#x27;Hydraulic_Oil_Temperature&#x27;,\n",
       "                                  &#x27;Spindle_Bearing_Temperature&#x27;,\n",
       "                                  &#x27;Spindle_Vibration&#x27;, &#x27;Tool_Vibration&#x27;,\n",
       "                                  &#x27;Voltage(volts)&#x27;, &#x27;Coolant_Pressure(Pa)&#x27;,\n",
       "                                  &#x27;Air_System_Pressure(Pa)&#x27;]),\n",
       "                                (&#x27;one-hot-encoder&#x27;, OneHotEncoder(),\n",
       "                                 Index([&#x27;Machine_ID&#x27;], dtype=&#x27;object&#x27;))])</pre></div> </div></div><div class=\"sk-parallel\"><div class=\"sk-parallel-item\"><div class=\"sk-item\"><div class=\"sk-label-container\"><div class=\"sk-label fitted sk-toggleable\"><input class=\"sk-toggleable__control sk-hidden--visually\" id=\"sk-estimator-id-3\" type=\"checkbox\" ><label for=\"sk-estimator-id-3\" class=\"sk-toggleable__label fitted sk-toggleable__label-arrow\"><div><div>robust</div></div></label><div class=\"sk-toggleable__content fitted\"><pre>[&#x27;Coolant_Temperature&#x27;, &#x27;Torque(Nm)&#x27;, &#x27;Hydraulic_Pressure(Pa)&#x27;, &#x27;Cutting(N)&#x27;, &#x27;Spindle_Speed(RPS)&#x27;]</pre></div> </div></div><div class=\"sk-serial\"><div class=\"sk-item\"><div class=\"sk-estimator fitted sk-toggleable\"><input class=\"sk-toggleable__control sk-hidden--visually\" id=\"sk-estimator-id-4\" type=\"checkbox\" ><label for=\"sk-estimator-id-4\" class=\"sk-toggleable__label fitted sk-toggleable__label-arrow\"><div><div>RobustScaler</div></div><div><a class=\"sk-estimator-doc-link fitted\" rel=\"noreferrer\" target=\"_blank\" href=\"https://scikit-learn.org/1.6/modules/generated/sklearn.preprocessing.RobustScaler.html\">?<span>Documentation for RobustScaler</span></a></div></label><div class=\"sk-toggleable__content fitted\"><pre>RobustScaler()</pre></div> </div></div></div></div></div><div class=\"sk-parallel-item\"><div class=\"sk-item\"><div class=\"sk-label-container\"><div class=\"sk-label fitted sk-toggleable\"><input class=\"sk-toggleable__control sk-hidden--visually\" id=\"sk-estimator-id-5\" type=\"checkbox\" ><label for=\"sk-estimator-id-5\" class=\"sk-toggleable__label fitted sk-toggleable__label-arrow\"><div><div>standard</div></div></label><div class=\"sk-toggleable__content fitted\"><pre>[&#x27;Hydraulic_Oil_Temperature&#x27;, &#x27;Spindle_Bearing_Temperature&#x27;, &#x27;Spindle_Vibration&#x27;, &#x27;Tool_Vibration&#x27;, &#x27;Voltage(volts)&#x27;, &#x27;Coolant_Pressure(Pa)&#x27;, &#x27;Air_System_Pressure(Pa)&#x27;]</pre></div> </div></div><div class=\"sk-serial\"><div class=\"sk-item\"><div class=\"sk-estimator fitted sk-toggleable\"><input class=\"sk-toggleable__control sk-hidden--visually\" id=\"sk-estimator-id-6\" type=\"checkbox\" ><label for=\"sk-estimator-id-6\" class=\"sk-toggleable__label fitted sk-toggleable__label-arrow\"><div><div>StandardScaler</div></div><div><a class=\"sk-estimator-doc-link fitted\" rel=\"noreferrer\" target=\"_blank\" href=\"https://scikit-learn.org/1.6/modules/generated/sklearn.preprocessing.StandardScaler.html\">?<span>Documentation for StandardScaler</span></a></div></label><div class=\"sk-toggleable__content fitted\"><pre>StandardScaler()</pre></div> </div></div></div></div></div><div class=\"sk-parallel-item\"><div class=\"sk-item\"><div class=\"sk-label-container\"><div class=\"sk-label fitted sk-toggleable\"><input class=\"sk-toggleable__control sk-hidden--visually\" id=\"sk-estimator-id-7\" type=\"checkbox\" ><label for=\"sk-estimator-id-7\" class=\"sk-toggleable__label fitted sk-toggleable__label-arrow\"><div><div>one-hot-encoder</div></div></label><div class=\"sk-toggleable__content fitted\"><pre>Index([&#x27;Machine_ID&#x27;], dtype=&#x27;object&#x27;)</pre></div> </div></div><div class=\"sk-serial\"><div class=\"sk-item\"><div class=\"sk-estimator fitted sk-toggleable\"><input class=\"sk-toggleable__control sk-hidden--visually\" id=\"sk-estimator-id-8\" type=\"checkbox\" ><label for=\"sk-estimator-id-8\" class=\"sk-toggleable__label fitted sk-toggleable__label-arrow\"><div><div>OneHotEncoder</div></div><div><a class=\"sk-estimator-doc-link fitted\" rel=\"noreferrer\" target=\"_blank\" href=\"https://scikit-learn.org/1.6/modules/generated/sklearn.preprocessing.OneHotEncoder.html\">?<span>Documentation for OneHotEncoder</span></a></div></label><div class=\"sk-toggleable__content fitted\"><pre>OneHotEncoder()</pre></div> </div></div></div></div></div></div></div><div class=\"sk-item\"><div class=\"sk-estimator fitted sk-toggleable\"><input class=\"sk-toggleable__control sk-hidden--visually\" id=\"sk-estimator-id-9\" type=\"checkbox\" ><label for=\"sk-estimator-id-9\" class=\"sk-toggleable__label fitted sk-toggleable__label-arrow\"><div><div>XGBClassifier</div></div></label><div class=\"sk-toggleable__content fitted\"><pre>XGBClassifier(base_score=None, booster=None, callbacks=None,\n",
       "              colsample_bylevel=None, colsample_bynode=None,\n",
       "              colsample_bytree=0.6443609995566798, device=None,\n",
       "              early_stopping_rounds=None, enable_categorical=False,\n",
       "              eval_metric=&#x27;auc&#x27;, feature_types=None, gamma=0.7343284941498534,\n",
       "              grow_policy=None, importance_type=None,\n",
       "              interaction_constraints=None, learning_rate=0.028426456786201912,\n",
       "              max_bin=None, max_cat_threshold=None, max_cat_to_onehot=None,\n",
       "              max_delta_step=None, max_depth=9, max_leaves=None,\n",
       "              min_child_weight=None, missing=nan, monotone_constraints=None,\n",
       "              multi_strategy=None, n_estimators=300, n_jobs=None,\n",
       "              num_parallel_tree=None, random_state=42, ...)</pre></div> </div></div></div></div></div></div>"
      ],
      "text/plain": [
       "Pipeline(steps=[('preprocessor',\n",
       "                 ColumnTransformer(transformers=[('robust', RobustScaler(),\n",
       "                                                  ['Coolant_Temperature',\n",
       "                                                   'Torque(Nm)',\n",
       "                                                   'Hydraulic_Pressure(Pa)',\n",
       "                                                   'Cutting(N)',\n",
       "                                                   'Spindle_Speed(RPS)']),\n",
       "                                                 ('standard', StandardScaler(),\n",
       "                                                  ['Hydraulic_Oil_Temperature',\n",
       "                                                   'Spindle_Bearing_Temperature',\n",
       "                                                   'Spindle_Vibration',\n",
       "                                                   'Tool_Vibration',\n",
       "                                                   'Voltage(volts)',\n",
       "                                                   'Coolant_Pressure(Pa)'...\n",
       "                               grow_policy=None, importance_type=None,\n",
       "                               interaction_constraints=None,\n",
       "                               learning_rate=0.028426456786201912, max_bin=None,\n",
       "                               max_cat_threshold=None, max_cat_to_onehot=None,\n",
       "                               max_delta_step=None, max_depth=9,\n",
       "                               max_leaves=None, min_child_weight=None,\n",
       "                               missing=nan, monotone_constraints=None,\n",
       "                               multi_strategy=None, n_estimators=300,\n",
       "                               n_jobs=None, num_parallel_tree=None,\n",
       "                               random_state=42, ...))])"
      ]
     },
     "execution_count": 8,
     "metadata": {},
     "output_type": "execute_result"
    }
   ],
   "source": [
    "# Cross-validation function\n",
    "def cross_validate_model(model):\n",
    "    skf = StratifiedKFold(n_splits=5, shuffle=True, random_state=42)\n",
    "    f1_scores, precision_scores, recall_scores, roc_auc_scores = [], [], [], []\n",
    "    \n",
    "    for train_idx, val_idx in skf.split(X_train, y_train):\n",
    "        X_train_fold, X_val_fold = X_train.iloc[train_idx], X_train.iloc[val_idx]\n",
    "        y_train_fold, y_val_fold = y_train[train_idx], y_train[val_idx]\n",
    "        \n",
    "        pipeline = Pipeline([\n",
    "            ('preprocessor', preprocessor),\n",
    "            ('classifier', model)\n",
    "        ])\n",
    "        \n",
    "        pipeline.fit(X_train_fold, y_train_fold)\n",
    "        y_pred = pipeline.predict(X_val_fold)\n",
    "        y_prob = pipeline.predict_proba(X_val_fold)[:, 1] if hasattr(model, 'predict_proba') else None\n",
    "        \n",
    "        f1_scores.append(f1_score(y_val_fold, y_pred))\n",
    "        precision_scores.append(precision_score(y_val_fold, y_pred))\n",
    "        recall_scores.append(recall_score(y_val_fold, y_pred))\n",
    "        roc_auc_scores.append(roc_auc_score(y_val_fold, y_prob))\n",
    "    \n",
    "    return np.mean([np.mean(f1_scores), np.mean(precision_scores), np.mean(recall_scores), np.mean(roc_auc_scores)])\n",
    "\n",
    "# Define Optuna objective functions for each model\n",
    "def objective_xgb(trial):\n",
    "    params = {\n",
    "        'n_estimators': trial.suggest_int('n_estimators', 100, 500, step=50),\n",
    "        'max_depth': trial.suggest_int('max_depth', 3, 12),\n",
    "        'learning_rate': trial.suggest_loguniform('learning_rate', 0.01, 0.3),\n",
    "        'subsample': trial.suggest_float('subsample', 0.6, 1.0),\n",
    "        'colsample_bytree': trial.suggest_float('colsample_bytree', 0.6, 1.0),\n",
    "        'gamma': trial.suggest_float('gamma', 0, 10),\n",
    "        'reg_alpha': trial.suggest_float('reg_alpha', 0, 10),\n",
    "        'reg_lambda': trial.suggest_float('reg_lambda', 0, 10),\n",
    "        'random_state': 42,\n",
    "       # 'use_label_encoder': False,\n",
    "        'eval_metric': 'auc'\n",
    "    }\n",
    "    return cross_validate_model(xgb.XGBClassifier(**params))\n",
    "\n",
    "\n",
    "def objective_gb(trial):\n",
    "    params = {\n",
    "        'n_estimators': trial.suggest_int('n_estimators', 100, 500, step=50),\n",
    "        'learning_rate': trial.suggest_loguniform('learning_rate', 0.01, 0.3),\n",
    "        'max_depth': trial.suggest_int('max_depth', 3, 12),\n",
    "        'subsample': trial.suggest_float('subsample', 0.6, 1.0),\n",
    "        'random_state': 42\n",
    "    }\n",
    "    return cross_validate_model(GradientBoostingClassifier(**params))\n",
    "\n",
    "\n",
    "\n",
    "# Run Optuna for each model\n",
    "study_xgb = optuna.create_study(direction='maximize')\n",
    "study_xgb.optimize(objective_xgb, n_trials=50, timeout=1800)\n",
    "\n",
    "study_gb = optuna.create_study(direction='maximize')\n",
    "study_gb.optimize(objective_gb, n_trials=50, timeout=1800)\n",
    "\n",
    "# Train best models\n",
    "best_gb = Pipeline([\n",
    "    ('preprocessor', preprocessor),\n",
    "    ('classifier', GradientBoostingClassifier(**study_gb.best_params, random_state=42))\n",
    "])\n",
    "best_gb.fit(X_train, y_train)\n",
    "\n",
    "best_xgb = Pipeline([\n",
    "    ('preprocessor', preprocessor),\n",
    "    ('classifier', xgb.XGBClassifier(**study_xgb.best_params, random_state=42, eval_metric='auc'))\n",
    "])\n",
    "best_xgb.fit(X_train, y_train)\n",
    "\n"
   ]
  },
  {
   "attachments": {},
   "cell_type": "markdown",
   "metadata": {},
   "source": [
    "#### Get the best parameters for each model"
   ]
  },
  {
   "cell_type": "code",
   "execution_count": 10,
   "metadata": {},
   "outputs": [
    {
     "name": "stdout",
     "output_type": "stream",
     "text": [
      "Gradient Boost Best params:\n",
      "\tn_estimators: 300\n",
      "\tlearning_rate: 0.23886712950571054\n",
      "\tmax_depth: 4\n",
      "\tsubsample: 0.8149183758281825\n"
     ]
    }
   ],
   "source": [
    "# print the best hyperparameters for the gradient boost\n",
    "print(\"Gradient Boost Best params:\")\n",
    "for key, value in study_gb.best_params.items():\n",
    "    print(f\"\\t{key}: {value}\")"
   ]
  },
  {
   "cell_type": "code",
   "execution_count": 11,
   "metadata": {},
   "outputs": [
    {
     "name": "stdout",
     "output_type": "stream",
     "text": [
      "XGBoost Best params:\n",
      "\tn_estimators: 350\n",
      "\tmax_depth: 11\n",
      "\tlearning_rate: 0.035243360357217\n",
      "\tsubsample: 0.9240531497974633\n",
      "\tcolsample_bytree: 0.6557066685331085\n",
      "\tgamma: 0.4557966486358803\n",
      "\treg_alpha: 0.5477850744460059\n",
      "\treg_lambda: 3.6385284153625395\n"
     ]
    }
   ],
   "source": [
    "# print the best hyperparameters for the XG Boost\n",
    "print(\"XGBoost Best params:\")\n",
    "for key, value in study_xgb.best_params.items():\n",
    "    print(f\"\\t{key}: {value}\")"
   ]
  },
  {
   "attachments": {},
   "cell_type": "markdown",
   "metadata": {},
   "source": [
    "### Evaluate model on the Test set\n",
    "\n",
    "#### Interpretation of Test Set Results\n",
    "\n",
    "1. XGBoost (0.9991 ROC AUC, 0.9816 F1-Score)\n",
    "+ Maintains excellent performance on the test set, with a very high ROC AUC and F1-Score.\n",
    "+ This indicates strong generalization ability, meaning it's likely to perform well on new, unseen data.\n",
    "\n",
    "2. Gradient Boosting (0.9989 ROC AUC, 0.9857 F1-Score)\n",
    "+ Also shows outstanding performance on the test set, comparable to XGBoost.\n",
    "+ Achieves a slightly higher F1-Score than XGBoost, indicating a marginally better balance of precision and recall.\n",
    "\n",
    "3. Random Forest (0.9989 ROC AUC, 0.9837 F1-Score)\n",
    "+ Performs very well on the test set, with a high ROC AUC and F1-Score.\n",
    "+ While slightly behind XGBoost and Gradient Boosting, it's still a strong model.\n",
    "\n",
    "**Observations**\n",
    "\n",
    "All three models generalize well to the test set, confirming their strong performance observed during training and validation.\n",
    "Gradient Boosting has a slight edge in F1-Score on the test set, suggesting a better balance of precision and recall compared to XGBoost.\n",
    "The performance differences between the models are relatively small, indicating that all three are good candidates for deployment.\n",
    "\n",
    "**Recommendations**\n",
    "\n",
    "Model Selection:\n",
    "\n",
    "Our primary focus in selecting a predictive model is maximizing accuracy in identifying potential machine downtime. While computational efficiency and interpretability are valuable,  the ability to proactively prevent downtime is paramount.\n",
    "\n",
    "In this regard, Gradient Boosting emerged as the top performer, achieving the highest F1-score among the models evaluated. This signifies its superior balance between precision (minimizing false alarms) and recall (capturing the majority of actual downtime events).\n",
    "\n",
    "Therefore, we will be deploying Gradient Boosting as our predictive model to proactively mitigate machine downtime and enhance operational efficiency.\n"
   ]
  },
  {
   "cell_type": "code",
   "execution_count": 12,
   "metadata": {},
   "outputs": [
    {
     "name": "stdout",
     "output_type": "stream",
     "text": [
      "               Model  Precision  Recall  F1-Score  ROC AUC\n",
      "0            XGBoost     0.9798  0.9837    0.9817   0.9987\n",
      "1  Gradient Boosting     0.9918  0.9837    0.9878   0.9993\n"
     ]
    }
   ],
   "source": [
    "# Evaluate on test set\n",
    "def evaluate_model(model, name):\n",
    "    y_pred = model.predict(X_test)\n",
    "    y_prob = model.predict_proba(X_test)[:, 1] if hasattr(model, 'predict_proba') else None\n",
    "    return {\n",
    "        'Model': name,\n",
    "        'Precision': round(precision_score(y_test, y_pred), 4),\n",
    "        'Recall': round(recall_score(y_test, y_pred), 4),\n",
    "        'F1-Score': round(f1_score(y_test, y_pred), 4),\n",
    "        'ROC AUC': round(roc_auc_score(y_test, y_prob) , 4) if y_prob is not None else 'N/A'\n",
    "    }\n",
    "\n",
    "results = [\n",
    "    evaluate_model(best_xgb, 'XGBoost'),\n",
    "    evaluate_model(best_gb, 'Gradient Boosting')\n",
    "]\n",
    "\n",
    "import pandas as pd\n",
    "results_df = pd.DataFrame(results).sort_values(by=[])\n",
    "print(results_df)"
   ]
  },
  {
   "attachments": {},
   "cell_type": "markdown",
   "metadata": {},
   "source": [
    "### Plot Hyperparameter Importance\n",
    "\n",
    "Visualize how much each hyperparameter contributes to model performance"
   ]
  },
  {
   "cell_type": "code",
   "execution_count": 9,
   "metadata": {},
   "outputs": [
    {
     "data": {
      "application/vnd.plotly.v1+json": {
       "config": {
        "plotlyServerURL": "https://plot.ly",
        "staticPlot": true
       },
       "data": [
        {
         "cliponaxis": false,
         "hovertemplate": [
          "n_estimators (IntDistribution): 0.10677990093485007<extra></extra>",
          "subsample (FloatDistribution): 0.1174157979760831<extra></extra>",
          "learning_rate (FloatDistribution): 0.12220487709874148<extra></extra>",
          "max_depth (IntDistribution): 0.6535994239903253<extra></extra>"
         ],
         "name": "Objective Value",
         "orientation": "h",
         "text": [
          "0.11",
          "0.12",
          "0.12",
          "0.65"
         ],
         "textposition": "outside",
         "type": "bar",
         "x": [
          0.10677990093485007,
          0.1174157979760831,
          0.12220487709874148,
          0.6535994239903253
         ],
         "y": [
          "n_estimators",
          "subsample",
          "learning_rate",
          "max_depth"
         ]
        }
       ],
       "layout": {
        "template": {
         "data": {
          "bar": [
           {
            "error_x": {
             "color": "#2a3f5f"
            },
            "error_y": {
             "color": "#2a3f5f"
            },
            "marker": {
             "line": {
              "color": "#E5ECF6",
              "width": 0.5
             },
             "pattern": {
              "fillmode": "overlay",
              "size": 10,
              "solidity": 0.2
             }
            },
            "type": "bar"
           }
          ],
          "barpolar": [
           {
            "marker": {
             "line": {
              "color": "#E5ECF6",
              "width": 0.5
             },
             "pattern": {
              "fillmode": "overlay",
              "size": 10,
              "solidity": 0.2
             }
            },
            "type": "barpolar"
           }
          ],
          "carpet": [
           {
            "aaxis": {
             "endlinecolor": "#2a3f5f",
             "gridcolor": "white",
             "linecolor": "white",
             "minorgridcolor": "white",
             "startlinecolor": "#2a3f5f"
            },
            "baxis": {
             "endlinecolor": "#2a3f5f",
             "gridcolor": "white",
             "linecolor": "white",
             "minorgridcolor": "white",
             "startlinecolor": "#2a3f5f"
            },
            "type": "carpet"
           }
          ],
          "choropleth": [
           {
            "colorbar": {
             "outlinewidth": 0,
             "ticks": ""
            },
            "type": "choropleth"
           }
          ],
          "contour": [
           {
            "colorbar": {
             "outlinewidth": 0,
             "ticks": ""
            },
            "colorscale": [
             [
              0,
              "#0d0887"
             ],
             [
              0.1111111111111111,
              "#46039f"
             ],
             [
              0.2222222222222222,
              "#7201a8"
             ],
             [
              0.3333333333333333,
              "#9c179e"
             ],
             [
              0.4444444444444444,
              "#bd3786"
             ],
             [
              0.5555555555555556,
              "#d8576b"
             ],
             [
              0.6666666666666666,
              "#ed7953"
             ],
             [
              0.7777777777777778,
              "#fb9f3a"
             ],
             [
              0.8888888888888888,
              "#fdca26"
             ],
             [
              1,
              "#f0f921"
             ]
            ],
            "type": "contour"
           }
          ],
          "contourcarpet": [
           {
            "colorbar": {
             "outlinewidth": 0,
             "ticks": ""
            },
            "type": "contourcarpet"
           }
          ],
          "heatmap": [
           {
            "colorbar": {
             "outlinewidth": 0,
             "ticks": ""
            },
            "colorscale": [
             [
              0,
              "#0d0887"
             ],
             [
              0.1111111111111111,
              "#46039f"
             ],
             [
              0.2222222222222222,
              "#7201a8"
             ],
             [
              0.3333333333333333,
              "#9c179e"
             ],
             [
              0.4444444444444444,
              "#bd3786"
             ],
             [
              0.5555555555555556,
              "#d8576b"
             ],
             [
              0.6666666666666666,
              "#ed7953"
             ],
             [
              0.7777777777777778,
              "#fb9f3a"
             ],
             [
              0.8888888888888888,
              "#fdca26"
             ],
             [
              1,
              "#f0f921"
             ]
            ],
            "type": "heatmap"
           }
          ],
          "histogram": [
           {
            "marker": {
             "pattern": {
              "fillmode": "overlay",
              "size": 10,
              "solidity": 0.2
             }
            },
            "type": "histogram"
           }
          ],
          "histogram2d": [
           {
            "colorbar": {
             "outlinewidth": 0,
             "ticks": ""
            },
            "colorscale": [
             [
              0,
              "#0d0887"
             ],
             [
              0.1111111111111111,
              "#46039f"
             ],
             [
              0.2222222222222222,
              "#7201a8"
             ],
             [
              0.3333333333333333,
              "#9c179e"
             ],
             [
              0.4444444444444444,
              "#bd3786"
             ],
             [
              0.5555555555555556,
              "#d8576b"
             ],
             [
              0.6666666666666666,
              "#ed7953"
             ],
             [
              0.7777777777777778,
              "#fb9f3a"
             ],
             [
              0.8888888888888888,
              "#fdca26"
             ],
             [
              1,
              "#f0f921"
             ]
            ],
            "type": "histogram2d"
           }
          ],
          "histogram2dcontour": [
           {
            "colorbar": {
             "outlinewidth": 0,
             "ticks": ""
            },
            "colorscale": [
             [
              0,
              "#0d0887"
             ],
             [
              0.1111111111111111,
              "#46039f"
             ],
             [
              0.2222222222222222,
              "#7201a8"
             ],
             [
              0.3333333333333333,
              "#9c179e"
             ],
             [
              0.4444444444444444,
              "#bd3786"
             ],
             [
              0.5555555555555556,
              "#d8576b"
             ],
             [
              0.6666666666666666,
              "#ed7953"
             ],
             [
              0.7777777777777778,
              "#fb9f3a"
             ],
             [
              0.8888888888888888,
              "#fdca26"
             ],
             [
              1,
              "#f0f921"
             ]
            ],
            "type": "histogram2dcontour"
           }
          ],
          "mesh3d": [
           {
            "colorbar": {
             "outlinewidth": 0,
             "ticks": ""
            },
            "type": "mesh3d"
           }
          ],
          "parcoords": [
           {
            "line": {
             "colorbar": {
              "outlinewidth": 0,
              "ticks": ""
             }
            },
            "type": "parcoords"
           }
          ],
          "pie": [
           {
            "automargin": true,
            "type": "pie"
           }
          ],
          "scatter": [
           {
            "fillpattern": {
             "fillmode": "overlay",
             "size": 10,
             "solidity": 0.2
            },
            "type": "scatter"
           }
          ],
          "scatter3d": [
           {
            "line": {
             "colorbar": {
              "outlinewidth": 0,
              "ticks": ""
             }
            },
            "marker": {
             "colorbar": {
              "outlinewidth": 0,
              "ticks": ""
             }
            },
            "type": "scatter3d"
           }
          ],
          "scattercarpet": [
           {
            "marker": {
             "colorbar": {
              "outlinewidth": 0,
              "ticks": ""
             }
            },
            "type": "scattercarpet"
           }
          ],
          "scattergeo": [
           {
            "marker": {
             "colorbar": {
              "outlinewidth": 0,
              "ticks": ""
             }
            },
            "type": "scattergeo"
           }
          ],
          "scattergl": [
           {
            "marker": {
             "colorbar": {
              "outlinewidth": 0,
              "ticks": ""
             }
            },
            "type": "scattergl"
           }
          ],
          "scattermap": [
           {
            "marker": {
             "colorbar": {
              "outlinewidth": 0,
              "ticks": ""
             }
            },
            "type": "scattermap"
           }
          ],
          "scattermapbox": [
           {
            "marker": {
             "colorbar": {
              "outlinewidth": 0,
              "ticks": ""
             }
            },
            "type": "scattermapbox"
           }
          ],
          "scatterpolar": [
           {
            "marker": {
             "colorbar": {
              "outlinewidth": 0,
              "ticks": ""
             }
            },
            "type": "scatterpolar"
           }
          ],
          "scatterpolargl": [
           {
            "marker": {
             "colorbar": {
              "outlinewidth": 0,
              "ticks": ""
             }
            },
            "type": "scatterpolargl"
           }
          ],
          "scatterternary": [
           {
            "marker": {
             "colorbar": {
              "outlinewidth": 0,
              "ticks": ""
             }
            },
            "type": "scatterternary"
           }
          ],
          "surface": [
           {
            "colorbar": {
             "outlinewidth": 0,
             "ticks": ""
            },
            "colorscale": [
             [
              0,
              "#0d0887"
             ],
             [
              0.1111111111111111,
              "#46039f"
             ],
             [
              0.2222222222222222,
              "#7201a8"
             ],
             [
              0.3333333333333333,
              "#9c179e"
             ],
             [
              0.4444444444444444,
              "#bd3786"
             ],
             [
              0.5555555555555556,
              "#d8576b"
             ],
             [
              0.6666666666666666,
              "#ed7953"
             ],
             [
              0.7777777777777778,
              "#fb9f3a"
             ],
             [
              0.8888888888888888,
              "#fdca26"
             ],
             [
              1,
              "#f0f921"
             ]
            ],
            "type": "surface"
           }
          ],
          "table": [
           {
            "cells": {
             "fill": {
              "color": "#EBF0F8"
             },
             "line": {
              "color": "white"
             }
            },
            "header": {
             "fill": {
              "color": "#C8D4E3"
             },
             "line": {
              "color": "white"
             }
            },
            "type": "table"
           }
          ]
         },
         "layout": {
          "annotationdefaults": {
           "arrowcolor": "#2a3f5f",
           "arrowhead": 0,
           "arrowwidth": 1
          },
          "autotypenumbers": "strict",
          "coloraxis": {
           "colorbar": {
            "outlinewidth": 0,
            "ticks": ""
           }
          },
          "colorscale": {
           "diverging": [
            [
             0,
             "#8e0152"
            ],
            [
             0.1,
             "#c51b7d"
            ],
            [
             0.2,
             "#de77ae"
            ],
            [
             0.3,
             "#f1b6da"
            ],
            [
             0.4,
             "#fde0ef"
            ],
            [
             0.5,
             "#f7f7f7"
            ],
            [
             0.6,
             "#e6f5d0"
            ],
            [
             0.7,
             "#b8e186"
            ],
            [
             0.8,
             "#7fbc41"
            ],
            [
             0.9,
             "#4d9221"
            ],
            [
             1,
             "#276419"
            ]
           ],
           "sequential": [
            [
             0,
             "#0d0887"
            ],
            [
             0.1111111111111111,
             "#46039f"
            ],
            [
             0.2222222222222222,
             "#7201a8"
            ],
            [
             0.3333333333333333,
             "#9c179e"
            ],
            [
             0.4444444444444444,
             "#bd3786"
            ],
            [
             0.5555555555555556,
             "#d8576b"
            ],
            [
             0.6666666666666666,
             "#ed7953"
            ],
            [
             0.7777777777777778,
             "#fb9f3a"
            ],
            [
             0.8888888888888888,
             "#fdca26"
            ],
            [
             1,
             "#f0f921"
            ]
           ],
           "sequentialminus": [
            [
             0,
             "#0d0887"
            ],
            [
             0.1111111111111111,
             "#46039f"
            ],
            [
             0.2222222222222222,
             "#7201a8"
            ],
            [
             0.3333333333333333,
             "#9c179e"
            ],
            [
             0.4444444444444444,
             "#bd3786"
            ],
            [
             0.5555555555555556,
             "#d8576b"
            ],
            [
             0.6666666666666666,
             "#ed7953"
            ],
            [
             0.7777777777777778,
             "#fb9f3a"
            ],
            [
             0.8888888888888888,
             "#fdca26"
            ],
            [
             1,
             "#f0f921"
            ]
           ]
          },
          "colorway": [
           "#636efa",
           "#EF553B",
           "#00cc96",
           "#ab63fa",
           "#FFA15A",
           "#19d3f3",
           "#FF6692",
           "#B6E880",
           "#FF97FF",
           "#FECB52"
          ],
          "font": {
           "color": "#2a3f5f"
          },
          "geo": {
           "bgcolor": "white",
           "lakecolor": "white",
           "landcolor": "#E5ECF6",
           "showlakes": true,
           "showland": true,
           "subunitcolor": "white"
          },
          "hoverlabel": {
           "align": "left"
          },
          "hovermode": "closest",
          "mapbox": {
           "style": "light"
          },
          "paper_bgcolor": "white",
          "plot_bgcolor": "#E5ECF6",
          "polar": {
           "angularaxis": {
            "gridcolor": "white",
            "linecolor": "white",
            "ticks": ""
           },
           "bgcolor": "#E5ECF6",
           "radialaxis": {
            "gridcolor": "white",
            "linecolor": "white",
            "ticks": ""
           }
          },
          "scene": {
           "xaxis": {
            "backgroundcolor": "#E5ECF6",
            "gridcolor": "white",
            "gridwidth": 2,
            "linecolor": "white",
            "showbackground": true,
            "ticks": "",
            "zerolinecolor": "white"
           },
           "yaxis": {
            "backgroundcolor": "#E5ECF6",
            "gridcolor": "white",
            "gridwidth": 2,
            "linecolor": "white",
            "showbackground": true,
            "ticks": "",
            "zerolinecolor": "white"
           },
           "zaxis": {
            "backgroundcolor": "#E5ECF6",
            "gridcolor": "white",
            "gridwidth": 2,
            "linecolor": "white",
            "showbackground": true,
            "ticks": "",
            "zerolinecolor": "white"
           }
          },
          "shapedefaults": {
           "line": {
            "color": "#2a3f5f"
           }
          },
          "ternary": {
           "aaxis": {
            "gridcolor": "white",
            "linecolor": "white",
            "ticks": ""
           },
           "baxis": {
            "gridcolor": "white",
            "linecolor": "white",
            "ticks": ""
           },
           "bgcolor": "#E5ECF6",
           "caxis": {
            "gridcolor": "white",
            "linecolor": "white",
            "ticks": ""
           }
          },
          "title": {
           "x": 0.05
          },
          "xaxis": {
           "automargin": true,
           "gridcolor": "white",
           "linecolor": "white",
           "ticks": "",
           "title": {
            "standoff": 15
           },
           "zerolinecolor": "white",
           "zerolinewidth": 2
          },
          "yaxis": {
           "automargin": true,
           "gridcolor": "white",
           "linecolor": "white",
           "ticks": "",
           "title": {
            "standoff": 15
           },
           "zerolinecolor": "white",
           "zerolinewidth": 2
          }
         }
        },
        "title": {
         "text": "Hyperparameter Importances"
        },
        "xaxis": {
         "title": {
          "text": "Hyperparameter Importance"
         }
        },
        "yaxis": {
         "title": {
          "text": "Hyperparameter"
         }
        }
       }
      }
     },
     "metadata": {},
     "output_type": "display_data"
    }
   ],
   "source": [
    "from optuna.visualization import plot_param_importances\n",
    "\n",
    "plotly_config = {\"staticPlot\": True}\n",
    "fig = plot_param_importances(study_gb)\n",
    "fig.show(config=plotly_config)"
   ]
  },
  {
   "attachments": {},
   "cell_type": "markdown",
   "metadata": {},
   "source": []
  }
 ],
 "metadata": {
  "kernelspec": {
   "display_name": "machineind",
   "language": "python",
   "name": "python3"
  },
  "language_info": {
   "codemirror_mode": {
    "name": "ipython",
    "version": 3
   },
   "file_extension": ".py",
   "mimetype": "text/x-python",
   "name": "python",
   "nbconvert_exporter": "python",
   "pygments_lexer": "ipython3",
   "version": "3.9.0"
  },
  "orig_nbformat": 4
 },
 "nbformat": 4,
 "nbformat_minor": 2
}
