{
 "cells": [
  {
   "attachments": {},
   "cell_type": "markdown",
   "metadata": {},
   "source": [
    "## Exploratory Data Analysis\n",
    "In this first level of data exploration, I will analyze and describe key aspects of the dataset, focusing on uncovering insights from my perspective. This level is designed for beginners, but I aim to provide a structured and thoughtful approach to answering the given questions. Specifically, I will explore the following:\n",
    "\n",
    "+ What is the first and last date readings were taken on?\n",
    "+ What is the average torque?\n",
    "+ Which assembly line has the highest readings of machine downtime?\n",
    "\n",
    "Through this process, I will apply fundamental data analysis techniques to extract meaningful insights and set the foundation for deeper exploration in subsequent levels."
   ]
  },
  {
   "cell_type": "code",
   "execution_count": 1,
   "metadata": {},
   "outputs": [],
   "source": [
    "# import the necessary libraries\n",
    "import pandas as pd\n",
    "import numpy as np\n",
    "import seaborn as sns\n",
    "import matplotlib.pyplot as plt\n"
   ]
  },
  {
   "cell_type": "code",
   "execution_count": 6,
   "metadata": {},
   "outputs": [
    {
     "data": {
      "text/plain": [
       "Index(['Unnamed: 0', 'Date', 'Machine_ID', 'Assembly_Line_No',\n",
       "       'Coolant_Temperature', 'Hydraulic_Oil_Temperature',\n",
       "       'Spindle_Bearing_Temperature', 'Spindle_Vibration', 'Tool_Vibration',\n",
       "       'Voltage(volts)', 'Torque(Nm)', 'Downtime', 'Hydraulic_Pressure(Pa)',\n",
       "       'Coolant_Pressure(Pa)', 'Air_System_Pressure(Pa)', 'Cutting(N)',\n",
       "       'Spindle_Speed(RPS)'],\n",
       "      dtype='object')"
      ]
     },
     "execution_count": 6,
     "metadata": {},
     "output_type": "execute_result"
    }
   ],
   "source": [
    "# read the cleaned data as a dataframe\n",
    "machine_ori = pd.read_csv('../data/machine_downtime_cleaned.csv')\n",
    "machine_ori.columns"
   ]
  },
  {
   "attachments": {},
   "cell_type": "markdown",
   "metadata": {},
   "source": [
    "### 1.1 What is the first and last date readings were taken on?\n",
    "\n",
    "The data from the machine downtime for the company was taken between 11th of November 2021 to 3rd of July 2024. So roughly, we can say that we have about 9 months of machine downtime data\n"
   ]
  },
  {
   "cell_type": "code",
   "execution_count": 5,
   "metadata": {},
   "outputs": [
    {
     "data": {
      "text/plain": [
       "min    2021-11-24\n",
       "max    2022-07-03\n",
       "Name: Date, dtype: object"
      ]
     },
     "execution_count": 5,
     "metadata": {},
     "output_type": "execute_result"
    }
   ],
   "source": [
    "#get the first and last date reading\n",
    "machine_ori['Date'].agg(['min', 'max'])"
   ]
  },
  {
   "attachments": {},
   "cell_type": "markdown",
   "metadata": {},
   "source": [
    "### 1.2 What is the average torque?\n",
    "In this level of data exploration, one of the key tasks is to determine the average torque. However, instead of computing a single overall average, which could introduce bias due to the presence of three different machines on each floor, a more accurate approach is to calculate the average torque for each machine separately. This ensures that we account for variations between different machines and provide a more precise representation of the data.\n",
    "\n",
    "Torque is a crucial measurement in industrial settings, representing the rotational force applied to a machine. It directly impacts the efficiency, performance, and maintenance needs of machinery. Understanding the average torque for each machine allows us to identify potential operational inconsistencies and optimize machine performance.\n",
    "\n",
    "To enhance interpretability, we will visualize the average torque per machine using a well-structured bar chart. This visualization will include appropriate color schemes, annotations, and a clear layout to make the insights more accessible and actionable.\n",
    "\n",
    "### 1.2.1 How close are the troque values to the average? \n",
    "\n",
    "While the average torque gives us an overall idea of the force exerted by each machine, it doesn't tell us how consistent the readings are over time. This is where standard deviation comes in.\n",
    "\n",
    "+ A low standard deviation means the torque values are closely packed around the mean, indicating consistent machine performance.\n",
    "+ A high standard deviation means the torque values fluctuate more, suggesting variability in machine operation, which could be due to load changes, tool wear, or operational inconsistencies.\n",
    "\n",
    "By analyzing standard deviation, we can determine whether a machine maintains stable performance or if there are significant variations that might require further investigation."
   ]
  },
  {
   "attachments": {},
   "cell_type": "markdown",
   "metadata": {},
   "source": [
    "Torque is a measure of the rotational force applied to a machine, expressed in Newton-meters (Nm). It plays a crucial role in determining machine efficiency, stability, and overall performance. In our analysis, we computed the average torque along with the standard deviation for each machine unit:\n",
    "\n",
    "+ Makino-L1-Unit1-2013: 24.98 Nm ± 6.07 Nm\n",
    "+ Makino-L2-Unit1-2015: 25.21 Nm ± 6.22 Nm\n",
    "+ Makino-L3-Unit1-2015: 25.56 Nm ± 6.07 Nm\n",
    "\n",
    "The average torque tells us the typical force exerted by each machine, while the standard deviation (SD) provides insight into how much the torque values fluctuate over time.\n",
    "\n",
    "+ A higher standard deviation (like 6.22 Nm for Makino-L2) indicates greater variation in torque readings, which could be due to changing loads, machine wear, or inconsistent operation.\n",
    "+ A lower standard deviation suggests more stable and predictable performance.\n",
    "\n",
    "By analyzing both metrics together, we can assess machine consistency, detect potential inefficiencies, and ensure optimal operation.\n",
    "\n",
    "**Makino-L2-Unit1-2015** has the highest standard deviation (6.22 Nm), meaning its torque values fluctuate the most. **Makino-L1 and Makino-L3** have a standard deviation of around 6.07 Nm, slightly lower than Makino-L2.\n",
    "\n",
    "Possible Causes:\n",
    "+ Inconsistent workload distribution\n",
    "+ Tool wear or improper calibration\n",
    "+ Irregular material properties affecting \n",
    "\n"
   ]
  },
  {
   "cell_type": "markdown",
   "metadata": {},
   "source": []
  },
  {
   "cell_type": "code",
   "execution_count": 9,
   "metadata": {},
   "outputs": [
    {
     "data": {
      "text/html": [
       "<div>\n",
       "<style scoped>\n",
       "    .dataframe tbody tr th:only-of-type {\n",
       "        vertical-align: middle;\n",
       "    }\n",
       "\n",
       "    .dataframe tbody tr th {\n",
       "        vertical-align: top;\n",
       "    }\n",
       "\n",
       "    .dataframe thead th {\n",
       "        text-align: right;\n",
       "    }\n",
       "</style>\n",
       "<table border=\"1\" class=\"dataframe\">\n",
       "  <thead>\n",
       "    <tr style=\"text-align: right;\">\n",
       "      <th></th>\n",
       "      <th>Machine_ID</th>\n",
       "      <th>mean</th>\n",
       "      <th>std</th>\n",
       "    </tr>\n",
       "  </thead>\n",
       "  <tbody>\n",
       "    <tr>\n",
       "      <th>0</th>\n",
       "      <td>Makino-L1-Unit1-2013</td>\n",
       "      <td>24.975462</td>\n",
       "      <td>6.072066</td>\n",
       "    </tr>\n",
       "    <tr>\n",
       "      <th>1</th>\n",
       "      <td>Makino-L2-Unit1-2015</td>\n",
       "      <td>25.209428</td>\n",
       "      <td>6.218479</td>\n",
       "    </tr>\n",
       "    <tr>\n",
       "      <th>2</th>\n",
       "      <td>Makino-L3-Unit1-2015</td>\n",
       "      <td>25.555850</td>\n",
       "      <td>6.067492</td>\n",
       "    </tr>\n",
       "  </tbody>\n",
       "</table>\n",
       "</div>"
      ],
      "text/plain": [
       "             Machine_ID       mean       std\n",
       "0  Makino-L1-Unit1-2013  24.975462  6.072066\n",
       "1  Makino-L2-Unit1-2015  25.209428  6.218479\n",
       "2  Makino-L3-Unit1-2015  25.555850  6.067492"
      ]
     },
     "execution_count": 9,
     "metadata": {},
     "output_type": "execute_result"
    }
   ],
   "source": [
    "# get the average torque\n",
    "# Grouping by machine and calculating average torque\n",
    "avg_torque_per_machine = machine_ori.groupby('Machine_ID')['Torque(Nm)'].agg(['mean', 'std']).reset_index()\n",
    "avg_torque_per_machine"
   ]
  },
  {
   "attachments": {},
   "cell_type": "markdown",
   "metadata": {},
   "source": [
    "### 1.3 Assembly Line No with highest reading of machine failures\n",
    "\n",
    "In addition to analyzing torque, we also examined the number of machine failures across different assembly lines. Machine failures can be caused by various factors, such as mechanical wear, excessive loads, improper calibration, or environmental conditions. Below are the recorded failures for each assembly line:\n",
    "\n",
    "+ Shopfloor-L1: 454 failures (Highest)\n",
    "+ Shopfloor-L3: 415 failures\n",
    "+ Shopfloor-L2: 396 failures (Lowest)\n",
    "\n",
    "Key Observations:\n",
    "+ Shopfloor-L1 has the highest number of failures (454), indicating that machines in this section may be experiencing higher stress, improper maintenance, or operational inefficiencies.\n",
    "+ Shopfloor-L3 is slightly better but still has a significant failure count (415).\n",
    "+ Shopfloor-L2 has the lowest failure count (396), suggesting it may have better maintenance or less intensive workloads."
   ]
  },
  {
   "cell_type": "code",
   "execution_count": 18,
   "metadata": {},
   "outputs": [
    {
     "data": {
      "text/html": [
       "<div>\n",
       "<style scoped>\n",
       "    .dataframe tbody tr th:only-of-type {\n",
       "        vertical-align: middle;\n",
       "    }\n",
       "\n",
       "    .dataframe tbody tr th {\n",
       "        vertical-align: top;\n",
       "    }\n",
       "\n",
       "    .dataframe thead th {\n",
       "        text-align: right;\n",
       "    }\n",
       "</style>\n",
       "<table border=\"1\" class=\"dataframe\">\n",
       "  <thead>\n",
       "    <tr style=\"text-align: right;\">\n",
       "      <th></th>\n",
       "      <th>Assembly_Line_No</th>\n",
       "      <th>Downtime</th>\n",
       "      <th>count</th>\n",
       "    </tr>\n",
       "  </thead>\n",
       "  <tbody>\n",
       "    <tr>\n",
       "      <th>0</th>\n",
       "      <td>Shopfloor-L1</td>\n",
       "      <td>Machine_Failure</td>\n",
       "      <td>454</td>\n",
       "    </tr>\n",
       "    <tr>\n",
       "      <th>2</th>\n",
       "      <td>Shopfloor-L3</td>\n",
       "      <td>Machine_Failure</td>\n",
       "      <td>415</td>\n",
       "    </tr>\n",
       "    <tr>\n",
       "      <th>1</th>\n",
       "      <td>Shopfloor-L2</td>\n",
       "      <td>Machine_Failure</td>\n",
       "      <td>396</td>\n",
       "    </tr>\n",
       "  </tbody>\n",
       "</table>\n",
       "</div>"
      ],
      "text/plain": [
       "  Assembly_Line_No         Downtime  count\n",
       "0     Shopfloor-L1  Machine_Failure    454\n",
       "2     Shopfloor-L3  Machine_Failure    415\n",
       "1     Shopfloor-L2  Machine_Failure    396"
      ]
     },
     "execution_count": 18,
     "metadata": {},
     "output_type": "execute_result"
    }
   ],
   "source": [
    "# get Number of machine failure that occur on each assembly line\n",
    "machine_failure_reading = machine_ori[machine_ori['Downtime'] =='Machine_Failure'].\\\n",
    "                          groupby('Assembly_Line_No')['Downtime'].value_counts().reset_index()\n",
    "                          \n",
    "machine_failure_reading.sort_values(by = 'count', ascending=False)"
   ]
  },
  {
   "cell_type": "markdown",
   "metadata": {},
   "source": []
  }
 ],
 "metadata": {
  "kernelspec": {
   "display_name": "machineind",
   "language": "python",
   "name": "python3"
  },
  "language_info": {
   "codemirror_mode": {
    "name": "ipython",
    "version": 3
   },
   "file_extension": ".py",
   "mimetype": "text/x-python",
   "name": "python",
   "nbconvert_exporter": "python",
   "pygments_lexer": "ipython3",
   "version": "3.9.0"
  },
  "orig_nbformat": 4
 },
 "nbformat": 4,
 "nbformat_minor": 2
}
